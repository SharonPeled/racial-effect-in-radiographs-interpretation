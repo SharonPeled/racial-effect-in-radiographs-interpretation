{
 "cells": [
  {
   "cell_type": "markdown",
   "id": "e444e587",
   "metadata": {
    "ExecuteTime": {
     "end_time": "2022-07-05T16:37:46.940284Z",
     "start_time": "2022-07-05T16:37:46.892391Z"
    },
    "pycharm": {
     "name": "#%%\n"
    }
   },
   "source": [
    "# Imports"
   ]
  },
  {
   "cell_type": "code",
   "execution_count": 1,
   "id": "0d55693c",
   "metadata": {
    "ExecuteTime": {
     "end_time": "2022-07-05T18:07:16.597464Z",
     "start_time": "2022-07-05T18:07:16.539780Z"
    },
    "pycharm": {
     "name": "#%%\n"
    }
   },
   "outputs": [],
   "source": [
    "%load_ext autoreload\n",
    "%autoreload 2"
   ]
  },
  {
   "cell_type": "code",
   "execution_count": 2,
   "id": "17224e4d",
   "metadata": {
    "ExecuteTime": {
     "end_time": "2022-07-05T18:07:16.841344Z",
     "start_time": "2022-07-05T18:07:16.797184Z"
    },
    "pycharm": {
     "name": "#%%\n"
    }
   },
   "outputs": [],
   "source": [
    "# %reload_ext autoreload"
   ]
  },
  {
   "cell_type": "code",
   "execution_count": 3,
   "id": "454b361c",
   "metadata": {
    "ExecuteTime": {
     "end_time": "2022-07-05T18:07:20.225546Z",
     "start_time": "2022-07-05T18:07:17.246618Z"
    },
    "pycharm": {
     "name": "#%%\n"
    }
   },
   "outputs": [],
   "source": [
    "import pandas as pd\n",
    "import numpy as np\n",
    "import matplotlib.pyplot as plt\n",
    "from tqdm.notebook import tqdm\n",
    "import torch\n",
    "from torch import nn\n",
    "from torch.utils.data import DataLoader\n",
    "from torchvision import transforms\n",
    "import time\n",
    "from itertools import islice\n",
    "from dataclasses import dataclass\n",
    "\n",
    "# pd.set_option('display.max_columns', 500)\n",
    "# pd.set_option('display.max_rows', 500)\n",
    "# import warnings\n",
    "# warnings.filterwarnings('ignore')\n",
    "# C:/Users/sshar/AppData/Roaming/jupyter/nbextensions/snippets /snippets.json (jupyter --data-dir)"
   ]
  },
  {
   "cell_type": "code",
   "execution_count": 4,
   "id": "cac0214a",
   "metadata": {
    "ExecuteTime": {
     "end_time": "2022-07-05T18:07:21.326783Z",
     "start_time": "2022-07-05T18:07:21.026913Z"
    },
    "pycharm": {
     "name": "#%%\n"
    }
   },
   "outputs": [],
   "source": [
    "from dataset import CheXpertDataset\n",
    "import utils\n",
    "from utils import vprint\n",
    "from utils import to_gpu"
   ]
  },
  {
   "cell_type": "markdown",
   "id": "48454ac0",
   "metadata": {
    "ExecuteTime": {
     "end_time": "2022-07-05T17:49:07.998042Z",
     "start_time": "2022-07-05T17:49:07.258457Z"
    },
    "pycharm": {
     "name": "#%%\n"
    }
   },
   "source": [
    "# Configs "
   ]
  },
  {
   "cell_type": "code",
   "execution_count": 5,
   "id": "32197dbc",
   "metadata": {
    "ExecuteTime": {
     "end_time": "2022-07-05T18:07:22.591721Z",
     "start_time": "2022-07-05T18:07:22.512198Z"
    },
    "pycharm": {
     "name": "#%%\n"
    }
   },
   "outputs": [],
   "source": [
    "@dataclass\n",
    "class TrainingConfigs:\n",
    "    DATA_DIR = r\"..\\data\\CheXpert\"\n",
    "    CHECKPOINT_DIR = r\"checkpoints\"\n",
    "    BATCH_SIZE = 4\n",
    "    EPOCHS = 3\n",
    "    LEARNING_RATE = 0.0001\n",
    "    CHECKPOINT_TIME_INTERVAL = 3 # seconds\n",
    "    MODEL_VERSION = \"densenet121\"\n",
    "    TRAINED_MODEL_PATH = None\n",
    "    TRAIN_LOADER_SIZE = None\n",
    "    VALID_LOADER_SIZE = None"
   ]
  },
  {
   "cell_type": "code",
   "execution_count": 6,
   "id": "2789695b",
   "metadata": {
    "ExecuteTime": {
     "end_time": "2022-07-05T18:07:23.935181Z",
     "start_time": "2022-07-05T18:07:23.839620Z"
    },
    "pycharm": {
     "name": "#%%\n"
    }
   },
   "outputs": [],
   "source": [
    "utils.set_seed()"
   ]
  },
  {
   "cell_type": "markdown",
   "id": "98aa4cc9",
   "metadata": {
    "ExecuteTime": {
     "end_time": "2022-07-05T13:18:03.037084Z",
     "start_time": "2022-07-05T13:18:02.982331Z"
    },
    "pycharm": {
     "name": "#%%\n"
    }
   },
   "source": [
    "# Training"
   ]
  },
  {
   "cell_type": "markdown",
   "id": "6cd7d819",
   "metadata": {
    "ExecuteTime": {
     "end_time": "2022-07-05T13:18:03.037084Z",
     "start_time": "2022-07-05T13:18:02.982331Z"
    },
    "pycharm": {
     "name": "#%%\n"
    }
   },
   "source": [
    "## Training Setup"
   ]
  },
  {
   "cell_type": "code",
   "execution_count": 7,
   "id": "cd6c2525",
   "metadata": {
    "ExecuteTime": {
     "end_time": "2022-07-05T18:07:25.568233Z",
     "start_time": "2022-07-05T18:07:25.482151Z"
    },
    "pycharm": {
     "name": "#%%\n"
    }
   },
   "outputs": [],
   "source": [
    "train_transform = transforms.Compose([\n",
    "    transforms.Resize((320,320)),\n",
    "    transforms.ToTensor(),\n",
    "    transforms.Normalize([0.485, 0.456, 0.406], [0.229, 0.224, 0.225])])\n",
    "valid_transform = transforms.Compose([\n",
    "    transforms.Resize((320,320)),\n",
    "    transforms.ToTensor(), \n",
    "    transforms.Normalize([0.485, 0.456, 0.406], [0.229, 0.224, 0.225])])"
   ]
  },
  {
   "cell_type": "code",
   "execution_count": 8,
   "id": "b601946d",
   "metadata": {
    "ExecuteTime": {
     "end_time": "2022-07-05T18:07:28.559562Z",
     "start_time": "2022-07-05T18:07:25.886420Z"
    },
    "pycharm": {
     "name": "#%%\n"
    }
   },
   "outputs": [
    {
     "data": {
      "text/plain": [
       "223414"
      ]
     },
     "execution_count": 8,
     "metadata": {},
     "output_type": "execute_result"
    }
   ],
   "source": [
    "# Create data loaders.\n",
    "train_dataset = CheXpertDataset(mode='train', data_dir=TrainingConfigs.DATA_DIR, transform=train_transform)\n",
    "train_dataloader = DataLoader(train_dataset, batch_size=TrainingConfigs.BATCH_SIZE, shuffle=True)\n",
    "TrainingConfigs.TRAIN_LOADER_SIZE = len(train_dataloader)\n",
    "len(train_dataset)"
   ]
  },
  {
   "cell_type": "code",
   "execution_count": 9,
   "id": "1ded129c",
   "metadata": {
    "ExecuteTime": {
     "end_time": "2022-07-05T18:07:34.772599Z",
     "start_time": "2022-07-05T18:07:34.684091Z"
    },
    "pycharm": {
     "name": "#%%\n"
    }
   },
   "outputs": [
    {
     "data": {
      "text/plain": [
       "12"
      ]
     },
     "execution_count": 9,
     "metadata": {},
     "output_type": "execute_result"
    }
   ],
   "source": [
    "valid_dataset = CheXpertDataset(mode='valid', data_dir=TrainingConfigs.DATA_DIR, transform=valid_transform)\n",
    "valid_dataset.labels = valid_dataset.labels[:12] # hack for speed debugging\n",
    "valid_dataloader = DataLoader(valid_dataset, batch_size=TrainingConfigs.BATCH_SIZE, shuffle=False)\n",
    "TrainingConfigs.VALID_LOADER_SIZE = len(valid_dataloader)\n",
    "len(valid_dataset)"
   ]
  },
  {
   "cell_type": "code",
   "execution_count": 10,
   "id": "e1d13898",
   "metadata": {
    "ExecuteTime": {
     "end_time": "2022-07-05T18:07:35.879767Z",
     "start_time": "2022-07-05T18:07:35.425612Z"
    },
    "pycharm": {
     "name": "#%%\n"
    }
   },
   "outputs": [
    {
     "name": "stderr",
     "output_type": "stream",
     "text": [
      "Using cache found in C:\\Users\\sshar/.cache\\torch\\hub\\pytorch_vision_v0.10.0\n"
     ]
    }
   ],
   "source": [
    "torch.hub._validate_not_a_forked_repo = lambda a,b,c: True # workaround for torch.hub\n",
    "model = torch.hub.load('pytorch/vision:v0.10.0', 'densenet121', pretrained=True)"
   ]
  },
  {
   "cell_type": "code",
   "execution_count": 14,
   "id": "20b3109b",
   "metadata": {
    "ExecuteTime": {
     "end_time": "2022-07-05T18:09:45.240209Z",
     "start_time": "2022-07-05T18:09:45.096137Z"
    },
    "pycharm": {
     "name": "#%%\n"
    }
   },
   "outputs": [],
   "source": [
    "num_features = model.classifier.in_features\n",
    "model.classifier = nn.Sequential(\n",
    "    nn.Linear(num_features, num_features, bias=True),\n",
    "    nn.ReLU(),\n",
    "    nn.Dropout(p=0.1),\n",
    "    nn.Linear(in_features=num_features, out_features=utils.Configs.NUM_CLASSES, bias=True)\n",
    ")"
   ]
  },
  {
   "cell_type": "code",
   "execution_count": 11,
   "id": "71f82b75",
   "metadata": {
    "ExecuteTime": {
     "end_time": "2022-07-05T18:07:36.544837Z",
     "start_time": "2022-07-05T18:07:36.461262Z"
    },
    "pycharm": {
     "name": "#%%\n"
    }
   },
   "outputs": [],
   "source": [
    "optimizer = torch.optim.Adam(model.parameters(), lr=TrainingConfigs.LEARNING_RATE, weight_decay=1e-5)\n",
    "scheduler = torch.optim.lr_scheduler.ReduceLROnPlateau(optimizer, factor=0.1, patience=5, mode='min')\n",
    "criterion = nn.BCEWithLogitsLoss(reduction='mean') # combines BCEntropy and sigmoid\n",
    "# final nn labels: torch.round(torch.sigmoid(pred))\n",
    "# simple solution to handle the multi label problem (probabilities don't have to sum to 1)"
   ]
  },
  {
   "cell_type": "markdown",
   "id": "21bb2352",
   "metadata": {
    "ExecuteTime": {
     "end_time": "2022-07-05T16:44:56.706325Z",
     "start_time": "2022-07-05T16:44:53.945536Z"
    },
    "pycharm": {
     "name": "#%%\n"
    }
   },
   "source": [
    "## Training Loop "
   ]
  },
  {
   "cell_type": "code",
   "execution_count": 16,
   "id": "01a579d4",
   "metadata": {
    "ExecuteTime": {
     "end_time": "2022-07-05T18:14:15.380190Z",
     "start_time": "2022-07-05T18:10:31.838273Z"
    },
    "pycharm": {
     "name": "#%%\n"
    }
   },
   "outputs": [
    {
     "name": "stdout",
     "output_type": "stream",
     "text": [
      "Loaded model - epoch:0, iter:18\n"
     ]
    },
    {
     "data": {
      "application/vnd.jupyter.widget-view+json": {
       "model_id": "f9e01b7c70c74b3ea5854bf921c0f36d",
       "version_major": 2,
       "version_minor": 0
      },
      "text/plain": [
       "  0%|          | 0/55854 [00:00<?, ?it/s]"
      ]
     },
     "metadata": {},
     "output_type": "display_data"
    },
    {
     "name": "stdout",
     "output_type": "stream",
     "text": [
      "2022_07_05-21_10: Checkpoint Created.\n",
      "Epoch [1/3],   Iter [19/55853],   Train Loss: 0.5585,   Valid Loss: 0.5115,   Valid AUC: 0.0097\n",
      "\n",
      "2022_07_05-21_10: Checkpoint Created.\n",
      "Epoch [1/3],   Iter [20/55853],   Train Loss: 0.5663,   Valid Loss: 0.5121,   Valid AUC: 0.0113\n",
      "\n",
      "2022_07_05-21_10: Checkpoint Created.\n",
      "Epoch [1/3],   Iter [21/55853],   Train Loss: 0.5658,   Valid Loss: 0.5117,   Valid AUC: 0.0137\n",
      "\n",
      "2022_07_05-21_10: Checkpoint Created.\n",
      "Epoch [1/3],   Iter [22/55853],   Train Loss: 0.5615,   Valid Loss: 0.5097,   Valid AUC: 0.0133\n",
      "\n",
      "2022_07_05-21_11: Checkpoint Created.\n",
      "Epoch [1/3],   Iter [23/55853],   Train Loss: 0.5573,   Valid Loss: 0.5102,   Valid AUC: 0.0125\n",
      "\n",
      "2022_07_05-21_11: Checkpoint Created.\n",
      "Epoch [1/3],   Iter [24/55853],   Train Loss: 0.5540,   Valid Loss: 0.5107,   Valid AUC: 0.0123\n",
      "\n",
      "2022_07_05-21_11: Checkpoint Created.\n",
      "Epoch [1/3],   Iter [25/55853],   Train Loss: 0.5510,   Valid Loss: 0.5105,   Valid AUC: 0.0143\n",
      "\n",
      "2022_07_05-21_11: Checkpoint Created.\n",
      "Epoch [1/3],   Iter [26/55853],   Train Loss: 0.5487,   Valid Loss: 0.5123,   Valid AUC: 0.0095\n",
      "\n",
      "2022_07_05-21_11: Checkpoint Created.\n",
      "Epoch [1/3],   Iter [27/55853],   Train Loss: 0.5438,   Valid Loss: 0.5108,   Valid AUC: 0.0119\n",
      "\n",
      "2022_07_05-21_11: Checkpoint Created.\n",
      "Epoch [1/3],   Iter [28/55853],   Train Loss: 0.5465,   Valid Loss: 0.5090,   Valid AUC: 0.0121\n",
      "\n",
      "2022_07_05-21_11: Checkpoint Created.\n",
      "Epoch [1/3],   Iter [29/55853],   Train Loss: 0.5450,   Valid Loss: 0.5060,   Valid AUC: 0.0102\n",
      "\n",
      "2022_07_05-21_11: Checkpoint Created.\n",
      "Epoch [1/3],   Iter [30/55853],   Train Loss: 0.5395,   Valid Loss: 0.5041,   Valid AUC: 0.0098\n",
      "\n",
      "2022_07_05-21_11: Checkpoint Created.\n",
      "Epoch [1/3],   Iter [31/55853],   Train Loss: 0.5359,   Valid Loss: 0.5000,   Valid AUC: 0.0095\n",
      "\n",
      "2022_07_05-21_12: Checkpoint Created.\n",
      "Epoch [1/3],   Iter [32/55853],   Train Loss: 0.5362,   Valid Loss: 0.4985,   Valid AUC: 0.0080\n",
      "\n",
      "2022_07_05-21_12: Checkpoint Created.\n",
      "Epoch [1/3],   Iter [33/55853],   Train Loss: 0.5311,   Valid Loss: 0.4958,   Valid AUC: 0.0086\n",
      "\n",
      "2022_07_05-21_12: Checkpoint Created.\n",
      "Epoch [1/3],   Iter [34/55853],   Train Loss: 0.5327,   Valid Loss: 0.4942,   Valid AUC: 0.0114\n",
      "\n",
      "2022_07_05-21_12: Checkpoint Created.\n",
      "Epoch [1/3],   Iter [35/55853],   Train Loss: 0.5358,   Valid Loss: 0.4915,   Valid AUC: 0.0113\n",
      "\n",
      "2022_07_05-21_12: Checkpoint Created.\n",
      "Epoch [1/3],   Iter [36/55853],   Train Loss: 0.5319,   Valid Loss: 0.4884,   Valid AUC: 0.0116\n",
      "\n",
      "2022_07_05-21_12: Checkpoint Created.\n",
      "Epoch [1/3],   Iter [37/55853],   Train Loss: 0.5291,   Valid Loss: 0.4861,   Valid AUC: 0.0095\n",
      "\n",
      "2022_07_05-21_12: Checkpoint Created.\n",
      "Epoch [1/3],   Iter [38/55853],   Train Loss: 0.5257,   Valid Loss: 0.4855,   Valid AUC: 0.0094\n",
      "\n",
      "2022_07_05-21_12: Checkpoint Created.\n",
      "Epoch [1/3],   Iter [40/55853],   Train Loss: 0.5221,   Valid Loss: 0.4811,   Valid AUC: 0.0116\n",
      "\n",
      "2022_07_05-21_12: Checkpoint Created.\n",
      "Epoch [1/3],   Iter [41/55853],   Train Loss: 0.5258,   Valid Loss: 0.4799,   Valid AUC: 0.0124\n",
      "\n",
      "2022_07_05-21_12: Checkpoint Created.\n",
      "Epoch [1/3],   Iter [42/55853],   Train Loss: 0.5284,   Valid Loss: 0.4775,   Valid AUC: 0.0096\n",
      "\n",
      "2022_07_05-21_13: Checkpoint Created.\n",
      "Epoch [1/3],   Iter [44/55853],   Train Loss: 0.5273,   Valid Loss: 0.4766,   Valid AUC: 0.0129\n",
      "\n",
      "2022_07_05-21_13: Checkpoint Created.\n",
      "Epoch [1/3],   Iter [46/55853],   Train Loss: 0.5257,   Valid Loss: 0.4757,   Valid AUC: 0.0151\n",
      "\n",
      "2022_07_05-21_13: Checkpoint Created.\n",
      "Epoch [1/3],   Iter [48/55853],   Train Loss: 0.5224,   Valid Loss: 0.4805,   Valid AUC: 0.0156\n",
      "\n",
      "2022_07_05-21_13: Checkpoint Created.\n",
      "Epoch [1/3],   Iter [50/55853],   Train Loss: 0.5193,   Valid Loss: 0.4793,   Valid AUC: 0.0145\n",
      "\n",
      "2022_07_05-21_13: Checkpoint Created.\n",
      "Epoch [1/3],   Iter [52/55853],   Train Loss: 0.5184,   Valid Loss: 0.4746,   Valid AUC: 0.0155\n",
      "\n",
      "2022_07_05-21_13: Checkpoint Created.\n",
      "Epoch [1/3],   Iter [54/55853],   Train Loss: 0.5150,   Valid Loss: 0.4673,   Valid AUC: 0.0153\n",
      "\n",
      "2022_07_05-21_13: Checkpoint Created.\n",
      "Epoch [1/3],   Iter [55/55853],   Train Loss: 0.5120,   Valid Loss: 0.4652,   Valid AUC: 0.0150\n",
      "\n",
      "2022_07_05-21_13: Checkpoint Created.\n",
      "Epoch [1/3],   Iter [56/55853],   Train Loss: 0.5164,   Valid Loss: 0.4646,   Valid AUC: 0.0142\n",
      "\n",
      "2022_07_05-21_14: Checkpoint Created.\n",
      "Epoch [1/3],   Iter [58/55853],   Train Loss: 0.5179,   Valid Loss: 0.4653,   Valid AUC: 0.0134\n",
      "\n"
     ]
    },
    {
     "ename": "KeyboardInterrupt",
     "evalue": "",
     "output_type": "error",
     "traceback": [
      "\u001B[1;31m---------------------------------------------------------------------------\u001B[0m",
      "\u001B[1;31mKeyboardInterrupt\u001B[0m                         Traceback (most recent call last)",
      "\u001B[1;32m~\\AppData\\Local\\Temp\\ipykernel_7948\\3220350384.py\u001B[0m in \u001B[0;36m<module>\u001B[1;34m\u001B[0m\n\u001B[0;32m     12\u001B[0m         \u001B[0moutputs\u001B[0m \u001B[1;33m=\u001B[0m \u001B[0mmodel\u001B[0m\u001B[1;33m(\u001B[0m\u001B[0mimages\u001B[0m\u001B[1;33m)\u001B[0m\u001B[1;33m\u001B[0m\u001B[1;33m\u001B[0m\u001B[0m\n\u001B[0;32m     13\u001B[0m         \u001B[0mloss\u001B[0m \u001B[1;33m=\u001B[0m \u001B[0mcriterion\u001B[0m\u001B[1;33m(\u001B[0m\u001B[0moutputs\u001B[0m\u001B[1;33m,\u001B[0m \u001B[0mlabels\u001B[0m\u001B[1;33m)\u001B[0m\u001B[1;33m\u001B[0m\u001B[1;33m\u001B[0m\u001B[0m\n\u001B[1;32m---> 14\u001B[1;33m         \u001B[0mloss\u001B[0m\u001B[1;33m.\u001B[0m\u001B[0mbackward\u001B[0m\u001B[1;33m(\u001B[0m\u001B[1;33m)\u001B[0m\u001B[1;33m\u001B[0m\u001B[1;33m\u001B[0m\u001B[0m\n\u001B[0m\u001B[0;32m     15\u001B[0m         \u001B[0moptimizer\u001B[0m\u001B[1;33m.\u001B[0m\u001B[0mstep\u001B[0m\u001B[1;33m(\u001B[0m\u001B[1;33m)\u001B[0m\u001B[1;33m\u001B[0m\u001B[1;33m\u001B[0m\u001B[0m\n\u001B[0;32m     16\u001B[0m         \u001B[0mresults\u001B[0m\u001B[1;33m[\u001B[0m\u001B[1;34m'train_loss'\u001B[0m\u001B[1;33m]\u001B[0m\u001B[1;33m.\u001B[0m\u001B[0mappend\u001B[0m\u001B[1;33m(\u001B[0m\u001B[0mloss\u001B[0m\u001B[1;33m.\u001B[0m\u001B[0mitem\u001B[0m\u001B[1;33m(\u001B[0m\u001B[1;33m)\u001B[0m\u001B[1;33m)\u001B[0m\u001B[1;33m\u001B[0m\u001B[1;33m\u001B[0m\u001B[0m\n",
      "\u001B[1;32mC:\\Anaconda\\envs\\MLH\\lib\\site-packages\\torch\\_tensor.py\u001B[0m in \u001B[0;36mbackward\u001B[1;34m(self, gradient, retain_graph, create_graph, inputs)\u001B[0m\n\u001B[0;32m    305\u001B[0m                 \u001B[0mcreate_graph\u001B[0m\u001B[1;33m=\u001B[0m\u001B[0mcreate_graph\u001B[0m\u001B[1;33m,\u001B[0m\u001B[1;33m\u001B[0m\u001B[1;33m\u001B[0m\u001B[0m\n\u001B[0;32m    306\u001B[0m                 inputs=inputs)\n\u001B[1;32m--> 307\u001B[1;33m         \u001B[0mtorch\u001B[0m\u001B[1;33m.\u001B[0m\u001B[0mautograd\u001B[0m\u001B[1;33m.\u001B[0m\u001B[0mbackward\u001B[0m\u001B[1;33m(\u001B[0m\u001B[0mself\u001B[0m\u001B[1;33m,\u001B[0m \u001B[0mgradient\u001B[0m\u001B[1;33m,\u001B[0m \u001B[0mretain_graph\u001B[0m\u001B[1;33m,\u001B[0m \u001B[0mcreate_graph\u001B[0m\u001B[1;33m,\u001B[0m \u001B[0minputs\u001B[0m\u001B[1;33m=\u001B[0m\u001B[0minputs\u001B[0m\u001B[1;33m)\u001B[0m\u001B[1;33m\u001B[0m\u001B[1;33m\u001B[0m\u001B[0m\n\u001B[0m\u001B[0;32m    308\u001B[0m \u001B[1;33m\u001B[0m\u001B[0m\n\u001B[0;32m    309\u001B[0m     \u001B[1;32mdef\u001B[0m \u001B[0mregister_hook\u001B[0m\u001B[1;33m(\u001B[0m\u001B[0mself\u001B[0m\u001B[1;33m,\u001B[0m \u001B[0mhook\u001B[0m\u001B[1;33m)\u001B[0m\u001B[1;33m:\u001B[0m\u001B[1;33m\u001B[0m\u001B[1;33m\u001B[0m\u001B[0m\n",
      "\u001B[1;32mC:\\Anaconda\\envs\\MLH\\lib\\site-packages\\torch\\autograd\\__init__.py\u001B[0m in \u001B[0;36mbackward\u001B[1;34m(tensors, grad_tensors, retain_graph, create_graph, grad_variables, inputs)\u001B[0m\n\u001B[0;32m    154\u001B[0m     Variable._execution_engine.run_backward(\n\u001B[0;32m    155\u001B[0m         \u001B[0mtensors\u001B[0m\u001B[1;33m,\u001B[0m \u001B[0mgrad_tensors_\u001B[0m\u001B[1;33m,\u001B[0m \u001B[0mretain_graph\u001B[0m\u001B[1;33m,\u001B[0m \u001B[0mcreate_graph\u001B[0m\u001B[1;33m,\u001B[0m \u001B[0minputs\u001B[0m\u001B[1;33m,\u001B[0m\u001B[1;33m\u001B[0m\u001B[1;33m\u001B[0m\u001B[0m\n\u001B[1;32m--> 156\u001B[1;33m         allow_unreachable=True, accumulate_grad=True)  # allow_unreachable flag\n\u001B[0m\u001B[0;32m    157\u001B[0m \u001B[1;33m\u001B[0m\u001B[0m\n\u001B[0;32m    158\u001B[0m \u001B[1;33m\u001B[0m\u001B[0m\n",
      "\u001B[1;31mKeyboardInterrupt\u001B[0m: "
     ]
    }
   ],
   "source": [
    "model, results, last_epoch, last_iter = utils.get_previos_training_place(model, TrainingConfigs)\n",
    "model.train()\n",
    "model = to_gpu(model)\n",
    "start_time = time.time()\n",
    "for epoch in range(last_epoch, TrainingConfigs.EPOCHS):\n",
    "    train_dataloader_iter = islice(tqdm(enumerate(train_dataloader), total=len(train_dataloader)), \n",
    "                                   last_iter+1, len(train_dataloader)) # fast foward dataloader\n",
    "    for i, (images, labels) in train_dataloader_iter:\n",
    "        images = to_gpu(images)\n",
    "        labels = to_gpu(labels)        \n",
    "        optimizer.zero_grad()\n",
    "        outputs = model(images)\n",
    "        loss = criterion(outputs, labels)\n",
    "        loss.backward()\n",
    "        optimizer.step()\n",
    "        results['train_loss'].append(loss.item())\n",
    "        if time.time()-start_time > TrainingConfigs.CHECKPOINT_TIME_INTERVAL:\n",
    "            utils.create_checkpoint(model, epoch, i, valid_dataloader, criterion, results, TrainingConfigs)\n",
    "            start_time = time.time()\n",
    "    scheduler.step(np.mean(results[\"valid_loss\"][-len(train_dataloader):]))"
   ]
  },
  {
   "cell_type": "code",
   "execution_count": null,
   "id": "b9895657",
   "metadata": {
    "ExecuteTime": {
     "end_time": "2022-06-10T12:19:27.612516Z",
     "start_time": "2022-06-10T12:19:26.945319Z"
    },
    "pycharm": {
     "name": "#%%\n"
    }
   },
   "outputs": [],
   "source": []
  },
  {
   "cell_type": "code",
   "execution_count": null,
   "id": "86ecf6f8",
   "metadata": {
    "pycharm": {
     "name": "#%%\n"
    }
   },
   "outputs": [],
   "source": []
  }
 ],
 "metadata": {
  "kernelspec": {
   "display_name": "Python 3 (ipykernel)",
   "language": "python",
   "name": "python3"
  },
  "language_info": {
   "codemirror_mode": {
    "name": "ipython",
    "version": 3
   },
   "file_extension": ".py",
   "mimetype": "text/x-python",
   "name": "python",
   "nbconvert_exporter": "python",
   "pygments_lexer": "ipython3",
   "version": "3.7.13"
  },
  "toc": {
   "base_numbering": 1,
   "nav_menu": {},
   "number_sections": true,
   "sideBar": true,
   "skip_h1_title": false,
   "title_cell": "Table of Contents",
   "title_sidebar": "Contents",
   "toc_cell": false,
   "toc_position": {},
   "toc_section_display": true,
   "toc_window_display": false
  },
  "varInspector": {
   "cols": {
    "lenName": 16,
    "lenType": 16,
    "lenVar": 40
   },
   "kernels_config": {
    "python": {
     "delete_cmd_postfix": "",
     "delete_cmd_prefix": "del ",
     "library": "var_list.py",
     "varRefreshCmd": "print(var_dic_list())"
    },
    "r": {
     "delete_cmd_postfix": ") ",
     "delete_cmd_prefix": "rm(",
     "library": "var_list.r",
     "varRefreshCmd": "cat(var_dic_list()) "
    }
   },
   "types_to_exclude": [
    "module",
    "function",
    "builtin_function_or_method",
    "instance",
    "_Feature"
   ],
   "window_display": false
  }
 },
 "nbformat": 4,
 "nbformat_minor": 5
}