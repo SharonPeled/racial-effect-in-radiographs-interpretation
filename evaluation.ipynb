{
 "cells": [
  {
   "cell_type": "markdown",
   "id": "8bc0b1b3",
   "metadata": {
    "ExecuteTime": {
     "end_time": "2022-07-21T05:33:49.424988Z",
     "start_time": "2022-07-21T05:33:49.384775Z"
    }
   },
   "source": [
    "# Imports"
   ]
  },
  {
   "cell_type": "code",
   "execution_count": 1,
   "id": "3646f2f4",
   "metadata": {
    "ExecuteTime": {
     "end_time": "2022-07-22T14:12:59.021360Z",
     "start_time": "2022-07-22T14:12:58.740298Z"
    }
   },
   "outputs": [],
   "source": [
    "%load_ext autoreload\n",
    "%autoreload 2"
   ]
  },
  {
   "cell_type": "code",
   "execution_count": 2,
   "id": "a996f0f3",
   "metadata": {
    "ExecuteTime": {
     "end_time": "2022-07-21T14:14:06.499351Z",
     "start_time": "2022-07-21T14:14:06.400385Z"
    }
   },
   "outputs": [],
   "source": [
    "%reload_ext autoreload"
   ]
  },
  {
   "cell_type": "code",
   "execution_count": 3,
   "id": "13bfa53f",
   "metadata": {
    "ExecuteTime": {
     "end_time": "2022-07-22T16:59:23.175572Z",
     "start_time": "2022-07-22T16:59:20.571201Z"
    }
   },
   "outputs": [],
   "source": [
    "import pandas as pd\n",
    "import numpy as np\n",
    "import matplotlib.pyplot as plt\n",
    "from tqdm.notebook import tqdm\n",
    "import torch\n",
    "from torch import nn\n",
    "from torch.utils.data import DataLoader\n",
    "from torchvision import transforms\n",
    "import time\n",
    "from itertools import islice\n",
    "from dataclasses import dataclass\n",
    "import torchvision\n",
    "from torchvision.models import densenet161, DenseNet161_Weights, vit_b_16, ViT_B_16_Weights, densenet121, DenseNet121_Weights\n",
    "import os\n",
    "import sys\n",
    "from pathlib import Path\n",
    "from torchinfo import summary"
   ]
  },
  {
   "cell_type": "code",
   "execution_count": 4,
   "id": "df775d77",
   "metadata": {
    "ExecuteTime": {
     "end_time": "2022-07-22T16:59:23.280704Z",
     "start_time": "2022-07-22T16:59:23.267748Z"
    }
   },
   "outputs": [],
   "source": [
    "pd.set_option('display.max_rows', 500)\n",
    "pd.set_option('display.max_columns', 500)\n",
    "pd.set_option('display.width', 1000)"
   ]
  },
  {
   "cell_type": "code",
   "execution_count": 5,
   "id": "94d5dc17",
   "metadata": {
    "ExecuteTime": {
     "end_time": "2022-07-22T16:59:23.401043Z",
     "start_time": "2022-07-22T16:59:23.358091Z"
    }
   },
   "outputs": [],
   "source": [
    "from CheXpert.race_prediction.dataset import CheXpertRaceDataset\n",
    "from CheXpert.disease_prediction.dataset import CheXpertDiseaseDataset\n",
    "from shared_utils import vprint, to_gpu, add_mean_to_list, Mode, SharedConfigs\n",
    "import shared_utils\n",
    "from CheXpert.disease_prediction.utils import Configs as DiseaseConfigs\n",
    "from CheXpert.race_prediction.utils import Configs as RaceConfigs\n",
    "from MIMIC_CXR.dataset import CXRDataset\n",
    "from MIMIC_CXR.utils import Configs as CXRConfigs"
   ]
  },
  {
   "cell_type": "markdown",
   "id": "05f14239",
   "metadata": {
    "ExecuteTime": {
     "end_time": "2022-07-21T05:33:51.356245Z",
     "start_time": "2022-07-21T05:33:51.338273Z"
    }
   },
   "source": [
    "# Configs"
   ]
  },
  {
   "cell_type": "code",
   "execution_count": 6,
   "id": "01fab996",
   "metadata": {
    "ExecuteTime": {
     "end_time": "2022-07-22T16:01:16.173561Z",
     "start_time": "2022-07-22T16:01:16.121804Z"
    }
   },
   "outputs": [],
   "source": [
    "@dataclass\n",
    "class Configs(SharedConfigs):\n",
    "    CXR_DATA_DIR = os.path.join(\"data\", \"MIMIC-CXR-JPG\")\n",
    "    CXR_VALID_LABELS_FILENAME = \"valid.csv\"\n",
    "    CXR_FILENAMES = CXRConfigs.CXR_FILENAMES\n",
    "    CHEXPERT_DATA_DIR = os.path.join(\"data\", \"CheXpert\", \"CheXpert-v1.0-small\")\n",
    "    CHEXPERT_DISEASE_TRAINED_MODELS_DIR = os.path.join(\"CheXpert\", \"disease_prediction\", \"trained_models\")\n",
    "    CHEXPERT_RACE_TRAINED_MODELS_DIR = os.path.join(\"CheXpert\", \"race_prediction\", \"trained_models\")\n",
    "    CHEXPERT_VALID_LABELS_FILENAME = \"valid.csv\"\n",
    "    CHEXPERT_DEMO_FILENAME = \"CHEXPERT DEMO.csv\"\n",
    "    DISEASE_ANNOTATIONS_COLUMNS = DiseaseConfigs.ANNOTATIONS_COLUMNS\n",
    "    RACE_ANNOTATIONS_COLUMNS = RaceConfigs.ANNOTATIONS_COLUMNS\n",
    "    NUM_DISEASE_CLASSES = DiseaseConfigs.NUM_CLASSES\n",
    "    NUM_RACE_CLASSES = RaceConfigs.NUM_CLASSES\n",
    "    CHEXPERT_RACE_DICT = RaceConfigs.RACE_DICT\n",
    "    BATCH_SIZE = 4\n",
    "    VALID_SIZE_DEBUG = 10**5"
   ]
  },
  {
   "cell_type": "code",
   "execution_count": 7,
   "id": "bef84566",
   "metadata": {
    "ExecuteTime": {
     "end_time": "2022-07-22T16:01:16.671453Z",
     "start_time": "2022-07-22T16:01:16.616888Z"
    }
   },
   "outputs": [],
   "source": [
    "shared_utils.set_seed(Configs.SEED)"
   ]
  },
  {
   "cell_type": "code",
   "execution_count": 8,
   "id": "d7d39db2",
   "metadata": {
    "ExecuteTime": {
     "end_time": "2022-07-22T16:01:17.828555Z",
     "start_time": "2022-07-22T16:01:17.808341Z"
    }
   },
   "outputs": [
    {
     "name": "stdout",
     "output_type": "stream",
     "text": [
      "2022-07-23 21:16: Memory info: 8.5 GB free GPU.\n"
     ]
    }
   ],
   "source": [
    "if torch.cuda.is_available():\n",
    "    vprint(f\"Memory info: {torch.cuda.mem_get_info()[0]/10e8:.1f} GB free GPU.\", Configs)\n",
    "else: \n",
    "    vprint(f\"No GPU Memory.\", Configs)"
   ]
  },
  {
   "cell_type": "code",
   "execution_count": 9,
   "id": "5e54f8c4",
   "metadata": {
    "ExecuteTime": {
     "end_time": "2022-07-22T16:01:18.191028Z",
     "start_time": "2022-07-22T16:01:18.172268Z"
    }
   },
   "outputs": [],
   "source": [
    "valid_transform = transforms.Compose([\n",
    "    transforms.Resize((320,320)),\n",
    "    transforms.ToTensor(), \n",
    "    transforms.Normalize([0.485, 0.456, 0.406], [0.229, 0.224, 0.225])\n",
    "])"
   ]
  },
  {
   "cell_type": "markdown",
   "id": "7c69f194",
   "metadata": {},
   "source": [
    "# Disease Prediction "
   ]
  },
  {
   "cell_type": "markdown",
   "id": "593180d1",
   "metadata": {
    "ExecuteTime": {
     "end_time": "2022-07-22T16:01:19.304263Z",
     "start_time": "2022-07-22T16:01:19.207737Z"
    }
   },
   "source": [
    "## Validaiton Dataloaders"
   ]
  },
  {
   "cell_type": "code",
   "execution_count": 10,
   "id": "4eaa271d",
   "metadata": {
    "ExecuteTime": {
     "end_time": "2022-07-22T16:01:19.304263Z",
     "start_time": "2022-07-22T16:01:19.207737Z"
    }
   },
   "outputs": [
    {
     "data": {
      "text/plain": [
       "234"
      ]
     },
     "execution_count": 10,
     "metadata": {},
     "output_type": "execute_result"
    }
   ],
   "source": [
    "cxp_disease_valid_dataset = CheXpertDiseaseDataset(data_dir=Configs.CHEXPERT_DATA_DIR, \n",
    "                                                   labels_filename=Configs.CHEXPERT_VALID_LABELS_FILENAME,\n",
    "                                                   transform=valid_transform)\n",
    "cxp_disease_valid_dataset.df_labels = cxp_disease_valid_dataset.df_labels[:Configs.VALID_SIZE_DEBUG]\n",
    "cxp_disease_valid_dataloader = DataLoader(cxp_disease_valid_dataset, batch_size=Configs.BATCH_SIZE, shuffle=False)\n",
    "len(cxp_disease_valid_dataset)"
   ]
  },
  {
   "cell_type": "code",
   "execution_count": 11,
   "id": "37c2e721",
   "metadata": {
    "ExecuteTime": {
     "end_time": "2022-07-22T16:01:19.304263Z",
     "start_time": "2022-07-22T16:01:19.207737Z"
    }
   },
   "outputs": [
    {
     "data": {
      "text/plain": [
       "3000"
      ]
     },
     "execution_count": 11,
     "metadata": {},
     "output_type": "execute_result"
    }
   ],
   "source": [
    "# cxr_disease_valid_dataset = CXRDataset.download_dataset(100, cxr_mode.Disease, Configs.CXR_DATA_DIR,\n",
    "#                                                         Configs.CXR_VALID_LABELS_FILENAME, **Configs.CXR_FILENAMES,\n",
    "#                                                         transform=valid_transform, target_transform=None)\n",
    "cxr_disease_valid_dataset = CXRDataset(Mode.Disease, Configs.CXR_DATA_DIR, Configs.CXR_VALID_LABELS_FILENAME,\n",
    "                                       transform=valid_transform)\n",
    "cxr_disease_valid_dataset.df_labels = cxr_disease_valid_dataset.df_labels[:Configs.VALID_SIZE_DEBUG]\n",
    "cxr_disease_valid_dataloader = DataLoader(cxr_disease_valid_dataset, batch_size=Configs.BATCH_SIZE, shuffle=False)\n",
    "len(cxr_disease_valid_dataset)"
   ]
  },
  {
   "cell_type": "markdown",
   "id": "872ed286",
   "metadata": {
    "ExecuteTime": {
     "end_time": "2022-07-22T16:01:19.634071Z",
     "start_time": "2022-07-22T16:01:19.612751Z"
    }
   },
   "source": [
    "## Pretrained Models "
   ]
  },
  {
   "cell_type": "code",
   "execution_count": 12,
   "id": "cf665e0d",
   "metadata": {
    "ExecuteTime": {
     "end_time": "2022-07-22T16:01:19.634071Z",
     "start_time": "2022-07-22T16:01:19.612751Z"
    }
   },
   "outputs": [
    {
     "data": {
      "text/plain": [
       "1"
      ]
     },
     "execution_count": 12,
     "metadata": {},
     "output_type": "execute_result"
    }
   ],
   "source": [
    "_, _, files = next(os.walk(Configs.CHEXPERT_DISEASE_TRAINED_MODELS_DIR))\n",
    "disease_trained_models = [os.path.join(Configs.CHEXPERT_DISEASE_TRAINED_MODELS_DIR, file) for file in files]\n",
    "len(disease_trained_models)"
   ]
  },
  {
   "cell_type": "code",
   "execution_count": 13,
   "id": "03431706",
   "metadata": {
    "ExecuteTime": {
     "end_time": "2022-07-22T16:01:20.524091Z",
     "start_time": "2022-07-22T16:01:20.017815Z"
    }
   },
   "outputs": [
    {
     "data": {
      "text/plain": [
       "True"
      ]
     },
     "execution_count": 13,
     "metadata": {},
     "output_type": "execute_result"
    }
   ],
   "source": [
    "disease_model = densenet121()\n",
    "num_features = disease_model.classifier.in_features\n",
    "disease_model.classifier = nn.Sequential(\n",
    "    nn.Linear(num_features, num_features, bias=True),\n",
    "    nn.ReLU(),\n",
    "    nn.Dropout(p=0.1),\n",
    "    nn.Linear(in_features=num_features, out_features=Configs.NUM_DISEASE_CLASSES, bias=True)\n",
    ")\n",
    "disease_model.eval()\n",
    "not disease_model.training"
   ]
  },
  {
   "cell_type": "code",
   "execution_count": 14,
   "id": "7732388f",
   "metadata": {
    "ExecuteTime": {
     "end_time": "2022-07-22T16:01:24.369479Z",
     "start_time": "2022-07-22T16:01:24.048235Z"
    }
   },
   "outputs": [
    {
     "name": "stdout",
     "output_type": "stream",
     "text": [
      "2022-07-23 21:16: Loading model - CheXpert/disease_prediction/trained_models/2022_07_12-18_47__densenet121_aug__epoch-5__iter-12659__batch_size-16__trainLastLoss-0.3754__validAUC-0.8899.dict\n"
     ]
    }
   ],
   "source": [
    "disease_model, results, _, _ = shared_utils.load_statedict(disease_model, disease_trained_models[0], Configs)\n",
    "disease_model = to_gpu(disease_model)"
   ]
  },
  {
   "cell_type": "markdown",
   "id": "e0eccd14",
   "metadata": {
    "ExecuteTime": {
     "end_time": "2022-07-22T16:02:13.870486Z",
     "start_time": "2022-07-22T16:01:24.749503Z"
    }
   },
   "source": [
    "## Predictions"
   ]
  },
  {
   "cell_type": "code",
   "execution_count": 15,
   "id": "08f376fb",
   "metadata": {
    "ExecuteTime": {
     "end_time": "2022-07-22T16:02:13.870486Z",
     "start_time": "2022-07-22T16:01:24.749503Z"
    }
   },
   "outputs": [
    {
     "data": {
      "text/html": [
       "<div>\n",
       "<style scoped>\n",
       "    .dataframe tbody tr th:only-of-type {\n",
       "        vertical-align: middle;\n",
       "    }\n",
       "\n",
       "    .dataframe tbody tr th {\n",
       "        vertical-align: top;\n",
       "    }\n",
       "\n",
       "    .dataframe thead th {\n",
       "        text-align: right;\n",
       "    }\n",
       "</style>\n",
       "<table border=\"1\" class=\"dataframe\">\n",
       "  <thead>\n",
       "    <tr style=\"text-align: right;\">\n",
       "      <th></th>\n",
       "      <th>Atelectasis</th>\n",
       "      <th>Cardiomegaly</th>\n",
       "      <th>Consolidation</th>\n",
       "      <th>Edema</th>\n",
       "      <th>Pleural Effusion</th>\n",
       "      <th>Mean</th>\n",
       "    </tr>\n",
       "  </thead>\n",
       "  <tbody>\n",
       "  </tbody>\n",
       "</table>\n",
       "</div>"
      ],
      "text/plain": [
       "Empty DataFrame\n",
       "Columns: [Atelectasis, Cardiomegaly, Consolidation, Edema, Pleural Effusion, Mean]\n",
       "Index: []"
      ]
     },
     "execution_count": 15,
     "metadata": {},
     "output_type": "execute_result"
    }
   ],
   "source": [
    "df_res_disease = pd.DataFrame(columns=Configs.DISEASE_ANNOTATIONS_COLUMNS + ['Mean'])\n",
    "df_res_disease"
   ]
  },
  {
   "cell_type": "code",
   "execution_count": 16,
   "id": "afdaa031",
   "metadata": {
    "ExecuteTime": {
     "end_time": "2022-07-22T16:02:13.870486Z",
     "start_time": "2022-07-22T16:01:24.749503Z"
    }
   },
   "outputs": [],
   "source": [
    "cxp_disease_labels, cxp_disease_outputs = shared_utils.get_metric_tensors(disease_model, cxp_disease_valid_dataloader, Configs,\n",
    "                                                  apply_on_outputs=lambda x: torch.sigmoid(x),\n",
    "                                                  by_study=False, challenge_ann_only=None)\n",
    "df_res_disease.loc['CXP'] = add_mean_to_list(shared_utils.auc_score(cxp_disease_labels, cxp_disease_outputs, per_class=True))"
   ]
  },
  {
   "cell_type": "code",
   "execution_count": 17,
   "id": "5cc451f4",
   "metadata": {
    "ExecuteTime": {
     "end_time": "2022-07-21T14:16:27.662400Z",
     "start_time": "2022-07-21T14:16:27.511276Z"
    }
   },
   "outputs": [],
   "source": [
    "cxr_disease_labels, cxr_disease_outputs = shared_utils.get_metric_tensors(disease_model, cxr_disease_valid_dataloader, Configs,\n",
    "                                                  apply_on_outputs=lambda x: torch.sigmoid(x),\n",
    "                                                  by_study=False, challenge_ann_only=None)\n",
    "df_res_disease.loc['CXR'] = add_mean_to_list(shared_utils.auc_score(cxr_disease_labels, cxr_disease_outputs, per_class=True))"
   ]
  },
  {
   "cell_type": "code",
   "execution_count": 18,
   "id": "e9fe9d22",
   "metadata": {},
   "outputs": [],
   "source": [
    "df_res_disease.sort_values(by=\"Mean\", ascending=False, inplace=True)\n",
    "df_res_disease = df_res_disease.round(2)"
   ]
  },
  {
   "cell_type": "code",
   "execution_count": 19,
   "id": "887beb62",
   "metadata": {},
   "outputs": [
    {
     "data": {
      "text/html": [
       "<div>\n",
       "<style scoped>\n",
       "    .dataframe tbody tr th:only-of-type {\n",
       "        vertical-align: middle;\n",
       "    }\n",
       "\n",
       "    .dataframe tbody tr th {\n",
       "        vertical-align: top;\n",
       "    }\n",
       "\n",
       "    .dataframe thead th {\n",
       "        text-align: right;\n",
       "    }\n",
       "</style>\n",
       "<table border=\"1\" class=\"dataframe\">\n",
       "  <thead>\n",
       "    <tr style=\"text-align: right;\">\n",
       "      <th></th>\n",
       "      <th>Atelectasis</th>\n",
       "      <th>Cardiomegaly</th>\n",
       "      <th>Consolidation</th>\n",
       "      <th>Edema</th>\n",
       "      <th>Pleural Effusion</th>\n",
       "      <th>Mean</th>\n",
       "    </tr>\n",
       "  </thead>\n",
       "  <tbody>\n",
       "    <tr>\n",
       "      <th>CXP</th>\n",
       "      <td>0.84</td>\n",
       "      <td>0.83</td>\n",
       "      <td>0.93</td>\n",
       "      <td>0.94</td>\n",
       "      <td>0.94</td>\n",
       "      <td>0.90</td>\n",
       "    </tr>\n",
       "    <tr>\n",
       "      <th>CXR</th>\n",
       "      <td>0.80</td>\n",
       "      <td>0.80</td>\n",
       "      <td>0.82</td>\n",
       "      <td>0.88</td>\n",
       "      <td>0.90</td>\n",
       "      <td>0.84</td>\n",
       "    </tr>\n",
       "  </tbody>\n",
       "</table>\n",
       "</div>"
      ],
      "text/plain": [
       "     Atelectasis  Cardiomegaly  Consolidation  Edema  Pleural Effusion  Mean\n",
       "CXP         0.84          0.83           0.93   0.94              0.94  0.90\n",
       "CXR         0.80          0.80           0.82   0.88              0.90  0.84"
      ]
     },
     "execution_count": 19,
     "metadata": {},
     "output_type": "execute_result"
    }
   ],
   "source": [
    "df_res_disease"
   ]
  },
  {
   "cell_type": "markdown",
   "id": "3515b1d5",
   "metadata": {},
   "source": [
    "## Performance Per Protected Groups "
   ]
  },
  {
   "cell_type": "code",
   "execution_count": 20,
   "id": "072a39e5",
   "metadata": {},
   "outputs": [
    {
     "data": {
      "text/html": [
       "<div>\n",
       "<style scoped>\n",
       "    .dataframe tbody tr th:only-of-type {\n",
       "        vertical-align: middle;\n",
       "    }\n",
       "\n",
       "    .dataframe tbody tr th {\n",
       "        vertical-align: top;\n",
       "    }\n",
       "\n",
       "    .dataframe thead th {\n",
       "        text-align: right;\n",
       "    }\n",
       "</style>\n",
       "<table border=\"1\" class=\"dataframe\">\n",
       "  <thead>\n",
       "    <tr style=\"text-align: right;\">\n",
       "      <th></th>\n",
       "      <th>original_path</th>\n",
       "      <th>Sex</th>\n",
       "      <th>Age</th>\n",
       "      <th>Frontal/Lateral</th>\n",
       "      <th>AP/PA</th>\n",
       "      <th>No Finding</th>\n",
       "      <th>Enlarged Cardiomediastinum</th>\n",
       "      <th>Cardiomegaly</th>\n",
       "      <th>Lung Opacity</th>\n",
       "      <th>Lung Lesion</th>\n",
       "      <th>Edema</th>\n",
       "      <th>Consolidation</th>\n",
       "      <th>Pneumonia</th>\n",
       "      <th>Atelectasis</th>\n",
       "      <th>Pneumothorax</th>\n",
       "      <th>Pleural Effusion</th>\n",
       "      <th>Pleural Other</th>\n",
       "      <th>Fracture</th>\n",
       "      <th>Support Devices</th>\n",
       "      <th>img_path</th>\n",
       "      <th>patient_id</th>\n",
       "      <th>study</th>\n",
       "      <th>view</th>\n",
       "      <th>PATIENT</th>\n",
       "      <th>race</th>\n",
       "      <th>Asian</th>\n",
       "      <th>Black</th>\n",
       "      <th>Hispanic</th>\n",
       "      <th>White</th>\n",
       "      <th>age</th>\n",
       "      <th>gender</th>\n",
       "    </tr>\n",
       "  </thead>\n",
       "  <tbody>\n",
       "    <tr>\n",
       "      <th>0</th>\n",
       "      <td>CheXpert-v1.0-small/valid/patient64541/study1/...</td>\n",
       "      <td>Male</td>\n",
       "      <td>73</td>\n",
       "      <td>Frontal</td>\n",
       "      <td>AP</td>\n",
       "      <td>0.0</td>\n",
       "      <td>1.0</td>\n",
       "      <td>1.0</td>\n",
       "      <td>1.0</td>\n",
       "      <td>0.0</td>\n",
       "      <td>0.0</td>\n",
       "      <td>0.0</td>\n",
       "      <td>0.0</td>\n",
       "      <td>0.0</td>\n",
       "      <td>0.0</td>\n",
       "      <td>0.0</td>\n",
       "      <td>0.0</td>\n",
       "      <td>0.0</td>\n",
       "      <td>0.0</td>\n",
       "      <td>/home/student/MLH/debiasing-racial-effect-in-m...</td>\n",
       "      <td>patient64541</td>\n",
       "      <td>study1</td>\n",
       "      <td>view1_frontal.jpg</td>\n",
       "      <td>patient64541</td>\n",
       "      <td>White</td>\n",
       "      <td>0.0</td>\n",
       "      <td>0.0</td>\n",
       "      <td>0.0</td>\n",
       "      <td>1.0</td>\n",
       "      <td>70-90</td>\n",
       "      <td>Male</td>\n",
       "    </tr>\n",
       "    <tr>\n",
       "      <th>1</th>\n",
       "      <td>CheXpert-v1.0-small/valid/patient64542/study1/...</td>\n",
       "      <td>Male</td>\n",
       "      <td>70</td>\n",
       "      <td>Frontal</td>\n",
       "      <td>PA</td>\n",
       "      <td>0.0</td>\n",
       "      <td>0.0</td>\n",
       "      <td>0.0</td>\n",
       "      <td>0.0</td>\n",
       "      <td>0.0</td>\n",
       "      <td>0.0</td>\n",
       "      <td>0.0</td>\n",
       "      <td>0.0</td>\n",
       "      <td>0.0</td>\n",
       "      <td>0.0</td>\n",
       "      <td>0.0</td>\n",
       "      <td>0.0</td>\n",
       "      <td>0.0</td>\n",
       "      <td>1.0</td>\n",
       "      <td>/home/student/MLH/debiasing-racial-effect-in-m...</td>\n",
       "      <td>patient64542</td>\n",
       "      <td>study1</td>\n",
       "      <td>view1_frontal.jpg</td>\n",
       "      <td>patient64542</td>\n",
       "      <td>White</td>\n",
       "      <td>0.0</td>\n",
       "      <td>0.0</td>\n",
       "      <td>0.0</td>\n",
       "      <td>1.0</td>\n",
       "      <td>70-90</td>\n",
       "      <td>Male</td>\n",
       "    </tr>\n",
       "  </tbody>\n",
       "</table>\n",
       "</div>"
      ],
      "text/plain": [
       "                                       original_path   Sex  Age Frontal/Lateral AP/PA  No Finding  Enlarged Cardiomediastinum  Cardiomegaly  Lung Opacity  Lung Lesion  Edema  Consolidation  Pneumonia  Atelectasis  Pneumothorax  Pleural Effusion  Pleural Other  Fracture  Support Devices                                           img_path    patient_id   study               view       PATIENT   race  Asian  Black  Hispanic  White    age gender\n",
       "0  CheXpert-v1.0-small/valid/patient64541/study1/...  Male   73         Frontal    AP         0.0                         1.0           1.0           1.0          0.0    0.0            0.0        0.0          0.0           0.0               0.0            0.0       0.0              0.0  /home/student/MLH/debiasing-racial-effect-in-m...  patient64541  study1  view1_frontal.jpg  patient64541  White    0.0    0.0       0.0    1.0  70-90   Male\n",
       "1  CheXpert-v1.0-small/valid/patient64542/study1/...  Male   70         Frontal    PA         0.0                         0.0           0.0           0.0          0.0    0.0            0.0        0.0          0.0           0.0               0.0            0.0       0.0              1.0  /home/student/MLH/debiasing-racial-effect-in-m...  patient64542  study1  view1_frontal.jpg  patient64542  White    0.0    0.0       0.0    1.0  70-90   Male"
      ]
     },
     "execution_count": 20,
     "metadata": {},
     "output_type": "execute_result"
    }
   ],
   "source": [
    "# race, age group, and gender to ChexPertDiseaseDatatset\n",
    "cxp_demo_df = CheXpertRaceDataset.generate_race_dummies(pd.read_csv(os.path.join(Configs.CHEXPERT_DATA_DIR,\n",
    "                                                                                 Configs.CHEXPERT_DEMO_FILENAME)),\n",
    "                                                       'PRIMARY_RACE', Configs.CHEXPERT_RACE_DICT)\n",
    "cxp_race_df = cxp_demo_df[['PATIENT', 'race'] + Configs.RACE_ANNOTATIONS_COLUMNS].drop_duplicates()\n",
    "cxp_disease_df_labels = cxp_disease_valid_dataset.df_labels.merge(cxp_race_df, how='left',\n",
    "                                                                                left_on='patient_id', right_on='PATIENT')\n",
    "cxp_disease_df_labels.race.fillna('Other', inplace=True)\n",
    "cxp_disease_df_labels['age'] = cxp_disease_df_labels.Age.apply(shared_utils.age_to_age_group)\n",
    "cxp_disease_df_labels['gender'] = cxp_disease_df_labels.Sex\n",
    "cxp_disease_df_labels.head(2)"
   ]
  },
  {
   "cell_type": "code",
   "execution_count": 21,
   "id": "42f48e85",
   "metadata": {},
   "outputs": [
    {
     "data": {
      "text/html": [
       "<div>\n",
       "<style scoped>\n",
       "    .dataframe tbody tr th:only-of-type {\n",
       "        vertical-align: middle;\n",
       "    }\n",
       "\n",
       "    .dataframe tbody tr th {\n",
       "        vertical-align: top;\n",
       "    }\n",
       "\n",
       "    .dataframe thead th {\n",
       "        text-align: right;\n",
       "    }\n",
       "</style>\n",
       "<table border=\"1\" class=\"dataframe\">\n",
       "  <thead>\n",
       "    <tr style=\"text-align: right;\">\n",
       "      <th></th>\n",
       "      <th>subject_id</th>\n",
       "      <th>study_id</th>\n",
       "      <th>split</th>\n",
       "      <th>dicom_id</th>\n",
       "      <th>ethnicity</th>\n",
       "      <th>race</th>\n",
       "      <th>age</th>\n",
       "      <th>gender</th>\n",
       "      <th>Atelectasis</th>\n",
       "      <th>Cardiomegaly</th>\n",
       "      <th>Consolidation</th>\n",
       "      <th>Edema</th>\n",
       "      <th>Pleural Effusion</th>\n",
       "      <th>folder_number</th>\n",
       "      <th>img_path</th>\n",
       "    </tr>\n",
       "  </thead>\n",
       "  <tbody>\n",
       "    <tr>\n",
       "      <th>0</th>\n",
       "      <td>19859532</td>\n",
       "      <td>50453930</td>\n",
       "      <td>train</td>\n",
       "      <td>a5369d17-994f6cf1-dee57320-252febcc-6906f561</td>\n",
       "      <td>ASIAN</td>\n",
       "      <td>Asian</td>\n",
       "      <td>20-40</td>\n",
       "      <td>Female</td>\n",
       "      <td>0.0</td>\n",
       "      <td>0.0</td>\n",
       "      <td>0.0</td>\n",
       "      <td>0.0</td>\n",
       "      <td>0.0</td>\n",
       "      <td>19</td>\n",
       "      <td>data/MIMIC-CXR-JPG/physionet.org/files/mimic-c...</td>\n",
       "    </tr>\n",
       "    <tr>\n",
       "      <th>1</th>\n",
       "      <td>17719678</td>\n",
       "      <td>54809507</td>\n",
       "      <td>train</td>\n",
       "      <td>5d2b5624-28073582-14636856-8a3597b6-4cbc4bf3</td>\n",
       "      <td>ASIAN</td>\n",
       "      <td>Asian</td>\n",
       "      <td>20-40</td>\n",
       "      <td>Female</td>\n",
       "      <td>0.0</td>\n",
       "      <td>0.0</td>\n",
       "      <td>0.0</td>\n",
       "      <td>0.0</td>\n",
       "      <td>1.0</td>\n",
       "      <td>17</td>\n",
       "      <td>data/MIMIC-CXR-JPG/physionet.org/files/mimic-c...</td>\n",
       "    </tr>\n",
       "  </tbody>\n",
       "</table>\n",
       "</div>"
      ],
      "text/plain": [
       "   subject_id  study_id  split                                      dicom_id ethnicity   race    age  gender  Atelectasis  Cardiomegaly  Consolidation  Edema  Pleural Effusion  folder_number                                           img_path\n",
       "0    19859532  50453930  train  a5369d17-994f6cf1-dee57320-252febcc-6906f561     ASIAN  Asian  20-40  Female          0.0           0.0            0.0    0.0               0.0             19  data/MIMIC-CXR-JPG/physionet.org/files/mimic-c...\n",
       "1    17719678  54809507  train  5d2b5624-28073582-14636856-8a3597b6-4cbc4bf3     ASIAN  Asian  20-40  Female          0.0           0.0            0.0    0.0               1.0             17  data/MIMIC-CXR-JPG/physionet.org/files/mimic-c..."
      ]
     },
     "execution_count": 21,
     "metadata": {},
     "output_type": "execute_result"
    }
   ],
   "source": [
    "cxr_disease_df_labels = cxr_disease_valid_dataset.df_labels.copy()\n",
    "cxr_disease_df_labels.gender.replace({\"M\": \"Male\", \"F\": \"Female\"}, inplace=True)\n",
    "cxr_disease_df_labels.head(2)"
   ]
  },
  {
   "cell_type": "code",
   "execution_count": 22,
   "id": "ff219a50",
   "metadata": {},
   "outputs": [
    {
     "name": "stdout",
     "output_type": "stream",
     "text": [
      "Only one class present in y_true. ROC AUC score is not defined in that case.\n"
     ]
    },
    {
     "data": {
      "text/html": [
       "<div>\n",
       "<style scoped>\n",
       "    .dataframe tbody tr th:only-of-type {\n",
       "        vertical-align: middle;\n",
       "    }\n",
       "\n",
       "    .dataframe tbody tr th {\n",
       "        vertical-align: top;\n",
       "    }\n",
       "\n",
       "    .dataframe thead th {\n",
       "        text-align: right;\n",
       "    }\n",
       "</style>\n",
       "<table border=\"1\" class=\"dataframe\">\n",
       "  <thead>\n",
       "    <tr style=\"text-align: right;\">\n",
       "      <th></th>\n",
       "      <th>Atelectasis</th>\n",
       "      <th>Cardiomegaly</th>\n",
       "      <th>Consolidation</th>\n",
       "      <th>Edema</th>\n",
       "      <th>Pleural Effusion</th>\n",
       "      <th>Mean</th>\n",
       "    </tr>\n",
       "    <tr>\n",
       "      <th>race</th>\n",
       "      <th></th>\n",
       "      <th></th>\n",
       "      <th></th>\n",
       "      <th></th>\n",
       "      <th></th>\n",
       "      <th></th>\n",
       "    </tr>\n",
       "  </thead>\n",
       "  <tbody>\n",
       "    <tr>\n",
       "      <th>Asian</th>\n",
       "      <td>0.80</td>\n",
       "      <td>0.85</td>\n",
       "      <td>0.89</td>\n",
       "      <td>1.00</td>\n",
       "      <td>0.92</td>\n",
       "      <td>0.8920</td>\n",
       "    </tr>\n",
       "    <tr>\n",
       "      <th>Black</th>\n",
       "      <td>1.00</td>\n",
       "      <td>1.00</td>\n",
       "      <td>1.00</td>\n",
       "      <td>0.90</td>\n",
       "      <td>1.00</td>\n",
       "      <td>0.9800</td>\n",
       "    </tr>\n",
       "    <tr>\n",
       "      <th>Hispanic</th>\n",
       "      <td>1.00</td>\n",
       "      <td>0.75</td>\n",
       "      <td>1.00</td>\n",
       "      <td>NaN</td>\n",
       "      <td>1.00</td>\n",
       "      <td>0.9375</td>\n",
       "    </tr>\n",
       "    <tr>\n",
       "      <th>Other</th>\n",
       "      <td>0.78</td>\n",
       "      <td>0.84</td>\n",
       "      <td>0.93</td>\n",
       "      <td>0.91</td>\n",
       "      <td>0.98</td>\n",
       "      <td>0.8880</td>\n",
       "    </tr>\n",
       "    <tr>\n",
       "      <th>White</th>\n",
       "      <td>0.85</td>\n",
       "      <td>0.82</td>\n",
       "      <td>0.94</td>\n",
       "      <td>0.94</td>\n",
       "      <td>0.92</td>\n",
       "      <td>0.8940</td>\n",
       "    </tr>\n",
       "  </tbody>\n",
       "</table>\n",
       "</div>"
      ],
      "text/plain": [
       "          Atelectasis  Cardiomegaly  Consolidation  Edema  Pleural Effusion    Mean\n",
       "race                                                                               \n",
       "Asian            0.80          0.85           0.89   1.00              0.92  0.8920\n",
       "Black            1.00          1.00           1.00   0.90              1.00  0.9800\n",
       "Hispanic         1.00          0.75           1.00    NaN              1.00  0.9375\n",
       "Other            0.78          0.84           0.93   0.91              0.98  0.8880\n",
       "White            0.85          0.82           0.94   0.94              0.92  0.8940"
      ]
     },
     "execution_count": 22,
     "metadata": {},
     "output_type": "execute_result"
    }
   ],
   "source": [
    "shared_utils.auc_per_protected_group(cxp_disease_df_labels, Mode.Disease, Configs, cxp_disease_labels,\n",
    "                                     cxp_disease_outputs, protected_groups=['race'])"
   ]
  },
  {
   "cell_type": "code",
   "execution_count": 23,
   "id": "1efb53c7",
   "metadata": {},
   "outputs": [
    {
     "data": {
      "text/html": [
       "<div>\n",
       "<style scoped>\n",
       "    .dataframe tbody tr th:only-of-type {\n",
       "        vertical-align: middle;\n",
       "    }\n",
       "\n",
       "    .dataframe tbody tr th {\n",
       "        vertical-align: top;\n",
       "    }\n",
       "\n",
       "    .dataframe thead th {\n",
       "        text-align: right;\n",
       "    }\n",
       "</style>\n",
       "<table border=\"1\" class=\"dataframe\">\n",
       "  <thead>\n",
       "    <tr style=\"text-align: right;\">\n",
       "      <th></th>\n",
       "      <th>Atelectasis</th>\n",
       "      <th>Cardiomegaly</th>\n",
       "      <th>Consolidation</th>\n",
       "      <th>Edema</th>\n",
       "      <th>Pleural Effusion</th>\n",
       "      <th>Mean</th>\n",
       "    </tr>\n",
       "    <tr>\n",
       "      <th>gender</th>\n",
       "      <th></th>\n",
       "      <th></th>\n",
       "      <th></th>\n",
       "      <th></th>\n",
       "      <th></th>\n",
       "      <th></th>\n",
       "    </tr>\n",
       "  </thead>\n",
       "  <tbody>\n",
       "    <tr>\n",
       "      <th>Female</th>\n",
       "      <td>0.81</td>\n",
       "      <td>0.81</td>\n",
       "      <td>0.90</td>\n",
       "      <td>0.93</td>\n",
       "      <td>0.96</td>\n",
       "      <td>0.882</td>\n",
       "    </tr>\n",
       "    <tr>\n",
       "      <th>Male</th>\n",
       "      <td>0.85</td>\n",
       "      <td>0.85</td>\n",
       "      <td>0.96</td>\n",
       "      <td>0.94</td>\n",
       "      <td>0.92</td>\n",
       "      <td>0.904</td>\n",
       "    </tr>\n",
       "  </tbody>\n",
       "</table>\n",
       "</div>"
      ],
      "text/plain": [
       "        Atelectasis  Cardiomegaly  Consolidation  Edema  Pleural Effusion   Mean\n",
       "gender                                                                          \n",
       "Female         0.81          0.81           0.90   0.93              0.96  0.882\n",
       "Male           0.85          0.85           0.96   0.94              0.92  0.904"
      ]
     },
     "execution_count": 23,
     "metadata": {},
     "output_type": "execute_result"
    }
   ],
   "source": [
    "shared_utils.auc_per_protected_group(cxp_disease_df_labels, Mode.Disease, Configs, cxp_disease_labels,\n",
    "                                     cxp_disease_outputs, protected_groups=['gender'])"
   ]
  },
  {
   "cell_type": "code",
   "execution_count": 24,
   "id": "d2c5c307",
   "metadata": {},
   "outputs": [
    {
     "data": {
      "text/html": [
       "<div>\n",
       "<style scoped>\n",
       "    .dataframe tbody tr th:only-of-type {\n",
       "        vertical-align: middle;\n",
       "    }\n",
       "\n",
       "    .dataframe tbody tr th {\n",
       "        vertical-align: top;\n",
       "    }\n",
       "\n",
       "    .dataframe thead th {\n",
       "        text-align: right;\n",
       "    }\n",
       "</style>\n",
       "<table border=\"1\" class=\"dataframe\">\n",
       "  <thead>\n",
       "    <tr style=\"text-align: right;\">\n",
       "      <th></th>\n",
       "      <th>Atelectasis</th>\n",
       "      <th>Cardiomegaly</th>\n",
       "      <th>Consolidation</th>\n",
       "      <th>Edema</th>\n",
       "      <th>Pleural Effusion</th>\n",
       "      <th>Mean</th>\n",
       "    </tr>\n",
       "    <tr>\n",
       "      <th>age</th>\n",
       "      <th></th>\n",
       "      <th></th>\n",
       "      <th></th>\n",
       "      <th></th>\n",
       "      <th></th>\n",
       "      <th></th>\n",
       "    </tr>\n",
       "  </thead>\n",
       "  <tbody>\n",
       "    <tr>\n",
       "      <th>20-40</th>\n",
       "      <td>0.92</td>\n",
       "      <td>0.89</td>\n",
       "      <td>0.94</td>\n",
       "      <td>1.00</td>\n",
       "      <td>0.90</td>\n",
       "      <td>0.930</td>\n",
       "    </tr>\n",
       "    <tr>\n",
       "      <th>40-70</th>\n",
       "      <td>0.84</td>\n",
       "      <td>0.82</td>\n",
       "      <td>0.94</td>\n",
       "      <td>0.92</td>\n",
       "      <td>0.94</td>\n",
       "      <td>0.892</td>\n",
       "    </tr>\n",
       "    <tr>\n",
       "      <th>70-90</th>\n",
       "      <td>0.77</td>\n",
       "      <td>0.83</td>\n",
       "      <td>0.93</td>\n",
       "      <td>0.94</td>\n",
       "      <td>0.92</td>\n",
       "      <td>0.878</td>\n",
       "    </tr>\n",
       "  </tbody>\n",
       "</table>\n",
       "</div>"
      ],
      "text/plain": [
       "       Atelectasis  Cardiomegaly  Consolidation  Edema  Pleural Effusion   Mean\n",
       "age                                                                            \n",
       "20-40         0.92          0.89           0.94   1.00              0.90  0.930\n",
       "40-70         0.84          0.82           0.94   0.92              0.94  0.892\n",
       "70-90         0.77          0.83           0.93   0.94              0.92  0.878"
      ]
     },
     "execution_count": 24,
     "metadata": {},
     "output_type": "execute_result"
    }
   ],
   "source": [
    "shared_utils.auc_per_protected_group(cxp_disease_df_labels, Mode.Disease, Configs, cxp_disease_labels,\n",
    "                                     cxp_disease_outputs, protected_groups=['age'])"
   ]
  },
  {
   "cell_type": "code",
   "execution_count": 25,
   "id": "b887345d",
   "metadata": {},
   "outputs": [
    {
     "data": {
      "text/html": [
       "<div>\n",
       "<style scoped>\n",
       "    .dataframe tbody tr th:only-of-type {\n",
       "        vertical-align: middle;\n",
       "    }\n",
       "\n",
       "    .dataframe tbody tr th {\n",
       "        vertical-align: top;\n",
       "    }\n",
       "\n",
       "    .dataframe thead th {\n",
       "        text-align: right;\n",
       "    }\n",
       "</style>\n",
       "<table border=\"1\" class=\"dataframe\">\n",
       "  <thead>\n",
       "    <tr style=\"text-align: right;\">\n",
       "      <th></th>\n",
       "      <th>Atelectasis</th>\n",
       "      <th>Cardiomegaly</th>\n",
       "      <th>Consolidation</th>\n",
       "      <th>Edema</th>\n",
       "      <th>Pleural Effusion</th>\n",
       "      <th>Mean</th>\n",
       "    </tr>\n",
       "    <tr>\n",
       "      <th>race</th>\n",
       "      <th></th>\n",
       "      <th></th>\n",
       "      <th></th>\n",
       "      <th></th>\n",
       "      <th></th>\n",
       "      <th></th>\n",
       "    </tr>\n",
       "  </thead>\n",
       "  <tbody>\n",
       "    <tr>\n",
       "      <th>Asian</th>\n",
       "      <td>0.81</td>\n",
       "      <td>0.81</td>\n",
       "      <td>0.83</td>\n",
       "      <td>0.88</td>\n",
       "      <td>0.91</td>\n",
       "      <td>0.848</td>\n",
       "    </tr>\n",
       "    <tr>\n",
       "      <th>Black</th>\n",
       "      <td>0.83</td>\n",
       "      <td>0.79</td>\n",
       "      <td>0.83</td>\n",
       "      <td>0.87</td>\n",
       "      <td>0.92</td>\n",
       "      <td>0.848</td>\n",
       "    </tr>\n",
       "    <tr>\n",
       "      <th>Hispanic</th>\n",
       "      <td>0.81</td>\n",
       "      <td>0.81</td>\n",
       "      <td>0.85</td>\n",
       "      <td>0.89</td>\n",
       "      <td>0.90</td>\n",
       "      <td>0.852</td>\n",
       "    </tr>\n",
       "    <tr>\n",
       "      <th>Other</th>\n",
       "      <td>0.77</td>\n",
       "      <td>0.79</td>\n",
       "      <td>0.78</td>\n",
       "      <td>0.87</td>\n",
       "      <td>0.84</td>\n",
       "      <td>0.810</td>\n",
       "    </tr>\n",
       "    <tr>\n",
       "      <th>White</th>\n",
       "      <td>0.78</td>\n",
       "      <td>0.81</td>\n",
       "      <td>0.80</td>\n",
       "      <td>0.88</td>\n",
       "      <td>0.92</td>\n",
       "      <td>0.838</td>\n",
       "    </tr>\n",
       "  </tbody>\n",
       "</table>\n",
       "</div>"
      ],
      "text/plain": [
       "          Atelectasis  Cardiomegaly  Consolidation  Edema  Pleural Effusion   Mean\n",
       "race                                                                              \n",
       "Asian            0.81          0.81           0.83   0.88              0.91  0.848\n",
       "Black            0.83          0.79           0.83   0.87              0.92  0.848\n",
       "Hispanic         0.81          0.81           0.85   0.89              0.90  0.852\n",
       "Other            0.77          0.79           0.78   0.87              0.84  0.810\n",
       "White            0.78          0.81           0.80   0.88              0.92  0.838"
      ]
     },
     "execution_count": 25,
     "metadata": {},
     "output_type": "execute_result"
    }
   ],
   "source": [
    "shared_utils.auc_per_protected_group(cxr_disease_df_labels, Mode.Disease, Configs, cxr_disease_labels,\n",
    "                                     cxr_disease_outputs, protected_groups=['race'])"
   ]
  },
  {
   "cell_type": "code",
   "execution_count": 26,
   "id": "4e306567",
   "metadata": {},
   "outputs": [
    {
     "data": {
      "text/html": [
       "<div>\n",
       "<style scoped>\n",
       "    .dataframe tbody tr th:only-of-type {\n",
       "        vertical-align: middle;\n",
       "    }\n",
       "\n",
       "    .dataframe tbody tr th {\n",
       "        vertical-align: top;\n",
       "    }\n",
       "\n",
       "    .dataframe thead th {\n",
       "        text-align: right;\n",
       "    }\n",
       "</style>\n",
       "<table border=\"1\" class=\"dataframe\">\n",
       "  <thead>\n",
       "    <tr style=\"text-align: right;\">\n",
       "      <th></th>\n",
       "      <th>Atelectasis</th>\n",
       "      <th>Cardiomegaly</th>\n",
       "      <th>Consolidation</th>\n",
       "      <th>Edema</th>\n",
       "      <th>Pleural Effusion</th>\n",
       "      <th>Mean</th>\n",
       "    </tr>\n",
       "    <tr>\n",
       "      <th>gender</th>\n",
       "      <th></th>\n",
       "      <th></th>\n",
       "      <th></th>\n",
       "      <th></th>\n",
       "      <th></th>\n",
       "      <th></th>\n",
       "    </tr>\n",
       "  </thead>\n",
       "  <tbody>\n",
       "    <tr>\n",
       "      <th>Female</th>\n",
       "      <td>0.81</td>\n",
       "      <td>0.8</td>\n",
       "      <td>0.82</td>\n",
       "      <td>0.90</td>\n",
       "      <td>0.9</td>\n",
       "      <td>0.846</td>\n",
       "    </tr>\n",
       "    <tr>\n",
       "      <th>Male</th>\n",
       "      <td>0.79</td>\n",
       "      <td>0.8</td>\n",
       "      <td>0.81</td>\n",
       "      <td>0.85</td>\n",
       "      <td>0.9</td>\n",
       "      <td>0.830</td>\n",
       "    </tr>\n",
       "  </tbody>\n",
       "</table>\n",
       "</div>"
      ],
      "text/plain": [
       "        Atelectasis  Cardiomegaly  Consolidation  Edema  Pleural Effusion   Mean\n",
       "gender                                                                          \n",
       "Female         0.81           0.8           0.82   0.90               0.9  0.846\n",
       "Male           0.79           0.8           0.81   0.85               0.9  0.830"
      ]
     },
     "execution_count": 26,
     "metadata": {},
     "output_type": "execute_result"
    }
   ],
   "source": [
    "shared_utils.auc_per_protected_group(cxr_disease_df_labels, Mode.Disease, Configs, cxr_disease_labels,\n",
    "                                     cxr_disease_outputs, protected_groups=['gender'])"
   ]
  },
  {
   "cell_type": "code",
   "execution_count": 27,
   "id": "8f704cdf",
   "metadata": {},
   "outputs": [
    {
     "data": {
      "text/html": [
       "<div>\n",
       "<style scoped>\n",
       "    .dataframe tbody tr th:only-of-type {\n",
       "        vertical-align: middle;\n",
       "    }\n",
       "\n",
       "    .dataframe tbody tr th {\n",
       "        vertical-align: top;\n",
       "    }\n",
       "\n",
       "    .dataframe thead th {\n",
       "        text-align: right;\n",
       "    }\n",
       "</style>\n",
       "<table border=\"1\" class=\"dataframe\">\n",
       "  <thead>\n",
       "    <tr style=\"text-align: right;\">\n",
       "      <th></th>\n",
       "      <th>Atelectasis</th>\n",
       "      <th>Cardiomegaly</th>\n",
       "      <th>Consolidation</th>\n",
       "      <th>Edema</th>\n",
       "      <th>Pleural Effusion</th>\n",
       "      <th>Mean</th>\n",
       "    </tr>\n",
       "    <tr>\n",
       "      <th>age</th>\n",
       "      <th></th>\n",
       "      <th></th>\n",
       "      <th></th>\n",
       "      <th></th>\n",
       "      <th></th>\n",
       "      <th></th>\n",
       "    </tr>\n",
       "  </thead>\n",
       "  <tbody>\n",
       "    <tr>\n",
       "      <th>20-40</th>\n",
       "      <td>0.88</td>\n",
       "      <td>0.83</td>\n",
       "      <td>0.89</td>\n",
       "      <td>0.91</td>\n",
       "      <td>0.94</td>\n",
       "      <td>0.890</td>\n",
       "    </tr>\n",
       "    <tr>\n",
       "      <th>40-70</th>\n",
       "      <td>0.79</td>\n",
       "      <td>0.79</td>\n",
       "      <td>0.85</td>\n",
       "      <td>0.88</td>\n",
       "      <td>0.87</td>\n",
       "      <td>0.836</td>\n",
       "    </tr>\n",
       "    <tr>\n",
       "      <th>70-90</th>\n",
       "      <td>0.71</td>\n",
       "      <td>0.73</td>\n",
       "      <td>0.71</td>\n",
       "      <td>0.82</td>\n",
       "      <td>0.87</td>\n",
       "      <td>0.768</td>\n",
       "    </tr>\n",
       "  </tbody>\n",
       "</table>\n",
       "</div>"
      ],
      "text/plain": [
       "       Atelectasis  Cardiomegaly  Consolidation  Edema  Pleural Effusion   Mean\n",
       "age                                                                            \n",
       "20-40         0.88          0.83           0.89   0.91              0.94  0.890\n",
       "40-70         0.79          0.79           0.85   0.88              0.87  0.836\n",
       "70-90         0.71          0.73           0.71   0.82              0.87  0.768"
      ]
     },
     "execution_count": 27,
     "metadata": {},
     "output_type": "execute_result"
    }
   ],
   "source": [
    "shared_utils.auc_per_protected_group(cxr_disease_df_labels, Mode.Disease, Configs, cxr_disease_labels,\n",
    "                                     cxr_disease_outputs, protected_groups=['age'])"
   ]
  },
  {
   "cell_type": "code",
   "execution_count": 28,
   "id": "cffba2c1",
   "metadata": {},
   "outputs": [
    {
     "name": "stdout",
     "output_type": "stream",
     "text": [
      "Only one class present in y_true. ROC AUC score is not defined in that case.\n"
     ]
    },
    {
     "data": {
      "text/html": [
       "<div>\n",
       "<style scoped>\n",
       "    .dataframe tbody tr th:only-of-type {\n",
       "        vertical-align: middle;\n",
       "    }\n",
       "\n",
       "    .dataframe tbody tr th {\n",
       "        vertical-align: top;\n",
       "    }\n",
       "\n",
       "    .dataframe thead th {\n",
       "        text-align: right;\n",
       "    }\n",
       "</style>\n",
       "<table border=\"1\" class=\"dataframe\">\n",
       "  <thead>\n",
       "    <tr style=\"text-align: right;\">\n",
       "      <th></th>\n",
       "      <th></th>\n",
       "      <th></th>\n",
       "      <th>Atelectasis</th>\n",
       "      <th>Cardiomegaly</th>\n",
       "      <th>Consolidation</th>\n",
       "      <th>Edema</th>\n",
       "      <th>Pleural Effusion</th>\n",
       "      <th>Mean</th>\n",
       "    </tr>\n",
       "    <tr>\n",
       "      <th>gender</th>\n",
       "      <th>age</th>\n",
       "      <th>race</th>\n",
       "      <th></th>\n",
       "      <th></th>\n",
       "      <th></th>\n",
       "      <th></th>\n",
       "      <th></th>\n",
       "      <th></th>\n",
       "    </tr>\n",
       "  </thead>\n",
       "  <tbody>\n",
       "    <tr>\n",
       "      <th rowspan=\"15\" valign=\"top\">Female</th>\n",
       "      <th rowspan=\"5\" valign=\"top\">20-40</th>\n",
       "      <th>Asian</th>\n",
       "      <td>0.93</td>\n",
       "      <td>0.83</td>\n",
       "      <td>0.95</td>\n",
       "      <td>0.93</td>\n",
       "      <td>0.94</td>\n",
       "      <td>0.9160</td>\n",
       "    </tr>\n",
       "    <tr>\n",
       "      <th>Black</th>\n",
       "      <td>0.95</td>\n",
       "      <td>0.89</td>\n",
       "      <td>1.00</td>\n",
       "      <td>0.99</td>\n",
       "      <td>0.96</td>\n",
       "      <td>0.9580</td>\n",
       "    </tr>\n",
       "    <tr>\n",
       "      <th>Hispanic</th>\n",
       "      <td>0.90</td>\n",
       "      <td>0.76</td>\n",
       "      <td>0.95</td>\n",
       "      <td>0.99</td>\n",
       "      <td>0.98</td>\n",
       "      <td>0.9160</td>\n",
       "    </tr>\n",
       "    <tr>\n",
       "      <th>Other</th>\n",
       "      <td>0.87</td>\n",
       "      <td>0.91</td>\n",
       "      <td>0.87</td>\n",
       "      <td>0.93</td>\n",
       "      <td>0.81</td>\n",
       "      <td>0.8780</td>\n",
       "    </tr>\n",
       "    <tr>\n",
       "      <th>White</th>\n",
       "      <td>0.86</td>\n",
       "      <td>0.91</td>\n",
       "      <td>0.92</td>\n",
       "      <td>0.91</td>\n",
       "      <td>0.98</td>\n",
       "      <td>0.9160</td>\n",
       "    </tr>\n",
       "    <tr>\n",
       "      <th rowspan=\"5\" valign=\"top\">40-70</th>\n",
       "      <th>Asian</th>\n",
       "      <td>0.83</td>\n",
       "      <td>0.84</td>\n",
       "      <td>0.76</td>\n",
       "      <td>0.86</td>\n",
       "      <td>0.93</td>\n",
       "      <td>0.8440</td>\n",
       "    </tr>\n",
       "    <tr>\n",
       "      <th>Black</th>\n",
       "      <td>0.77</td>\n",
       "      <td>0.70</td>\n",
       "      <td>0.33</td>\n",
       "      <td>0.89</td>\n",
       "      <td>0.91</td>\n",
       "      <td>0.7200</td>\n",
       "    </tr>\n",
       "    <tr>\n",
       "      <th>Hispanic</th>\n",
       "      <td>0.84</td>\n",
       "      <td>0.87</td>\n",
       "      <td>NaN</td>\n",
       "      <td>0.86</td>\n",
       "      <td>0.94</td>\n",
       "      <td>0.8775</td>\n",
       "    </tr>\n",
       "    <tr>\n",
       "      <th>Other</th>\n",
       "      <td>0.73</td>\n",
       "      <td>0.74</td>\n",
       "      <td>0.92</td>\n",
       "      <td>0.88</td>\n",
       "      <td>0.72</td>\n",
       "      <td>0.7980</td>\n",
       "    </tr>\n",
       "    <tr>\n",
       "      <th>White</th>\n",
       "      <td>0.72</td>\n",
       "      <td>0.72</td>\n",
       "      <td>0.83</td>\n",
       "      <td>0.91</td>\n",
       "      <td>0.86</td>\n",
       "      <td>0.8080</td>\n",
       "    </tr>\n",
       "    <tr>\n",
       "      <th rowspan=\"5\" valign=\"top\">70-90</th>\n",
       "      <th>Asian</th>\n",
       "      <td>0.69</td>\n",
       "      <td>0.75</td>\n",
       "      <td>0.72</td>\n",
       "      <td>0.89</td>\n",
       "      <td>0.85</td>\n",
       "      <td>0.7800</td>\n",
       "    </tr>\n",
       "    <tr>\n",
       "      <th>Black</th>\n",
       "      <td>0.78</td>\n",
       "      <td>0.75</td>\n",
       "      <td>0.78</td>\n",
       "      <td>0.88</td>\n",
       "      <td>0.90</td>\n",
       "      <td>0.8180</td>\n",
       "    </tr>\n",
       "    <tr>\n",
       "      <th>Hispanic</th>\n",
       "      <td>0.73</td>\n",
       "      <td>0.75</td>\n",
       "      <td>0.68</td>\n",
       "      <td>0.80</td>\n",
       "      <td>0.88</td>\n",
       "      <td>0.7680</td>\n",
       "    </tr>\n",
       "    <tr>\n",
       "      <th>Other</th>\n",
       "      <td>0.72</td>\n",
       "      <td>0.75</td>\n",
       "      <td>0.62</td>\n",
       "      <td>0.84</td>\n",
       "      <td>0.83</td>\n",
       "      <td>0.7520</td>\n",
       "    </tr>\n",
       "    <tr>\n",
       "      <th>White</th>\n",
       "      <td>0.68</td>\n",
       "      <td>0.69</td>\n",
       "      <td>0.92</td>\n",
       "      <td>0.86</td>\n",
       "      <td>0.91</td>\n",
       "      <td>0.8120</td>\n",
       "    </tr>\n",
       "    <tr>\n",
       "      <th rowspan=\"15\" valign=\"top\">Male</th>\n",
       "      <th rowspan=\"5\" valign=\"top\">20-40</th>\n",
       "      <th>Asian</th>\n",
       "      <td>0.91</td>\n",
       "      <td>0.87</td>\n",
       "      <td>0.91</td>\n",
       "      <td>0.87</td>\n",
       "      <td>0.97</td>\n",
       "      <td>0.9060</td>\n",
       "    </tr>\n",
       "    <tr>\n",
       "      <th>Black</th>\n",
       "      <td>0.85</td>\n",
       "      <td>0.86</td>\n",
       "      <td>0.91</td>\n",
       "      <td>0.87</td>\n",
       "      <td>0.90</td>\n",
       "      <td>0.8780</td>\n",
       "    </tr>\n",
       "    <tr>\n",
       "      <th>Hispanic</th>\n",
       "      <td>0.81</td>\n",
       "      <td>0.81</td>\n",
       "      <td>0.86</td>\n",
       "      <td>0.86</td>\n",
       "      <td>0.96</td>\n",
       "      <td>0.8600</td>\n",
       "    </tr>\n",
       "    <tr>\n",
       "      <th>Other</th>\n",
       "      <td>0.82</td>\n",
       "      <td>0.73</td>\n",
       "      <td>0.80</td>\n",
       "      <td>0.83</td>\n",
       "      <td>0.90</td>\n",
       "      <td>0.8160</td>\n",
       "    </tr>\n",
       "    <tr>\n",
       "      <th>White</th>\n",
       "      <td>0.91</td>\n",
       "      <td>0.79</td>\n",
       "      <td>0.84</td>\n",
       "      <td>0.91</td>\n",
       "      <td>0.95</td>\n",
       "      <td>0.8800</td>\n",
       "    </tr>\n",
       "    <tr>\n",
       "      <th rowspan=\"5\" valign=\"top\">40-70</th>\n",
       "      <th>Asian</th>\n",
       "      <td>0.78</td>\n",
       "      <td>0.82</td>\n",
       "      <td>0.90</td>\n",
       "      <td>0.90</td>\n",
       "      <td>0.94</td>\n",
       "      <td>0.8680</td>\n",
       "    </tr>\n",
       "    <tr>\n",
       "      <th>Black</th>\n",
       "      <td>0.85</td>\n",
       "      <td>0.80</td>\n",
       "      <td>0.85</td>\n",
       "      <td>0.83</td>\n",
       "      <td>0.90</td>\n",
       "      <td>0.8460</td>\n",
       "    </tr>\n",
       "    <tr>\n",
       "      <th>Hispanic</th>\n",
       "      <td>0.81</td>\n",
       "      <td>0.80</td>\n",
       "      <td>0.92</td>\n",
       "      <td>0.89</td>\n",
       "      <td>0.79</td>\n",
       "      <td>0.8420</td>\n",
       "    </tr>\n",
       "    <tr>\n",
       "      <th>Other</th>\n",
       "      <td>0.73</td>\n",
       "      <td>0.73</td>\n",
       "      <td>0.81</td>\n",
       "      <td>0.90</td>\n",
       "      <td>0.81</td>\n",
       "      <td>0.7960</td>\n",
       "    </tr>\n",
       "    <tr>\n",
       "      <th>White</th>\n",
       "      <td>0.80</td>\n",
       "      <td>0.83</td>\n",
       "      <td>0.75</td>\n",
       "      <td>0.84</td>\n",
       "      <td>0.92</td>\n",
       "      <td>0.8280</td>\n",
       "    </tr>\n",
       "    <tr>\n",
       "      <th rowspan=\"5\" valign=\"top\">70-90</th>\n",
       "      <th>Asian</th>\n",
       "      <td>0.66</td>\n",
       "      <td>0.72</td>\n",
       "      <td>0.72</td>\n",
       "      <td>0.74</td>\n",
       "      <td>0.82</td>\n",
       "      <td>0.7320</td>\n",
       "    </tr>\n",
       "    <tr>\n",
       "      <th>Black</th>\n",
       "      <td>0.74</td>\n",
       "      <td>0.72</td>\n",
       "      <td>0.68</td>\n",
       "      <td>0.73</td>\n",
       "      <td>0.90</td>\n",
       "      <td>0.7540</td>\n",
       "    </tr>\n",
       "    <tr>\n",
       "      <th>Hispanic</th>\n",
       "      <td>0.72</td>\n",
       "      <td>0.78</td>\n",
       "      <td>0.99</td>\n",
       "      <td>0.87</td>\n",
       "      <td>0.86</td>\n",
       "      <td>0.8440</td>\n",
       "    </tr>\n",
       "    <tr>\n",
       "      <th>Other</th>\n",
       "      <td>0.69</td>\n",
       "      <td>0.74</td>\n",
       "      <td>0.67</td>\n",
       "      <td>0.78</td>\n",
       "      <td>0.85</td>\n",
       "      <td>0.7460</td>\n",
       "    </tr>\n",
       "    <tr>\n",
       "      <th>White</th>\n",
       "      <td>0.72</td>\n",
       "      <td>0.68</td>\n",
       "      <td>0.69</td>\n",
       "      <td>0.80</td>\n",
       "      <td>0.88</td>\n",
       "      <td>0.7540</td>\n",
       "    </tr>\n",
       "  </tbody>\n",
       "</table>\n",
       "</div>"
      ],
      "text/plain": [
       "                       Atelectasis  Cardiomegaly  Consolidation  Edema  Pleural Effusion    Mean\n",
       "gender age   race                                                                               \n",
       "Female 20-40 Asian            0.93          0.83           0.95   0.93              0.94  0.9160\n",
       "             Black            0.95          0.89           1.00   0.99              0.96  0.9580\n",
       "             Hispanic         0.90          0.76           0.95   0.99              0.98  0.9160\n",
       "             Other            0.87          0.91           0.87   0.93              0.81  0.8780\n",
       "             White            0.86          0.91           0.92   0.91              0.98  0.9160\n",
       "       40-70 Asian            0.83          0.84           0.76   0.86              0.93  0.8440\n",
       "             Black            0.77          0.70           0.33   0.89              0.91  0.7200\n",
       "             Hispanic         0.84          0.87            NaN   0.86              0.94  0.8775\n",
       "             Other            0.73          0.74           0.92   0.88              0.72  0.7980\n",
       "             White            0.72          0.72           0.83   0.91              0.86  0.8080\n",
       "       70-90 Asian            0.69          0.75           0.72   0.89              0.85  0.7800\n",
       "             Black            0.78          0.75           0.78   0.88              0.90  0.8180\n",
       "             Hispanic         0.73          0.75           0.68   0.80              0.88  0.7680\n",
       "             Other            0.72          0.75           0.62   0.84              0.83  0.7520\n",
       "             White            0.68          0.69           0.92   0.86              0.91  0.8120\n",
       "Male   20-40 Asian            0.91          0.87           0.91   0.87              0.97  0.9060\n",
       "             Black            0.85          0.86           0.91   0.87              0.90  0.8780\n",
       "             Hispanic         0.81          0.81           0.86   0.86              0.96  0.8600\n",
       "             Other            0.82          0.73           0.80   0.83              0.90  0.8160\n",
       "             White            0.91          0.79           0.84   0.91              0.95  0.8800\n",
       "       40-70 Asian            0.78          0.82           0.90   0.90              0.94  0.8680\n",
       "             Black            0.85          0.80           0.85   0.83              0.90  0.8460\n",
       "             Hispanic         0.81          0.80           0.92   0.89              0.79  0.8420\n",
       "             Other            0.73          0.73           0.81   0.90              0.81  0.7960\n",
       "             White            0.80          0.83           0.75   0.84              0.92  0.8280\n",
       "       70-90 Asian            0.66          0.72           0.72   0.74              0.82  0.7320\n",
       "             Black            0.74          0.72           0.68   0.73              0.90  0.7540\n",
       "             Hispanic         0.72          0.78           0.99   0.87              0.86  0.8440\n",
       "             Other            0.69          0.74           0.67   0.78              0.85  0.7460\n",
       "             White            0.72          0.68           0.69   0.80              0.88  0.7540"
      ]
     },
     "execution_count": 28,
     "metadata": {},
     "output_type": "execute_result"
    }
   ],
   "source": [
    "shared_utils.auc_per_protected_group(cxr_disease_df_labels, Mode.Disease, Configs, cxr_disease_labels,\n",
    "                                     cxr_disease_outputs, protected_groups=['gender', 'age','race'])"
   ]
  },
  {
   "cell_type": "markdown",
   "id": "7bbbf178",
   "metadata": {
    "heading_collapsed": true
   },
   "source": [
    "# Race Prediction"
   ]
  },
  {
   "cell_type": "markdown",
   "id": "42e859cb",
   "metadata": {
    "ExecuteTime": {
     "end_time": "2022-07-21T14:19:24.707979Z",
     "start_time": "2022-07-21T14:19:24.413562Z"
    },
    "hidden": true
   },
   "source": [
    "## Validation Dataloaders"
   ]
  },
  {
   "cell_type": "code",
   "execution_count": 29,
   "id": "7d0bb1c9",
   "metadata": {
    "ExecuteTime": {
     "end_time": "2022-07-21T14:19:24.707979Z",
     "start_time": "2022-07-21T14:19:24.413562Z"
    },
    "hidden": true
   },
   "outputs": [
    {
     "data": {
      "text/plain": [
       "172"
      ]
     },
     "execution_count": 29,
     "metadata": {},
     "output_type": "execute_result"
    }
   ],
   "source": [
    "cxp_race_valid_dataset = CheXpertRaceDataset(data_dir=Configs.CHEXPERT_DATA_DIR, demo_filename=Configs.CHEXPERT_DEMO_FILENAME, \n",
    "                                             labels_filename=Configs.CHEXPERT_VALID_LABELS_FILENAME, transform=valid_transform)\n",
    "cxp_race_valid_dataset.df_labels = cxp_race_valid_dataset.df_labels[:Configs.VALID_SIZE_DEBUG]\n",
    "cxp_race_valid_dataloader = DataLoader(cxp_race_valid_dataset, batch_size=Configs.BATCH_SIZE, shuffle=False)\n",
    "len(cxp_race_valid_dataset)"
   ]
  },
  {
   "cell_type": "code",
   "execution_count": 30,
   "id": "e3dc1852",
   "metadata": {
    "ExecuteTime": {
     "end_time": "2022-07-21T14:19:24.707979Z",
     "start_time": "2022-07-21T14:19:24.413562Z"
    },
    "hidden": true
   },
   "outputs": [
    {
     "data": {
      "text/plain": [
       "2400"
      ]
     },
     "execution_count": 30,
     "metadata": {},
     "output_type": "execute_result"
    }
   ],
   "source": [
    "# cxr_disease_valid_dataset = CXRDataset.download_dataset(10, cxr_mode.Race, Configs.CXR_DATA_DIR,\n",
    "#                                                         Configs.CXR_VALID_LABELS_FILENAME, **Configs.CXR_FILENAMES,\n",
    "#                                                         transform=valid_transform, target_transform=None)\n",
    "cxr_race_valid_dataset = CXRDataset(Mode.Race, Configs.CXR_DATA_DIR, Configs.CXR_VALID_LABELS_FILENAME,\n",
    "                                    transform=valid_transform)\n",
    "cxr_race_valid_dataset.df_labels = cxr_race_valid_dataset.df_labels[:Configs.VALID_SIZE_DEBUG]\n",
    "cxr_race_valid_dataloader = DataLoader(cxr_race_valid_dataset, batch_size=Configs.BATCH_SIZE, shuffle=False)\n",
    "len(cxr_race_valid_dataset)"
   ]
  },
  {
   "cell_type": "markdown",
   "id": "5ffe146a",
   "metadata": {
    "ExecuteTime": {
     "end_time": "2022-07-21T16:23:42.209187Z",
     "start_time": "2022-07-21T16:23:42.015805Z"
    },
    "hidden": true
   },
   "source": [
    "## Pretrained Models "
   ]
  },
  {
   "cell_type": "code",
   "execution_count": 31,
   "id": "8c0dd9ca",
   "metadata": {
    "ExecuteTime": {
     "end_time": "2022-07-21T16:23:42.209187Z",
     "start_time": "2022-07-21T16:23:42.015805Z"
    },
    "hidden": true
   },
   "outputs": [
    {
     "data": {
      "text/plain": [
       "8"
      ]
     },
     "execution_count": 31,
     "metadata": {},
     "output_type": "execute_result"
    }
   ],
   "source": [
    "_, _, files = next(os.walk(Configs.CHEXPERT_RACE_TRAINED_MODELS_DIR))\n",
    "race_trained_models = [os.path.join(Configs.CHEXPERT_RACE_TRAINED_MODELS_DIR, file) for file in files]\n",
    "race_model_versions = [p.split('__')[1] for p in race_trained_models]\n",
    "len(race_trained_models)"
   ]
  },
  {
   "cell_type": "code",
   "execution_count": 32,
   "id": "0b78d6b4",
   "metadata": {
    "ExecuteTime": {
     "end_time": "2022-07-21T16:23:42.209187Z",
     "start_time": "2022-07-21T16:23:42.015805Z"
    },
    "hidden": true
   },
   "outputs": [
    {
     "name": "stdout",
     "output_type": "stream",
     "text": [
      "2022-07-23 21:20: Loading model - CheXpert/race_prediction/trained_models/2022_07_19-15_29__densenet121_race_denseblock1_freezed__epoch-9__iter-10266__batch_size-16__trainLastLoss-0.2805__validAUC-0.9178.dict\n",
      "2022-07-23 21:20: Loading model - CheXpert/race_prediction/trained_models/2022_07_19-02_27__densenet121_race_denseblock2_freezed__epoch-9__iter-10266__batch_size-16__trainLastLoss-0.2811__validAUC-0.9094.dict\n",
      "2022-07-23 21:20: Loading model - CheXpert/race_prediction/trained_models/2022_07_18-10_11__densenet121_race_classifier_freezed__epoch-9__iter-10266__batch_size-16__trainLastLoss-0.732__validAUC-0.6978.dict\n",
      "2022-07-23 21:20: Loading model - CheXpert/race_prediction/trained_models/2022_07_21-13_21__densenet121_race_denseblock2_shallow__epoch-9__iter-10266__batch_size-16__trainLastLoss-0.3791__validAUC-0.9075.dict\n",
      "2022-07-23 21:20: Loading model - CheXpert/race_prediction/trained_models/2022_07_18-21_46__densenet121_race_denseblock3_freezed__epoch-9__iter-10266__batch_size-16__trainLastLoss-0.3124__validAUC-0.8853.dict\n",
      "2022-07-23 21:20: Loading model - CheXpert/race_prediction/trained_models/2022_07_18-17_32__densenet121_race_denseblock4_freezed__epoch-9__iter-10266__batch_size-16__trainLastLoss-0.496__validAUC-0.8621.dict\n",
      "2022-07-23 21:20: Loading model - CheXpert/race_prediction/trained_models/2022_07_21-09_43__densenet121_race_denseblock1_shallow__epoch-9__iter-10266__batch_size-16__trainLastLoss-0.5886__validAUC-0.8691.dict\n",
      "2022-07-23 21:20: Loading model - CheXpert/race_prediction/trained_models/2022_07_17-14_07__densenet121_race__epoch-9__iter-10266__batch_size-16__trainLastLoss-0.2842__validAUC-0.9196.dict\n"
     ]
    }
   ],
   "source": [
    "models_dict = {}\n",
    "for model_version, model_path in zip(race_model_versions, race_trained_models):\n",
    "    model = densenet121()\n",
    "    if \"shallow\" in model_version:\n",
    "        shallow_denseblock = int(model_version.split('_')[2][10:])\n",
    "        layer_offset = 3 + 2 * shallow_denseblock\n",
    "        num_features = model.features[layer_offset].norm.num_features\n",
    "        model = model.features[:layer_offset]\n",
    "        classifier_module = nn.Sequential(\n",
    "            nn.BatchNorm2d(num_features, eps=1e-05, momentum=0.1, affine=True, track_running_stats=True),\n",
    "            nn.ReLU(),\n",
    "            nn.AdaptiveAvgPool2d((1, 1)),   \n",
    "            nn.Flatten(start_dim=1),\n",
    "            nn.Linear(in_features=num_features, out_features=num_features, bias=True),\n",
    "            nn.Dropout(p=0.1),\n",
    "            nn.Linear(in_features=num_features, out_features=Configs.NUM_RACE_CLASSES, bias=True))\n",
    "        model.add_module('classifier', classifier_module)\n",
    "    else:\n",
    "        num_features = model.classifier.in_features\n",
    "        model.classifier = nn.Sequential(\n",
    "            nn.Linear(num_features, num_features, bias=True),\n",
    "            nn.ReLU(),\n",
    "            nn.Dropout(p=0.1),\n",
    "            nn.Linear(in_features=num_features, out_features=Configs.NUM_RACE_CLASSES, bias=True))\n",
    "    model.eval()\n",
    "    model, results, _, _ = shared_utils.load_statedict(model, model_path, Configs, device='cpu')\n",
    "    models_dict[model_version] = model"
   ]
  },
  {
   "cell_type": "markdown",
   "id": "984434af",
   "metadata": {
    "ExecuteTime": {
     "end_time": "2022-07-21T16:31:01.313615Z",
     "start_time": "2022-07-21T16:31:01.225770Z"
    },
    "hidden": true
   },
   "source": [
    "## Predictions "
   ]
  },
  {
   "cell_type": "code",
   "execution_count": 33,
   "id": "56d2c851",
   "metadata": {
    "ExecuteTime": {
     "end_time": "2022-07-21T16:31:01.313615Z",
     "start_time": "2022-07-21T16:31:01.225770Z"
    },
    "hidden": true
   },
   "outputs": [
    {
     "data": {
      "text/html": [
       "<div>\n",
       "<style scoped>\n",
       "    .dataframe tbody tr th:only-of-type {\n",
       "        vertical-align: middle;\n",
       "    }\n",
       "\n",
       "    .dataframe tbody tr th {\n",
       "        vertical-align: top;\n",
       "    }\n",
       "\n",
       "    .dataframe thead th {\n",
       "        text-align: right;\n",
       "    }\n",
       "</style>\n",
       "<table border=\"1\" class=\"dataframe\">\n",
       "  <thead>\n",
       "    <tr style=\"text-align: right;\">\n",
       "      <th></th>\n",
       "      <th>Asian</th>\n",
       "      <th>Black</th>\n",
       "      <th>Hispanic</th>\n",
       "      <th>White</th>\n",
       "      <th>Mean</th>\n",
       "    </tr>\n",
       "  </thead>\n",
       "  <tbody>\n",
       "  </tbody>\n",
       "</table>\n",
       "</div>"
      ],
      "text/plain": [
       "Empty DataFrame\n",
       "Columns: [Asian, Black, Hispanic, White, Mean]\n",
       "Index: []"
      ]
     },
     "execution_count": 33,
     "metadata": {},
     "output_type": "execute_result"
    }
   ],
   "source": [
    "df_res_race = pd.DataFrame(columns=Configs.RACE_ANNOTATIONS_COLUMNS + ['Mean'])\n",
    "df_res_race"
   ]
  },
  {
   "cell_type": "code",
   "execution_count": null,
   "id": "f6e7e6ab",
   "metadata": {
    "ExecuteTime": {
     "end_time": "2022-07-21T16:44:21.735440Z",
     "start_time": "2022-07-21T16:31:02.587322Z"
    },
    "hidden": true,
    "scrolled": true
   },
   "outputs": [
    {
     "data": {
      "application/vnd.jupyter.widget-view+json": {
       "model_id": "07d32e8d5e69432fa9709b0369afa77e",
       "version_major": 2,
       "version_minor": 0
      },
      "text/plain": [
       "  0%|          | 0/8 [00:00<?, ?it/s]"
      ]
     },
     "metadata": {},
     "output_type": "display_data"
    }
   ],
   "source": [
    "for model_version, model in tqdm(models_dict.items()):\n",
    "    model = to_gpu(model)\n",
    "    cxp_race_labels, cxp_race_outputs = shared_utils.get_metric_tensors(model, cxp_race_valid_dataloader, Configs,\n",
    "                                                                        apply_on_outputs=lambda x: torch.softmax(x, dim=1),\n",
    "                                                                        by_study=False, challenge_ann_only=None)\n",
    "    cxr_race_labels, cxr_race_outputs = shared_utils.get_metric_tensors(model, cxr_race_valid_dataloader, Configs,\n",
    "                                                                        apply_on_outputs=lambda x: torch.softmax(x, dim=1),\n",
    "                                                                        by_study=False, challenge_ann_only=None)\n",
    "    df_res_race.loc[f\"CXP_{model_version}\"] = add_mean_to_list(shared_utils.auc_score(cxp_race_labels, cxp_race_outputs, per_class=True))\n",
    "    df_res_race.loc[f\"CXR_{model_version}\"] = add_mean_to_list(shared_utils.auc_score(cxr_race_labels, cxr_race_outputs, per_class=True))\n",
    "    model.cpu()"
   ]
  },
  {
   "cell_type": "code",
   "execution_count": null,
   "id": "c05199b1",
   "metadata": {
    "hidden": true
   },
   "outputs": [],
   "source": [
    "df_res_race.sort_values(by=\"Mean\", ascending=False, inplace=True)\n",
    "df_res_race = df_res_race.round(2)"
   ]
  },
  {
   "cell_type": "code",
   "execution_count": null,
   "id": "159a918b",
   "metadata": {
    "hidden": true
   },
   "outputs": [],
   "source": [
    "df_res_race"
   ]
  },
  {
   "cell_type": "markdown",
   "id": "af1b96d1",
   "metadata": {
    "hidden": true
   },
   "source": [
    "## Performance Per Protected Groups"
   ]
  },
  {
   "cell_type": "code",
   "execution_count": null,
   "id": "d26abc02",
   "metadata": {
    "hidden": true
   },
   "outputs": [],
   "source": [
    "# race, age group, and gender to ChexPertDiseaseDatatset\n",
    "cxp_race_df_labels = cxp_race_valid_dataset.df_labels[['PATIENT', 'race', 'AGE_AT_CXR', 'GENDER'] + Configs.RACE_ANNOTATIONS_COLUMNS].drop_duplicates()\n",
    "cxp_race_df_labels['age'] = cxp_race_df_labels.AGE_AT_CXR.apply(shared_utils.age_to_age_group)\n",
    "cxp_race_df_labels['gender'] = cxp_race_df_labels.GENDER\n",
    "cxp_race_df_labels.head(2)"
   ]
  },
  {
   "cell_type": "code",
   "execution_count": null,
   "id": "2d27dd76",
   "metadata": {
    "hidden": true
   },
   "outputs": [],
   "source": [
    "cxr_race_df_labels = cxr_race_valid_dataset.df_labels.copy()\n",
    "cxr_race_df_labels.gender.replace({\"M\": \"Male\", \"F\": \"Female\"}, inplace=True)\n",
    "cxr_race_df_labels.head(2)"
   ]
  },
  {
   "cell_type": "code",
   "execution_count": null,
   "id": "fd2de51b",
   "metadata": {
    "hidden": true
   },
   "outputs": [],
   "source": [
    "model = models_dict['densenet121_race']\n",
    "model = to_gpu(model)\n",
    "cxp_race_labels, cxp_race_outputs = shared_utils.get_metric_tensors(model, cxp_race_valid_dataloader, Configs,\n",
    "                                                                    apply_on_outputs=lambda x: torch.softmax(x, dim=1),\n",
    "                                                                    by_study=False, challenge_ann_only=None)\n",
    "cxr_race_labels, cxr_race_outputs = shared_utils.get_metric_tensors(model, cxr_race_valid_dataloader, Configs,\n",
    "                                                                    apply_on_outputs=lambda x: torch.softmax(x, dim=1),\n",
    "                                                                    by_study=False, challenge_ann_only=None)"
   ]
  },
  {
   "cell_type": "code",
   "execution_count": null,
   "id": "aed7db15",
   "metadata": {
    "hidden": true
   },
   "outputs": [],
   "source": [
    "shared_utils.auc_per_protected_group(cxp_race_df_labels, Mode.Race, Configs, cxp_race_labels,\n",
    "                                     cxp_race_outputs, protected_groups=['gender'])"
   ]
  },
  {
   "cell_type": "code",
   "execution_count": null,
   "id": "2ceb6e44",
   "metadata": {
    "hidden": true
   },
   "outputs": [],
   "source": [
    "shared_utils.auc_per_protected_group(cxp_race_df_labels, Mode.Race, Configs, cxp_race_labels,\n",
    "                                     cxp_race_outputs, protected_groups=['age'])"
   ]
  },
  {
   "cell_type": "code",
   "execution_count": null,
   "id": "0a93ecaf",
   "metadata": {
    "hidden": true
   },
   "outputs": [],
   "source": [
    "shared_utils.auc_per_protected_group(cxr_race_df_labels, Mode.Race, Configs, cxr_race_labels,\n",
    "                                     cxr_race_outputs, protected_groups=['gender'])"
   ]
  },
  {
   "cell_type": "code",
   "execution_count": null,
   "id": "36de3a01",
   "metadata": {},
   "outputs": [],
   "source": [
    "shared_utils.auc_per_protected_group(cxr_race_df_labels, Mode.Race, Configs, cxr_race_labels,\n",
    "                                     cxr_race_outputs, protected_groups=['age'])"
   ]
  },
  {
   "cell_type": "code",
   "execution_count": null,
   "id": "d45ee83f",
   "metadata": {},
   "outputs": [],
   "source": [
    "shared_utils.auc_per_protected_group(cxr_race_df_labels, Mode.Race, Configs, cxr_race_labels,\n",
    "                                     cxr_race_outputs, protected_groups=['gender', 'age'])"
   ]
  }
 ],
 "metadata": {
  "kernelspec": {
   "display_name": "Python 3 (ipykernel)",
   "language": "python",
   "name": "python3"
  },
  "language_info": {
   "codemirror_mode": {
    "name": "ipython",
    "version": 3
   },
   "file_extension": ".py",
   "mimetype": "text/x-python",
   "name": "python",
   "nbconvert_exporter": "python",
   "pygments_lexer": "ipython3",
   "version": "3.9.12"
  },
  "toc": {
   "base_numbering": 1,
   "nav_menu": {},
   "number_sections": true,
   "sideBar": true,
   "skip_h1_title": false,
   "title_cell": "Table of Contents",
   "title_sidebar": "Contents",
   "toc_cell": false,
   "toc_position": {},
   "toc_section_display": true,
   "toc_window_display": false
  },
  "varInspector": {
   "cols": {
    "lenName": 16,
    "lenType": 16,
    "lenVar": 40
   },
   "kernels_config": {
    "python": {
     "delete_cmd_postfix": "",
     "delete_cmd_prefix": "del ",
     "library": "var_list.py",
     "varRefreshCmd": "print(var_dic_list())"
    },
    "r": {
     "delete_cmd_postfix": ") ",
     "delete_cmd_prefix": "rm(",
     "library": "var_list.r",
     "varRefreshCmd": "cat(var_dic_list()) "
    }
   },
   "types_to_exclude": [
    "module",
    "function",
    "builtin_function_or_method",
    "instance",
    "_Feature"
   ],
   "window_display": false
  }
 },
 "nbformat": 4,
 "nbformat_minor": 5
}
