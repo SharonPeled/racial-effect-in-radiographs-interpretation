{
 "cells": [
  {
   "cell_type": "markdown",
   "id": "8bc0b1b3",
   "metadata": {
    "ExecuteTime": {
     "end_time": "2022-07-21T05:33:49.424988Z",
     "start_time": "2022-07-21T05:33:49.384775Z"
    }
   },
   "source": [
    "# Imports"
   ]
  },
  {
   "cell_type": "code",
   "execution_count": 1,
   "id": "3646f2f4",
   "metadata": {
    "ExecuteTime": {
     "end_time": "2022-07-22T14:12:59.021360Z",
     "start_time": "2022-07-22T14:12:58.740298Z"
    }
   },
   "outputs": [],
   "source": [
    "%load_ext autoreload\n",
    "%autoreload 2"
   ]
  },
  {
   "cell_type": "code",
   "execution_count": 2,
   "id": "a996f0f3",
   "metadata": {
    "ExecuteTime": {
     "end_time": "2022-07-21T14:14:06.499351Z",
     "start_time": "2022-07-21T14:14:06.400385Z"
    }
   },
   "outputs": [],
   "source": [
    "%reload_ext autoreload"
   ]
  },
  {
   "cell_type": "code",
   "execution_count": 3,
   "id": "13bfa53f",
   "metadata": {
    "ExecuteTime": {
     "end_time": "2022-07-22T16:59:23.175572Z",
     "start_time": "2022-07-22T16:59:20.571201Z"
    }
   },
   "outputs": [],
   "source": [
    "import pandas as pd\n",
    "import numpy as np\n",
    "import matplotlib.pyplot as plt\n",
    "from tqdm.notebook import tqdm\n",
    "import torch\n",
    "from torch import nn\n",
    "from torch.utils.data import DataLoader\n",
    "from torchvision import transforms\n",
    "import time\n",
    "from itertools import islice\n",
    "from dataclasses import dataclass\n",
    "import torchvision\n",
    "from torchvision.models import densenet161, DenseNet161_Weights, vit_b_16, ViT_B_16_Weights, densenet121, DenseNet121_Weights\n",
    "import os\n",
    "import sys\n",
    "from pathlib import Path\n",
    "from torchinfo import summary"
   ]
  },
  {
   "cell_type": "code",
   "execution_count": 4,
   "id": "df775d77",
   "metadata": {
    "ExecuteTime": {
     "end_time": "2022-07-22T16:59:23.280704Z",
     "start_time": "2022-07-22T16:59:23.267748Z"
    }
   },
   "outputs": [],
   "source": [
    "pd.set_option('display.max_rows', 500)\n",
    "pd.set_option('display.max_columns', 500)\n",
    "pd.set_option('display.width', 1000)"
   ]
  },
  {
   "cell_type": "code",
   "execution_count": 5,
   "id": "94d5dc17",
   "metadata": {
    "ExecuteTime": {
     "end_time": "2022-07-22T16:59:23.401043Z",
     "start_time": "2022-07-22T16:59:23.358091Z"
    }
   },
   "outputs": [],
   "source": [
    "from CheXpert.race_prediction.dataset import CheXpertRaceDataset\n",
    "from CheXpert.disease_prediction.dataset import CheXpertDiseaseDataset\n",
    "from shared_utils import vprint, to_gpu, add_mean_to_list\n",
    "import shared_utils\n",
    "from CheXpert.disease_prediction.utils import Configs as disease_configs\n",
    "from CheXpert.race_prediction.utils import Configs as race_configs\n",
    "from MIMIC_CXR.dataset import CXRDataset\n",
    "from MIMIC_CXR.utils import Mode as cxr_mode, Configs as cxr_configs"
   ]
  },
  {
   "cell_type": "markdown",
   "id": "05f14239",
   "metadata": {
    "ExecuteTime": {
     "end_time": "2022-07-21T05:33:51.356245Z",
     "start_time": "2022-07-21T05:33:51.338273Z"
    }
   },
   "source": [
    "# Configs"
   ]
  },
  {
   "cell_type": "code",
   "execution_count": 6,
   "id": "01fab996",
   "metadata": {
    "ExecuteTime": {
     "end_time": "2022-07-22T16:01:16.173561Z",
     "start_time": "2022-07-22T16:01:16.121804Z"
    }
   },
   "outputs": [],
   "source": [
    "@dataclass\n",
    "class Configs:\n",
    "    CXR_DATA_DIR = os.path.join(\"data\", \"MIMIC-CXR-JPG\")\n",
    "    CXR_VALID_LABELS_FILENAME = \"valid.csv\"\n",
    "    CXR_FILENAMES = cxr_configs.CXR_FILENAMES\n",
    "    CHEXPERT_DATA_DIR = os.path.join(\"data\", \"CheXpert\", \"CheXpert-v1.0-small\")\n",
    "    CHEXPERT_DISEASE_TRAINED_MODELS_DIR = os.path.join(\"CheXpert\", \"disease_prediction\", \"trained_models\")\n",
    "    CHEXPERT_RACE_TRAINED_MODELS_DIR = os.path.join(\"CheXpert\", \"race_prediction\", \"trained_models\")\n",
    "    CHEXPERT_VALID_LABELS_FILENAME = \"valid.csv\"\n",
    "    CHEXPERT_DEMO_FILENAME = \"CHEXPERT DEMO.csv\"\n",
    "    DISEASE_ANNOTATIONS_COLUMNS = disease_configs.ANNOTATIONS_COLUMNS\n",
    "    RACE_ANNOTATIONS_COLUMNS = race_configs.ANNOTATIONS_COLUMNS\n",
    "    NUM_DISEASE_CLASSES = disease_configs.NUM_CLASSES\n",
    "    NUM_RACE_CLASSES = race_configs.NUM_CLASSES\n",
    "    BATCH_SIZE = 4\n",
    "    SEED = 123\n",
    "    VERBOSE = 1"
   ]
  },
  {
   "cell_type": "code",
   "execution_count": 7,
   "id": "bef84566",
   "metadata": {
    "ExecuteTime": {
     "end_time": "2022-07-22T16:01:16.671453Z",
     "start_time": "2022-07-22T16:01:16.616888Z"
    }
   },
   "outputs": [],
   "source": [
    "shared_utils.set_seed(Configs.SEED)"
   ]
  },
  {
   "cell_type": "code",
   "execution_count": 8,
   "id": "d7d39db2",
   "metadata": {
    "ExecuteTime": {
     "end_time": "2022-07-22T16:01:17.828555Z",
     "start_time": "2022-07-22T16:01:17.808341Z"
    }
   },
   "outputs": [
    {
     "name": "stdout",
     "output_type": "stream",
     "text": [
      "2022-07-23 15:41: Memory info: 8.5 GB free GPU.\n"
     ]
    }
   ],
   "source": [
    "if torch.cuda.is_available():\n",
    "    vprint(f\"Memory info: {torch.cuda.mem_get_info()[0]/10e8:.1f} GB free GPU.\", Configs)\n",
    "else: \n",
    "    vprint(f\"No GPU Memory.\", Configs)"
   ]
  },
  {
   "cell_type": "code",
   "execution_count": 9,
   "id": "5e54f8c4",
   "metadata": {
    "ExecuteTime": {
     "end_time": "2022-07-22T16:01:18.191028Z",
     "start_time": "2022-07-22T16:01:18.172268Z"
    }
   },
   "outputs": [],
   "source": [
    "valid_transform = transforms.Compose([\n",
    "    transforms.Resize((320,320)),\n",
    "    transforms.ToTensor(), \n",
    "    transforms.Normalize([0.485, 0.456, 0.406], [0.229, 0.224, 0.225])\n",
    "])"
   ]
  },
  {
   "cell_type": "markdown",
   "id": "7c69f194",
   "metadata": {},
   "source": [
    "# Disease Prediction "
   ]
  },
  {
   "cell_type": "markdown",
   "id": "bae9eb6e",
   "metadata": {
    "ExecuteTime": {
     "end_time": "2022-07-22T16:01:19.304263Z",
     "start_time": "2022-07-22T16:01:19.207737Z"
    }
   },
   "source": [
    "## Validaiton Dataloaders"
   ]
  },
  {
   "cell_type": "code",
   "execution_count": 10,
   "id": "7b9e15a6",
   "metadata": {
    "ExecuteTime": {
     "end_time": "2022-07-22T16:01:19.304263Z",
     "start_time": "2022-07-22T16:01:19.207737Z"
    }
   },
   "outputs": [
    {
     "data": {
      "text/plain": [
       "234"
      ]
     },
     "execution_count": 10,
     "metadata": {},
     "output_type": "execute_result"
    }
   ],
   "source": [
    "cxp_disease_valid_dataset = CheXpertDiseaseDataset(data_dir=Configs.CHEXPERT_DATA_DIR, \n",
    "                                                   labels_filename=Configs.CHEXPERT_VALID_LABELS_FILENAME,\n",
    "                                                   transform=valid_transform)\n",
    "cxp_disease_valid_dataloader = DataLoader(cxp_disease_valid_dataset, batch_size=Configs.BATCH_SIZE, shuffle=False)\n",
    "len(cxp_disease_valid_dataset)"
   ]
  },
  {
   "cell_type": "code",
   "execution_count": null,
   "id": "91d0dcaa",
   "metadata": {
    "ExecuteTime": {
     "end_time": "2022-07-22T16:01:19.304263Z",
     "start_time": "2022-07-22T16:01:19.207737Z"
    }
   },
   "outputs": [
    {
     "name": "stdout",
     "output_type": "stream",
     "text": [
      "2022-07-23 15:41: Enter username\n",
      "sharonpe\n",
      "2022-07-23 15:41: Enter password\n",
      "0524344058\n"
     ]
    },
    {
     "name": "stderr",
     "output_type": "stream",
     "text": [
      "--2022-07-23 15:41:27--  https://physionet.org/files/mimic-cxr-jpg/2.0.0/files/p10/p19859532/s50453930/a5369d17-994f6cf1-dee57320-252febcc-6906f561.jpg\n",
      "Resolving physionet.org (physionet.org)... 18.18.42.54\n",
      "Connecting to physionet.org (physionet.org)|18.18.42.54|:443... connected.\n",
      "HTTP request sent, awaiting response... 401 Unauthorized\n",
      "Authentication selected: Basic realm=\"PhysioNet\", charset=\"UTF-8\"\n",
      "Reusing existing connection to physionet.org:443.\n",
      "HTTP request sent, awaiting response... 404 Not Found\n",
      "2022-07-23 15:41:28 ERROR 404: Not Found.\n",
      "\n",
      "--2022-07-23 15:41:28--  https://physionet.org/files/mimic-cxr-jpg/2.0.0/files/p11/p19859532/s50453930/a5369d17-994f6cf1-dee57320-252febcc-6906f561.jpg\n",
      "Resolving physionet.org (physionet.org)... 18.18.42.54\n",
      "Connecting to physionet.org (physionet.org)|18.18.42.54|:443... connected.\n",
      "HTTP request sent, awaiting response... 401 Unauthorized\n",
      "Authentication selected: Basic realm=\"PhysioNet\", charset=\"UTF-8\"\n",
      "Reusing existing connection to physionet.org:443.\n",
      "HTTP request sent, awaiting response... 404 Not Found\n",
      "2022-07-23 15:41:28 ERROR 404: Not Found.\n",
      "\n",
      "--2022-07-23 15:41:28--  https://physionet.org/files/mimic-cxr-jpg/2.0.0/files/p12/p19859532/s50453930/a5369d17-994f6cf1-dee57320-252febcc-6906f561.jpg\n",
      "Resolving physionet.org (physionet.org)... 18.18.42.54\n",
      "Connecting to physionet.org (physionet.org)|18.18.42.54|:443... connected.\n",
      "HTTP request sent, awaiting response... 401 Unauthorized\n",
      "Authentication selected: Basic realm=\"PhysioNet\", charset=\"UTF-8\"\n",
      "Reusing existing connection to physionet.org:443.\n",
      "HTTP request sent, awaiting response... 404 Not Found\n",
      "2022-07-23 15:41:28 ERROR 404: Not Found.\n",
      "\n",
      "--2022-07-23 15:41:28--  https://physionet.org/files/mimic-cxr-jpg/2.0.0/files/p13/p19859532/s50453930/a5369d17-994f6cf1-dee57320-252febcc-6906f561.jpg\n",
      "Resolving physionet.org (physionet.org)... 18.18.42.54\n",
      "Connecting to physionet.org (physionet.org)|18.18.42.54|:443... connected.\n",
      "HTTP request sent, awaiting response... 401 Unauthorized\n",
      "Authentication selected: Basic realm=\"PhysioNet\", charset=\"UTF-8\"\n",
      "Reusing existing connection to physionet.org:443.\n",
      "HTTP request sent, awaiting response... 404 Not Found\n",
      "2022-07-23 15:41:28 ERROR 404: Not Found.\n",
      "\n",
      "--2022-07-23 15:41:28--  https://physionet.org/files/mimic-cxr-jpg/2.0.0/files/p14/p19859532/s50453930/a5369d17-994f6cf1-dee57320-252febcc-6906f561.jpg\n",
      "Resolving physionet.org (physionet.org)... 18.18.42.54\n",
      "Connecting to physionet.org (physionet.org)|18.18.42.54|:443... connected.\n",
      "HTTP request sent, awaiting response... 401 Unauthorized\n",
      "Authentication selected: Basic realm=\"PhysioNet\", charset=\"UTF-8\"\n",
      "Reusing existing connection to physionet.org:443.\n",
      "HTTP request sent, awaiting response... 404 Not Found\n",
      "2022-07-23 15:41:29 ERROR 404: Not Found.\n",
      "\n",
      "--2022-07-23 15:41:29--  https://physionet.org/files/mimic-cxr-jpg/2.0.0/files/p15/p19859532/s50453930/a5369d17-994f6cf1-dee57320-252febcc-6906f561.jpg\n",
      "Resolving physionet.org (physionet.org)... 18.18.42.54\n",
      "Connecting to physionet.org (physionet.org)|18.18.42.54|:443... connected.\n",
      "HTTP request sent, awaiting response... 401 Unauthorized\n",
      "Authentication selected: Basic realm=\"PhysioNet\", charset=\"UTF-8\"\n",
      "Reusing existing connection to physionet.org:443.\n",
      "HTTP request sent, awaiting response... 404 Not Found\n",
      "2022-07-23 15:41:29 ERROR 404: Not Found.\n",
      "\n",
      "--2022-07-23 15:41:29--  https://physionet.org/files/mimic-cxr-jpg/2.0.0/files/p16/p19859532/s50453930/a5369d17-994f6cf1-dee57320-252febcc-6906f561.jpg\n",
      "Resolving physionet.org (physionet.org)... 18.18.42.54\n",
      "Connecting to physionet.org (physionet.org)|18.18.42.54|:443... connected.\n",
      "HTTP request sent, awaiting response... 401 Unauthorized\n",
      "Authentication selected: Basic realm=\"PhysioNet\", charset=\"UTF-8\"\n",
      "Reusing existing connection to physionet.org:443.\n",
      "HTTP request sent, awaiting response... 404 Not Found\n",
      "2022-07-23 15:41:29 ERROR 404: Not Found.\n",
      "\n",
      "--2022-07-23 15:41:29--  https://physionet.org/files/mimic-cxr-jpg/2.0.0/files/p17/p19859532/s50453930/a5369d17-994f6cf1-dee57320-252febcc-6906f561.jpg\n",
      "Resolving physionet.org (physionet.org)... 18.18.42.54\n",
      "Connecting to physionet.org (physionet.org)|18.18.42.54|:443... connected.\n",
      "HTTP request sent, awaiting response... 401 Unauthorized\n",
      "Authentication selected: Basic realm=\"PhysioNet\", charset=\"UTF-8\"\n",
      "Reusing existing connection to physionet.org:443.\n",
      "HTTP request sent, awaiting response... 404 Not Found\n",
      "2022-07-23 15:41:29 ERROR 404: Not Found.\n",
      "\n",
      "--2022-07-23 15:41:29--  https://physionet.org/files/mimic-cxr-jpg/2.0.0/files/p18/p19859532/s50453930/a5369d17-994f6cf1-dee57320-252febcc-6906f561.jpg\n",
      "Resolving physionet.org (physionet.org)... 18.18.42.54\n",
      "Connecting to physionet.org (physionet.org)|18.18.42.54|:443... connected.\n",
      "HTTP request sent, awaiting response... 401 Unauthorized\n",
      "Authentication selected: Basic realm=\"PhysioNet\", charset=\"UTF-8\"\n",
      "Reusing existing connection to physionet.org:443.\n",
      "HTTP request sent, awaiting response... 404 Not Found\n",
      "2022-07-23 15:41:29 ERROR 404: Not Found.\n",
      "\n",
      "--2022-07-23 15:41:29--  https://physionet.org/files/mimic-cxr-jpg/2.0.0/files/p19/p19859532/s50453930/a5369d17-994f6cf1-dee57320-252febcc-6906f561.jpg\n",
      "Resolving physionet.org (physionet.org)... 18.18.42.54\n",
      "Connecting to physionet.org (physionet.org)|18.18.42.54|:443... connected.\n",
      "HTTP request sent, awaiting response... 401 Unauthorized\n",
      "Authentication selected: Basic realm=\"PhysioNet\", charset=\"UTF-8\"\n",
      "Reusing existing connection to physionet.org:443.\n",
      "HTTP request sent, awaiting response... 304 Not Modified\n",
      "File ‘data/MIMIC-CXR-JPG/physionet.org/files/mimic-cxr-jpg/2.0.0/files/p19/p19859532/s50453930/a5369d17-994f6cf1-dee57320-252febcc-6906f561.jpg’ not modified on server. Omitting download.\n",
      "\n",
      "--2022-07-23 15:41:30--  https://physionet.org/files/mimic-cxr-jpg/2.0.0/files/p10/p17719678/s54809507/5d2b5624-28073582-14636856-8a3597b6-4cbc4bf3.jpg\n",
      "Resolving physionet.org (physionet.org)... 18.18.42.54\n",
      "Connecting to physionet.org (physionet.org)|18.18.42.54|:443... connected.\n",
      "HTTP request sent, awaiting response... 401 Unauthorized\n",
      "Authentication selected: Basic realm=\"PhysioNet\", charset=\"UTF-8\"\n",
      "Reusing existing connection to physionet.org:443.\n",
      "HTTP request sent, awaiting response... 404 Not Found\n",
      "2022-07-23 15:41:30 ERROR 404: Not Found.\n",
      "\n",
      "--2022-07-23 15:41:30--  https://physionet.org/files/mimic-cxr-jpg/2.0.0/files/p11/p17719678/s54809507/5d2b5624-28073582-14636856-8a3597b6-4cbc4bf3.jpg\n",
      "Resolving physionet.org (physionet.org)... 18.18.42.54\n",
      "Connecting to physionet.org (physionet.org)|18.18.42.54|:443... connected.\n",
      "HTTP request sent, awaiting response... 401 Unauthorized\n",
      "Authentication selected: Basic realm=\"PhysioNet\", charset=\"UTF-8\"\n",
      "Reusing existing connection to physionet.org:443.\n",
      "HTTP request sent, awaiting response... 404 Not Found\n",
      "2022-07-23 15:41:30 ERROR 404: Not Found.\n",
      "\n",
      "--2022-07-23 15:41:30--  https://physionet.org/files/mimic-cxr-jpg/2.0.0/files/p12/p17719678/s54809507/5d2b5624-28073582-14636856-8a3597b6-4cbc4bf3.jpg\n",
      "Resolving physionet.org (physionet.org)... 18.18.42.54\n",
      "Connecting to physionet.org (physionet.org)|18.18.42.54|:443... connected.\n",
      "HTTP request sent, awaiting response... 401 Unauthorized\n",
      "Authentication selected: Basic realm=\"PhysioNet\", charset=\"UTF-8\"\n",
      "Reusing existing connection to physionet.org:443.\n",
      "HTTP request sent, awaiting response... 404 Not Found\n",
      "2022-07-23 15:41:30 ERROR 404: Not Found.\n",
      "\n",
      "--2022-07-23 15:41:30--  https://physionet.org/files/mimic-cxr-jpg/2.0.0/files/p13/p17719678/s54809507/5d2b5624-28073582-14636856-8a3597b6-4cbc4bf3.jpg\n",
      "Resolving physionet.org (physionet.org)... 18.18.42.54\n",
      "Connecting to physionet.org (physionet.org)|18.18.42.54|:443... connected.\n",
      "HTTP request sent, awaiting response... 401 Unauthorized\n",
      "Authentication selected: Basic realm=\"PhysioNet\", charset=\"UTF-8\"\n",
      "Reusing existing connection to physionet.org:443.\n",
      "HTTP request sent, awaiting response... 404 Not Found\n",
      "2022-07-23 15:41:30 ERROR 404: Not Found.\n",
      "\n",
      "--2022-07-23 15:41:30--  https://physionet.org/files/mimic-cxr-jpg/2.0.0/files/p14/p17719678/s54809507/5d2b5624-28073582-14636856-8a3597b6-4cbc4bf3.jpg\n",
      "Resolving physionet.org (physionet.org)... 18.18.42.54\n",
      "Connecting to physionet.org (physionet.org)|18.18.42.54|:443... connected.\n",
      "HTTP request sent, awaiting response... 401 Unauthorized\n",
      "Authentication selected: Basic realm=\"PhysioNet\", charset=\"UTF-8\"\n",
      "Reusing existing connection to physionet.org:443.\n"
     ]
    },
    {
     "name": "stderr",
     "output_type": "stream",
     "text": [
      "HTTP request sent, awaiting response... 404 Not Found\n",
      "2022-07-23 15:41:31 ERROR 404: Not Found.\n",
      "\n",
      "--2022-07-23 15:41:31--  https://physionet.org/files/mimic-cxr-jpg/2.0.0/files/p15/p17719678/s54809507/5d2b5624-28073582-14636856-8a3597b6-4cbc4bf3.jpg\n",
      "Resolving physionet.org (physionet.org)... 18.18.42.54\n",
      "Connecting to physionet.org (physionet.org)|18.18.42.54|:443... connected.\n",
      "HTTP request sent, awaiting response... 401 Unauthorized\n",
      "Authentication selected: Basic realm=\"PhysioNet\", charset=\"UTF-8\"\n",
      "Reusing existing connection to physionet.org:443.\n",
      "HTTP request sent, awaiting response... 404 Not Found\n",
      "2022-07-23 15:41:31 ERROR 404: Not Found.\n",
      "\n",
      "--2022-07-23 15:41:31--  https://physionet.org/files/mimic-cxr-jpg/2.0.0/files/p16/p17719678/s54809507/5d2b5624-28073582-14636856-8a3597b6-4cbc4bf3.jpg\n",
      "Resolving physionet.org (physionet.org)... 18.18.42.54\n",
      "Connecting to physionet.org (physionet.org)|18.18.42.54|:443... connected.\n",
      "HTTP request sent, awaiting response... 401 Unauthorized\n",
      "Authentication selected: Basic realm=\"PhysioNet\", charset=\"UTF-8\"\n",
      "Reusing existing connection to physionet.org:443.\n",
      "HTTP request sent, awaiting response... 404 Not Found\n",
      "2022-07-23 15:41:31 ERROR 404: Not Found.\n",
      "\n",
      "--2022-07-23 15:41:31--  https://physionet.org/files/mimic-cxr-jpg/2.0.0/files/p17/p17719678/s54809507/5d2b5624-28073582-14636856-8a3597b6-4cbc4bf3.jpg\n",
      "Resolving physionet.org (physionet.org)... 18.18.42.54\n",
      "Connecting to physionet.org (physionet.org)|18.18.42.54|:443... connected.\n",
      "HTTP request sent, awaiting response... 401 Unauthorized\n",
      "Authentication selected: Basic realm=\"PhysioNet\", charset=\"UTF-8\"\n",
      "Reusing existing connection to physionet.org:443.\n",
      "HTTP request sent, awaiting response... 304 Not Modified\n",
      "File ‘data/MIMIC-CXR-JPG/physionet.org/files/mimic-cxr-jpg/2.0.0/files/p17/p17719678/s54809507/5d2b5624-28073582-14636856-8a3597b6-4cbc4bf3.jpg’ not modified on server. Omitting download.\n",
      "\n",
      "--2022-07-23 15:41:31--  https://physionet.org/files/mimic-cxr-jpg/2.0.0/files/p10/p10713800/s50775315/ba3cb0e1-92b05322-27b82d1a-fe627ab0-3783021c.jpg\n",
      "Resolving physionet.org (physionet.org)... 18.18.42.54\n",
      "Connecting to physionet.org (physionet.org)|18.18.42.54|:443... connected.\n",
      "HTTP request sent, awaiting response... 401 Unauthorized\n",
      "Authentication selected: Basic realm=\"PhysioNet\", charset=\"UTF-8\"\n",
      "Reusing existing connection to physionet.org:443.\n",
      "HTTP request sent, awaiting response... 304 Not Modified\n",
      "File ‘data/MIMIC-CXR-JPG/physionet.org/files/mimic-cxr-jpg/2.0.0/files/p10/p10713800/s50775315/ba3cb0e1-92b05322-27b82d1a-fe627ab0-3783021c.jpg’ not modified on server. Omitting download.\n",
      "\n",
      "--2022-07-23 15:41:31--  https://physionet.org/files/mimic-cxr-jpg/2.0.0/files/p10/p18298873/s56521458/c38d3f0e-5d9b3b82-92395194-42896d53-2c4c7018.jpg\n",
      "Resolving physionet.org (physionet.org)... 18.18.42.54\n",
      "Connecting to physionet.org (physionet.org)|18.18.42.54|:443... connected.\n",
      "HTTP request sent, awaiting response... 401 Unauthorized\n",
      "Authentication selected: Basic realm=\"PhysioNet\", charset=\"UTF-8\"\n",
      "Reusing existing connection to physionet.org:443.\n",
      "HTTP request sent, awaiting response... 404 Not Found\n",
      "2022-07-23 15:41:32 ERROR 404: Not Found.\n",
      "\n",
      "--2022-07-23 15:41:32--  https://physionet.org/files/mimic-cxr-jpg/2.0.0/files/p11/p18298873/s56521458/c38d3f0e-5d9b3b82-92395194-42896d53-2c4c7018.jpg\n",
      "Resolving physionet.org (physionet.org)... 18.18.42.54\n",
      "Connecting to physionet.org (physionet.org)|18.18.42.54|:443... connected.\n",
      "HTTP request sent, awaiting response... 401 Unauthorized\n",
      "Authentication selected: Basic realm=\"PhysioNet\", charset=\"UTF-8\"\n",
      "Reusing existing connection to physionet.org:443.\n",
      "HTTP request sent, awaiting response... 404 Not Found\n",
      "2022-07-23 15:41:32 ERROR 404: Not Found.\n",
      "\n",
      "--2022-07-23 15:41:32--  https://physionet.org/files/mimic-cxr-jpg/2.0.0/files/p12/p18298873/s56521458/c38d3f0e-5d9b3b82-92395194-42896d53-2c4c7018.jpg\n",
      "Resolving physionet.org (physionet.org)... 18.18.42.54\n",
      "Connecting to physionet.org (physionet.org)|18.18.42.54|:443... connected.\n",
      "HTTP request sent, awaiting response... 401 Unauthorized\n",
      "Authentication selected: Basic realm=\"PhysioNet\", charset=\"UTF-8\"\n",
      "Reusing existing connection to physionet.org:443.\n",
      "HTTP request sent, awaiting response... 404 Not Found\n",
      "2022-07-23 15:41:32 ERROR 404: Not Found.\n",
      "\n",
      "--2022-07-23 15:41:32--  https://physionet.org/files/mimic-cxr-jpg/2.0.0/files/p13/p18298873/s56521458/c38d3f0e-5d9b3b82-92395194-42896d53-2c4c7018.jpg\n",
      "Resolving physionet.org (physionet.org)... 18.18.42.54\n",
      "Connecting to physionet.org (physionet.org)|18.18.42.54|:443... connected.\n",
      "HTTP request sent, awaiting response... 401 Unauthorized\n",
      "Authentication selected: Basic realm=\"PhysioNet\", charset=\"UTF-8\"\n",
      "Reusing existing connection to physionet.org:443.\n",
      "HTTP request sent, awaiting response... 404 Not Found\n",
      "2022-07-23 15:41:32 ERROR 404: Not Found.\n",
      "\n",
      "--2022-07-23 15:41:32--  https://physionet.org/files/mimic-cxr-jpg/2.0.0/files/p14/p18298873/s56521458/c38d3f0e-5d9b3b82-92395194-42896d53-2c4c7018.jpg\n",
      "Resolving physionet.org (physionet.org)... 18.18.42.54\n",
      "Connecting to physionet.org (physionet.org)|18.18.42.54|:443... connected.\n",
      "HTTP request sent, awaiting response... 401 Unauthorized\n",
      "Authentication selected: Basic realm=\"PhysioNet\", charset=\"UTF-8\"\n",
      "Reusing existing connection to physionet.org:443.\n",
      "HTTP request sent, awaiting response... 404 Not Found\n",
      "2022-07-23 15:41:32 ERROR 404: Not Found.\n",
      "\n",
      "--2022-07-23 15:41:32--  https://physionet.org/files/mimic-cxr-jpg/2.0.0/files/p15/p18298873/s56521458/c38d3f0e-5d9b3b82-92395194-42896d53-2c4c7018.jpg\n",
      "Resolving physionet.org (physionet.org)... 18.18.42.54\n",
      "Connecting to physionet.org (physionet.org)|18.18.42.54|:443... connected.\n",
      "HTTP request sent, awaiting response... 401 Unauthorized\n",
      "Authentication selected: Basic realm=\"PhysioNet\", charset=\"UTF-8\"\n",
      "Reusing existing connection to physionet.org:443.\n",
      "HTTP request sent, awaiting response... 404 Not Found\n",
      "2022-07-23 15:41:33 ERROR 404: Not Found.\n",
      "\n",
      "--2022-07-23 15:41:33--  https://physionet.org/files/mimic-cxr-jpg/2.0.0/files/p16/p18298873/s56521458/c38d3f0e-5d9b3b82-92395194-42896d53-2c4c7018.jpg\n",
      "Resolving physionet.org (physionet.org)... 18.18.42.54\n",
      "Connecting to physionet.org (physionet.org)|18.18.42.54|:443... connected.\n",
      "HTTP request sent, awaiting response... 401 Unauthorized\n",
      "Authentication selected: Basic realm=\"PhysioNet\", charset=\"UTF-8\"\n",
      "Reusing existing connection to physionet.org:443.\n",
      "HTTP request sent, awaiting response... 404 Not Found\n",
      "2022-07-23 15:41:33 ERROR 404: Not Found.\n",
      "\n",
      "--2022-07-23 15:41:33--  https://physionet.org/files/mimic-cxr-jpg/2.0.0/files/p17/p18298873/s56521458/c38d3f0e-5d9b3b82-92395194-42896d53-2c4c7018.jpg\n",
      "Resolving physionet.org (physionet.org)... 18.18.42.54\n",
      "Connecting to physionet.org (physionet.org)|18.18.42.54|:443... connected.\n",
      "HTTP request sent, awaiting response... 401 Unauthorized\n",
      "Authentication selected: Basic realm=\"PhysioNet\", charset=\"UTF-8\"\n",
      "Reusing existing connection to physionet.org:443.\n",
      "HTTP request sent, awaiting response... 404 Not Found\n",
      "2022-07-23 15:41:33 ERROR 404: Not Found.\n",
      "\n",
      "--2022-07-23 15:41:33--  https://physionet.org/files/mimic-cxr-jpg/2.0.0/files/p18/p18298873/s56521458/c38d3f0e-5d9b3b82-92395194-42896d53-2c4c7018.jpg\n",
      "Resolving physionet.org (physionet.org)... 18.18.42.54\n",
      "Connecting to physionet.org (physionet.org)|18.18.42.54|:443... connected.\n",
      "HTTP request sent, awaiting response... 401 Unauthorized\n",
      "Authentication selected: Basic realm=\"PhysioNet\", charset=\"UTF-8\"\n",
      "Reusing existing connection to physionet.org:443.\n",
      "HTTP request sent, awaiting response... 304 Not Modified\n",
      "File ‘data/MIMIC-CXR-JPG/physionet.org/files/mimic-cxr-jpg/2.0.0/files/p18/p18298873/s56521458/c38d3f0e-5d9b3b82-92395194-42896d53-2c4c7018.jpg’ not modified on server. Omitting download.\n",
      "\n",
      "--2022-07-23 15:41:33--  https://physionet.org/files/mimic-cxr-jpg/2.0.0/files/p10/p16067111/s58762653/1e45e0b2-8bbf479c-e8f925c2-b6300acb-1219f4ca.jpg\n",
      "Resolving physionet.org (physionet.org)... 18.18.42.54\n",
      "Connecting to physionet.org (physionet.org)|18.18.42.54|:443... connected.\n",
      "HTTP request sent, awaiting response... 401 Unauthorized\n",
      "Authentication selected: Basic realm=\"PhysioNet\", charset=\"UTF-8\"\n",
      "Reusing existing connection to physionet.org:443.\n",
      "HTTP request sent, awaiting response... 404 Not Found\n",
      "2022-07-23 15:41:33 ERROR 404: Not Found.\n",
      "\n"
     ]
    },
    {
     "name": "stderr",
     "output_type": "stream",
     "text": [
      "--2022-07-23 15:41:33--  https://physionet.org/files/mimic-cxr-jpg/2.0.0/files/p11/p16067111/s58762653/1e45e0b2-8bbf479c-e8f925c2-b6300acb-1219f4ca.jpg\n",
      "Resolving physionet.org (physionet.org)... 18.18.42.54\n",
      "Connecting to physionet.org (physionet.org)|18.18.42.54|:443... connected.\n",
      "HTTP request sent, awaiting response... 401 Unauthorized\n",
      "Authentication selected: Basic realm=\"PhysioNet\", charset=\"UTF-8\"\n",
      "Reusing existing connection to physionet.org:443.\n",
      "HTTP request sent, awaiting response... 404 Not Found\n",
      "2022-07-23 15:41:34 ERROR 404: Not Found.\n",
      "\n",
      "--2022-07-23 15:41:34--  https://physionet.org/files/mimic-cxr-jpg/2.0.0/files/p12/p16067111/s58762653/1e45e0b2-8bbf479c-e8f925c2-b6300acb-1219f4ca.jpg\n",
      "Resolving physionet.org (physionet.org)... 18.18.42.54\n",
      "Connecting to physionet.org (physionet.org)|18.18.42.54|:443... connected.\n",
      "HTTP request sent, awaiting response... 401 Unauthorized\n",
      "Authentication selected: Basic realm=\"PhysioNet\", charset=\"UTF-8\"\n",
      "Reusing existing connection to physionet.org:443.\n",
      "HTTP request sent, awaiting response... 404 Not Found\n",
      "2022-07-23 15:41:34 ERROR 404: Not Found.\n",
      "\n",
      "--2022-07-23 15:41:34--  https://physionet.org/files/mimic-cxr-jpg/2.0.0/files/p13/p16067111/s58762653/1e45e0b2-8bbf479c-e8f925c2-b6300acb-1219f4ca.jpg\n",
      "Resolving physionet.org (physionet.org)... 18.18.42.54\n",
      "Connecting to physionet.org (physionet.org)|18.18.42.54|:443... connected.\n",
      "HTTP request sent, awaiting response... 401 Unauthorized\n",
      "Authentication selected: Basic realm=\"PhysioNet\", charset=\"UTF-8\"\n",
      "Reusing existing connection to physionet.org:443.\n",
      "HTTP request sent, awaiting response... 404 Not Found\n",
      "2022-07-23 15:41:34 ERROR 404: Not Found.\n",
      "\n",
      "--2022-07-23 15:41:34--  https://physionet.org/files/mimic-cxr-jpg/2.0.0/files/p14/p16067111/s58762653/1e45e0b2-8bbf479c-e8f925c2-b6300acb-1219f4ca.jpg\n",
      "Resolving physionet.org (physionet.org)... 18.18.42.54\n",
      "Connecting to physionet.org (physionet.org)|18.18.42.54|:443... connected.\n",
      "HTTP request sent, awaiting response... 401 Unauthorized\n",
      "Authentication selected: Basic realm=\"PhysioNet\", charset=\"UTF-8\"\n",
      "Reusing existing connection to physionet.org:443.\n",
      "HTTP request sent, awaiting response... 404 Not Found\n",
      "2022-07-23 15:41:34 ERROR 404: Not Found.\n",
      "\n",
      "--2022-07-23 15:41:34--  https://physionet.org/files/mimic-cxr-jpg/2.0.0/files/p15/p16067111/s58762653/1e45e0b2-8bbf479c-e8f925c2-b6300acb-1219f4ca.jpg\n",
      "Resolving physionet.org (physionet.org)... 18.18.42.54\n",
      "Connecting to physionet.org (physionet.org)|18.18.42.54|:443... connected.\n",
      "HTTP request sent, awaiting response... 401 Unauthorized\n",
      "Authentication selected: Basic realm=\"PhysioNet\", charset=\"UTF-8\"\n",
      "Reusing existing connection to physionet.org:443.\n",
      "HTTP request sent, awaiting response... 404 Not Found\n",
      "2022-07-23 15:41:34 ERROR 404: Not Found.\n",
      "\n",
      "--2022-07-23 15:41:34--  https://physionet.org/files/mimic-cxr-jpg/2.0.0/files/p16/p16067111/s58762653/1e45e0b2-8bbf479c-e8f925c2-b6300acb-1219f4ca.jpg\n",
      "Resolving physionet.org (physionet.org)... 18.18.42.54\n",
      "Connecting to physionet.org (physionet.org)|18.18.42.54|:443... connected.\n",
      "HTTP request sent, awaiting response... 401 Unauthorized\n",
      "Authentication selected: Basic realm=\"PhysioNet\", charset=\"UTF-8\"\n",
      "Reusing existing connection to physionet.org:443.\n",
      "HTTP request sent, awaiting response... 304 Not Modified\n",
      "File ‘data/MIMIC-CXR-JPG/physionet.org/files/mimic-cxr-jpg/2.0.0/files/p16/p16067111/s58762653/1e45e0b2-8bbf479c-e8f925c2-b6300acb-1219f4ca.jpg’ not modified on server. Omitting download.\n",
      "\n",
      "--2022-07-23 15:41:35--  https://physionet.org/files/mimic-cxr-jpg/2.0.0/files/p10/p10667797/s53309984/2f4e8ca7-4b391bdf-91e7ee6a-f52c530c-282ba5a1.jpg\n",
      "Resolving physionet.org (physionet.org)... 18.18.42.54\n",
      "Connecting to physionet.org (physionet.org)|18.18.42.54|:443... connected.\n",
      "HTTP request sent, awaiting response... 401 Unauthorized\n",
      "Authentication selected: Basic realm=\"PhysioNet\", charset=\"UTF-8\"\n",
      "Reusing existing connection to physionet.org:443.\n",
      "HTTP request sent, awaiting response... 304 Not Modified\n",
      "File ‘data/MIMIC-CXR-JPG/physionet.org/files/mimic-cxr-jpg/2.0.0/files/p10/p10667797/s53309984/2f4e8ca7-4b391bdf-91e7ee6a-f52c530c-282ba5a1.jpg’ not modified on server. Omitting download.\n",
      "\n",
      "--2022-07-23 15:41:35--  https://physionet.org/files/mimic-cxr-jpg/2.0.0/files/p10/p12075257/s50779660/2a11ec9a-8ce741bc-70c62a18-b785bcd8-a6545197.jpg\n",
      "Resolving physionet.org (physionet.org)... 18.18.42.54\n",
      "Connecting to physionet.org (physionet.org)|18.18.42.54|:443... connected.\n",
      "HTTP request sent, awaiting response... 401 Unauthorized\n",
      "Authentication selected: Basic realm=\"PhysioNet\", charset=\"UTF-8\"\n",
      "Reusing existing connection to physionet.org:443.\n",
      "HTTP request sent, awaiting response... 404 Not Found\n",
      "2022-07-23 15:41:35 ERROR 404: Not Found.\n",
      "\n",
      "--2022-07-23 15:41:35--  https://physionet.org/files/mimic-cxr-jpg/2.0.0/files/p11/p12075257/s50779660/2a11ec9a-8ce741bc-70c62a18-b785bcd8-a6545197.jpg\n",
      "Resolving physionet.org (physionet.org)... 18.18.42.54\n",
      "Connecting to physionet.org (physionet.org)|18.18.42.54|:443... connected.\n",
      "HTTP request sent, awaiting response... 401 Unauthorized\n",
      "Authentication selected: Basic realm=\"PhysioNet\", charset=\"UTF-8\"\n",
      "Reusing existing connection to physionet.org:443.\n",
      "HTTP request sent, awaiting response... 404 Not Found\n",
      "2022-07-23 15:41:35 ERROR 404: Not Found.\n",
      "\n",
      "--2022-07-23 15:41:35--  https://physionet.org/files/mimic-cxr-jpg/2.0.0/files/p12/p12075257/s50779660/2a11ec9a-8ce741bc-70c62a18-b785bcd8-a6545197.jpg\n",
      "Resolving physionet.org (physionet.org)... 18.18.42.54\n",
      "Connecting to physionet.org (physionet.org)|18.18.42.54|:443... connected.\n",
      "HTTP request sent, awaiting response... 401 Unauthorized\n",
      "Authentication selected: Basic realm=\"PhysioNet\", charset=\"UTF-8\"\n",
      "Reusing existing connection to physionet.org:443.\n",
      "HTTP request sent, awaiting response... 304 Not Modified\n",
      "File ‘data/MIMIC-CXR-JPG/physionet.org/files/mimic-cxr-jpg/2.0.0/files/p12/p12075257/s50779660/2a11ec9a-8ce741bc-70c62a18-b785bcd8-a6545197.jpg’ not modified on server. Omitting download.\n",
      "\n",
      "--2022-07-23 15:41:35--  https://physionet.org/files/mimic-cxr-jpg/2.0.0/files/p10/p11842879/s59364834/3946fac5-62cc2917-fc46b985-e2db6d70-07aeb5bf.jpg\n",
      "Resolving physionet.org (physionet.org)... 18.18.42.54\n",
      "Connecting to physionet.org (physionet.org)|18.18.42.54|:443... connected.\n",
      "HTTP request sent, awaiting response... 401 Unauthorized\n",
      "Authentication selected: Basic realm=\"PhysioNet\", charset=\"UTF-8\"\n",
      "Reusing existing connection to physionet.org:443.\n",
      "HTTP request sent, awaiting response... 404 Not Found\n",
      "2022-07-23 15:41:36 ERROR 404: Not Found.\n",
      "\n",
      "--2022-07-23 15:41:36--  https://physionet.org/files/mimic-cxr-jpg/2.0.0/files/p11/p11842879/s59364834/3946fac5-62cc2917-fc46b985-e2db6d70-07aeb5bf.jpg\n",
      "Resolving physionet.org (physionet.org)... 18.18.42.54\n",
      "Connecting to physionet.org (physionet.org)|18.18.42.54|:443... connected.\n",
      "HTTP request sent, awaiting response... 401 Unauthorized\n",
      "Authentication selected: Basic realm=\"PhysioNet\", charset=\"UTF-8\"\n",
      "Reusing existing connection to physionet.org:443.\n",
      "HTTP request sent, awaiting response... 304 Not Modified\n",
      "File ‘data/MIMIC-CXR-JPG/physionet.org/files/mimic-cxr-jpg/2.0.0/files/p11/p11842879/s59364834/3946fac5-62cc2917-fc46b985-e2db6d70-07aeb5bf.jpg’ not modified on server. Omitting download.\n",
      "\n",
      "--2022-07-23 15:41:36--  https://physionet.org/files/mimic-cxr-jpg/2.0.0/files/p10/p10713800/s59799187/8e210ab1-2a3e6fa5-a5c1f050-f2086d13-defcf453.jpg\n",
      "Resolving physionet.org (physionet.org)... 18.18.42.54\n",
      "Connecting to physionet.org (physionet.org)|18.18.42.54|:443... connected.\n",
      "HTTP request sent, awaiting response... 401 Unauthorized\n",
      "Authentication selected: Basic realm=\"PhysioNet\", charset=\"UTF-8\"\n",
      "Reusing existing connection to physionet.org:443.\n",
      "HTTP request sent, awaiting response... 304 Not Modified\n",
      "File ‘data/MIMIC-CXR-JPG/physionet.org/files/mimic-cxr-jpg/2.0.0/files/p10/p10713800/s59799187/8e210ab1-2a3e6fa5-a5c1f050-f2086d13-defcf453.jpg’ not modified on server. Omitting download.\n",
      "\n",
      "--2022-07-23 15:41:36--  https://physionet.org/files/mimic-cxr-jpg/2.0.0/files/p10/p16965055/s54269203/844df259-b7263b7a-6f5d6153-9d77a784-116c34c8.jpg\n",
      "Resolving physionet.org (physionet.org)... 18.18.42.54\n",
      "Connecting to physionet.org (physionet.org)|18.18.42.54|:443... connected.\n"
     ]
    },
    {
     "name": "stderr",
     "output_type": "stream",
     "text": [
      "HTTP request sent, awaiting response... 401 Unauthorized\n",
      "Authentication selected: Basic realm=\"PhysioNet\", charset=\"UTF-8\"\n",
      "Reusing existing connection to physionet.org:443.\n",
      "HTTP request sent, awaiting response... 404 Not Found\n",
      "2022-07-23 15:41:36 ERROR 404: Not Found.\n",
      "\n",
      "--2022-07-23 15:41:36--  https://physionet.org/files/mimic-cxr-jpg/2.0.0/files/p11/p16965055/s54269203/844df259-b7263b7a-6f5d6153-9d77a784-116c34c8.jpg\n",
      "Resolving physionet.org (physionet.org)... 18.18.42.54\n",
      "Connecting to physionet.org (physionet.org)|18.18.42.54|:443... connected.\n",
      "HTTP request sent, awaiting response... 401 Unauthorized\n",
      "Authentication selected: Basic realm=\"PhysioNet\", charset=\"UTF-8\"\n",
      "Reusing existing connection to physionet.org:443.\n",
      "HTTP request sent, awaiting response... 404 Not Found\n",
      "2022-07-23 15:41:36 ERROR 404: Not Found.\n",
      "\n",
      "--2022-07-23 15:41:36--  https://physionet.org/files/mimic-cxr-jpg/2.0.0/files/p12/p16965055/s54269203/844df259-b7263b7a-6f5d6153-9d77a784-116c34c8.jpg\n",
      "Resolving physionet.org (physionet.org)... 18.18.42.54\n",
      "Connecting to physionet.org (physionet.org)|18.18.42.54|:443... connected.\n",
      "HTTP request sent, awaiting response... 401 Unauthorized\n",
      "Authentication selected: Basic realm=\"PhysioNet\", charset=\"UTF-8\"\n",
      "Reusing existing connection to physionet.org:443.\n",
      "HTTP request sent, awaiting response... 404 Not Found\n",
      "2022-07-23 15:41:37 ERROR 404: Not Found.\n",
      "\n",
      "--2022-07-23 15:41:37--  https://physionet.org/files/mimic-cxr-jpg/2.0.0/files/p13/p16965055/s54269203/844df259-b7263b7a-6f5d6153-9d77a784-116c34c8.jpg\n",
      "Resolving physionet.org (physionet.org)... 18.18.42.54\n",
      "Connecting to physionet.org (physionet.org)|18.18.42.54|:443... connected.\n",
      "HTTP request sent, awaiting response... 401 Unauthorized\n",
      "Authentication selected: Basic realm=\"PhysioNet\", charset=\"UTF-8\"\n",
      "Reusing existing connection to physionet.org:443.\n",
      "HTTP request sent, awaiting response... 404 Not Found\n",
      "2022-07-23 15:41:37 ERROR 404: Not Found.\n",
      "\n",
      "--2022-07-23 15:41:37--  https://physionet.org/files/mimic-cxr-jpg/2.0.0/files/p14/p16965055/s54269203/844df259-b7263b7a-6f5d6153-9d77a784-116c34c8.jpg\n",
      "Resolving physionet.org (physionet.org)... 18.18.42.54\n",
      "Connecting to physionet.org (physionet.org)|18.18.42.54|:443... connected.\n",
      "HTTP request sent, awaiting response... 401 Unauthorized\n",
      "Authentication selected: Basic realm=\"PhysioNet\", charset=\"UTF-8\"\n",
      "Reusing existing connection to physionet.org:443.\n",
      "HTTP request sent, awaiting response... 404 Not Found\n",
      "2022-07-23 15:41:37 ERROR 404: Not Found.\n",
      "\n",
      "--2022-07-23 15:41:37--  https://physionet.org/files/mimic-cxr-jpg/2.0.0/files/p15/p16965055/s54269203/844df259-b7263b7a-6f5d6153-9d77a784-116c34c8.jpg\n",
      "Resolving physionet.org (physionet.org)... 18.18.42.54\n",
      "Connecting to physionet.org (physionet.org)|18.18.42.54|:443... connected.\n",
      "HTTP request sent, awaiting response... 401 Unauthorized\n",
      "Authentication selected: Basic realm=\"PhysioNet\", charset=\"UTF-8\"\n",
      "Reusing existing connection to physionet.org:443.\n",
      "HTTP request sent, awaiting response... 404 Not Found\n",
      "2022-07-23 15:41:37 ERROR 404: Not Found.\n",
      "\n",
      "--2022-07-23 15:41:37--  https://physionet.org/files/mimic-cxr-jpg/2.0.0/files/p16/p16965055/s54269203/844df259-b7263b7a-6f5d6153-9d77a784-116c34c8.jpg\n",
      "Resolving physionet.org (physionet.org)... 18.18.42.54\n",
      "Connecting to physionet.org (physionet.org)|18.18.42.54|:443... connected.\n",
      "HTTP request sent, awaiting response... 401 Unauthorized\n",
      "Authentication selected: Basic realm=\"PhysioNet\", charset=\"UTF-8\"\n",
      "Reusing existing connection to physionet.org:443.\n",
      "HTTP request sent, awaiting response... 304 Not Modified\n",
      "File ‘data/MIMIC-CXR-JPG/physionet.org/files/mimic-cxr-jpg/2.0.0/files/p16/p16965055/s54269203/844df259-b7263b7a-6f5d6153-9d77a784-116c34c8.jpg’ not modified on server. Omitting download.\n",
      "\n",
      "--2022-07-23 15:41:37--  https://physionet.org/files/mimic-cxr-jpg/2.0.0/files/p10/p13007002/s59634177/afb03df7-3d5d7261-04056887-30645a23-c3c65a2b.jpg\n",
      "Resolving physionet.org (physionet.org)... 18.18.42.54\n",
      "Connecting to physionet.org (physionet.org)|18.18.42.54|:443... connected.\n",
      "HTTP request sent, awaiting response... 401 Unauthorized\n",
      "Authentication selected: Basic realm=\"PhysioNet\", charset=\"UTF-8\"\n",
      "Reusing existing connection to physionet.org:443.\n",
      "HTTP request sent, awaiting response... 404 Not Found\n",
      "2022-07-23 15:41:38 ERROR 404: Not Found.\n",
      "\n",
      "--2022-07-23 15:41:38--  https://physionet.org/files/mimic-cxr-jpg/2.0.0/files/p11/p13007002/s59634177/afb03df7-3d5d7261-04056887-30645a23-c3c65a2b.jpg\n",
      "Resolving physionet.org (physionet.org)... 18.18.42.54\n",
      "Connecting to physionet.org (physionet.org)|18.18.42.54|:443... connected.\n",
      "HTTP request sent, awaiting response... 401 Unauthorized\n",
      "Authentication selected: Basic realm=\"PhysioNet\", charset=\"UTF-8\"\n",
      "Reusing existing connection to physionet.org:443.\n",
      "HTTP request sent, awaiting response... 404 Not Found\n",
      "2022-07-23 15:41:38 ERROR 404: Not Found.\n",
      "\n",
      "--2022-07-23 15:41:38--  https://physionet.org/files/mimic-cxr-jpg/2.0.0/files/p12/p13007002/s59634177/afb03df7-3d5d7261-04056887-30645a23-c3c65a2b.jpg\n",
      "Resolving physionet.org (physionet.org)... 18.18.42.54\n",
      "Connecting to physionet.org (physionet.org)|18.18.42.54|:443... connected.\n",
      "HTTP request sent, awaiting response... 401 Unauthorized\n",
      "Authentication selected: Basic realm=\"PhysioNet\", charset=\"UTF-8\"\n",
      "Reusing existing connection to physionet.org:443.\n",
      "HTTP request sent, awaiting response... 404 Not Found\n",
      "2022-07-23 15:41:38 ERROR 404: Not Found.\n",
      "\n",
      "--2022-07-23 15:41:38--  https://physionet.org/files/mimic-cxr-jpg/2.0.0/files/p13/p13007002/s59634177/afb03df7-3d5d7261-04056887-30645a23-c3c65a2b.jpg\n",
      "Resolving physionet.org (physionet.org)... 18.18.42.54\n",
      "Connecting to physionet.org (physionet.org)|18.18.42.54|:443... connected.\n",
      "HTTP request sent, awaiting response... 401 Unauthorized\n",
      "Authentication selected: Basic realm=\"PhysioNet\", charset=\"UTF-8\"\n",
      "Reusing existing connection to physionet.org:443.\n",
      "HTTP request sent, awaiting response... 200 OK\n",
      "Length: 1351383 (1.3M) [image/jpeg]\n",
      "Saving to: ‘data/MIMIC-CXR-JPG/physionet.org/files/mimic-cxr-jpg/2.0.0/files/p13/p13007002/s59634177/afb03df7-3d5d7261-04056887-30645a23-c3c65a2b.jpg’\n",
      "\n",
      "     0K .......... .......... .......... .......... ..........  3% 2.82M 0s\n",
      "    50K .......... .......... .......... .......... ..........  7% 4.41M 0s\n",
      "   100K .......... .......... .......... .......... .......... 11% 6.60M 0s\n",
      "   150K .......... .......... .......... .......... .......... 15% 6.90M 0s\n",
      "   200K .......... .......... .......... .......... .......... 18% 7.35M 0s\n",
      "   250K .......... .......... .......... .......... .......... 22% 8.19M 0s\n",
      "   300K .......... .......... .......... .......... .......... 26% 8.64M 0s\n",
      "   350K .......... .......... .......... .......... .......... 30% 6.35M 0s\n",
      "   400K .......... .......... .......... .......... .......... 34% 7.84M 0s\n",
      "   450K .......... .......... .......... .......... .......... 37% 8.64M 0s\n",
      "   500K .......... .......... .......... .......... .......... 41% 7.62M 0s\n",
      "   550K .......... .......... .......... .......... .......... 45% 9.28M 0s\n",
      "   600K .......... .......... .......... .......... .......... 49% 9.29M 0s\n",
      "   650K .......... .......... .......... .......... .......... 53% 9.26M 0s\n",
      "   700K .......... .......... .......... .......... .......... 56% 9.30M 0s\n",
      "   750K .......... .......... .......... .......... .......... 60% 6.86M 0s\n",
      "   800K .......... .......... .......... .......... .......... 64% 8.17M 0s\n",
      "   850K .......... .......... .......... .......... .......... 68% 7.46M 0s\n",
      "   900K .......... .......... .......... .......... .......... 71% 6.72M 0s\n",
      "   950K .......... .......... .......... .......... .......... 75% 6.44M 0s\n",
      "  1000K .......... .......... .......... .......... .......... 79% 6.26M 0s\n",
      "  1050K .......... .......... .......... .......... .......... 83% 6.21M 0s\n",
      "  1100K .......... .......... .......... .......... .......... 87% 6.54M 0s\n",
      "  1150K .......... .......... .......... .......... .......... 90% 4.64M 0s\n",
      "  1200K .......... .......... .......... .......... .......... 94% 6.48M 0s\n",
      "  1250K .......... .......... .......... .......... .......... 98% 6.49M 0s\n",
      "  1300K .......... .........                                  100% 13.0M=0.2s\n",
      "\n",
      "2022-07-23 15:41:38 (6.68 MB/s) - ‘data/MIMIC-CXR-JPG/physionet.org/files/mimic-cxr-jpg/2.0.0/files/p13/p13007002/s59634177/afb03df7-3d5d7261-04056887-30645a23-c3c65a2b.jpg’ saved [1351383/1351383]\n",
      "\n",
      "FINISHED --2022-07-23 15:41:38--\n",
      "Total wall clock time: 0.4s\n",
      "Downloaded: 1 files, 1.3M in 0.2s (6.68 MB/s)\n",
      "--2022-07-23 15:41:38--  https://physionet.org/files/mimic-cxr-jpg/2.0.0/files/p10/p13007002/s52057348/b9a8c5db-b9a35e91-448aa20a-557196cb-86d2e6b1.jpg\n",
      "Resolving physionet.org (physionet.org)... 18.18.42.54\n"
     ]
    },
    {
     "name": "stderr",
     "output_type": "stream",
     "text": [
      "Connecting to physionet.org (physionet.org)|18.18.42.54|:443... connected.\n",
      "HTTP request sent, awaiting response... 401 Unauthorized\n",
      "Authentication selected: Basic realm=\"PhysioNet\", charset=\"UTF-8\"\n",
      "Reusing existing connection to physionet.org:443.\n",
      "HTTP request sent, awaiting response... 404 Not Found\n",
      "2022-07-23 15:41:39 ERROR 404: Not Found.\n",
      "\n",
      "--2022-07-23 15:41:39--  https://physionet.org/files/mimic-cxr-jpg/2.0.0/files/p11/p13007002/s52057348/b9a8c5db-b9a35e91-448aa20a-557196cb-86d2e6b1.jpg\n",
      "Resolving physionet.org (physionet.org)... 18.18.42.54\n",
      "Connecting to physionet.org (physionet.org)|18.18.42.54|:443... connected.\n",
      "HTTP request sent, awaiting response... 401 Unauthorized\n",
      "Authentication selected: Basic realm=\"PhysioNet\", charset=\"UTF-8\"\n",
      "Reusing existing connection to physionet.org:443.\n",
      "HTTP request sent, awaiting response... 404 Not Found\n",
      "2022-07-23 15:41:39 ERROR 404: Not Found.\n",
      "\n",
      "--2022-07-23 15:41:39--  https://physionet.org/files/mimic-cxr-jpg/2.0.0/files/p12/p13007002/s52057348/b9a8c5db-b9a35e91-448aa20a-557196cb-86d2e6b1.jpg\n",
      "Resolving physionet.org (physionet.org)... 18.18.42.54\n",
      "Connecting to physionet.org (physionet.org)|18.18.42.54|:443... connected.\n",
      "HTTP request sent, awaiting response... 401 Unauthorized\n",
      "Authentication selected: Basic realm=\"PhysioNet\", charset=\"UTF-8\"\n",
      "Reusing existing connection to physionet.org:443.\n",
      "HTTP request sent, awaiting response... 404 Not Found\n",
      "2022-07-23 15:41:39 ERROR 404: Not Found.\n",
      "\n",
      "--2022-07-23 15:41:39--  https://physionet.org/files/mimic-cxr-jpg/2.0.0/files/p13/p13007002/s52057348/b9a8c5db-b9a35e91-448aa20a-557196cb-86d2e6b1.jpg\n",
      "Resolving physionet.org (physionet.org)... 18.18.42.54\n",
      "Connecting to physionet.org (physionet.org)|18.18.42.54|:443... connected.\n",
      "HTTP request sent, awaiting response... 401 Unauthorized\n",
      "Authentication selected: Basic realm=\"PhysioNet\", charset=\"UTF-8\"\n",
      "Reusing existing connection to physionet.org:443.\n",
      "HTTP request sent, awaiting response... 200 OK\n",
      "Length: 1454910 (1.4M) [image/jpeg]\n",
      "Saving to: ‘data/MIMIC-CXR-JPG/physionet.org/files/mimic-cxr-jpg/2.0.0/files/p13/p13007002/s52057348/b9a8c5db-b9a35e91-448aa20a-557196cb-86d2e6b1.jpg’\n",
      "\n",
      "     0K .......... .......... .......... .......... ..........  3% 3.10M 0s\n",
      "    50K .......... .......... .......... .......... ..........  7% 4.23M 0s\n",
      "   100K .......... .......... .......... .......... .......... 10% 5.70M 0s\n",
      "   150K .......... .......... .......... .......... .......... 14% 5.78M 0s\n",
      "   200K .......... .......... .......... .......... .......... 17% 6.04M 0s\n",
      "   250K .......... .......... .......... .......... .......... 21% 5.78M 0s\n",
      "   300K .......... .......... .......... .......... .......... 24% 5.99M 0s\n",
      "   350K .......... .......... .......... .......... .......... 28% 4.58M 0s\n",
      "   400K .......... .......... .......... .......... .......... 31% 5.58M 0s\n",
      "   450K .......... .......... .......... .......... .......... 35% 6.16M 0s\n",
      "   500K .......... .......... .......... .......... .......... 38% 5.61M 0s\n",
      "   550K .......... .......... .......... .......... .......... 42% 5.90M 0s\n",
      "   600K .......... .......... .......... .......... .......... 45% 6.24M 0s\n",
      "   650K .......... .......... .......... .......... .......... 49% 6.41M 0s\n",
      "   700K .......... .......... .......... .......... .......... 52% 7.07M 0s\n",
      "   750K .......... .......... .......... .......... .......... 56% 4.81M 0s\n",
      "   800K .......... .......... .......... .......... .......... 59% 6.41M 0s\n",
      "   850K .......... .......... .......... .......... .......... 63% 6.54M 0s\n",
      "   900K .......... .......... .......... .......... .......... 66% 6.30M 0s\n",
      "   950K .......... .......... .......... .......... .......... 70% 6.22M 0s\n",
      "  1000K .......... .......... .......... .......... .......... 73% 5.87M 0s\n",
      "  1050K .......... .......... .......... .......... .......... 77% 5.81M 0s\n",
      "  1100K .......... .......... .......... .......... .......... 80% 5.88M 0s\n",
      "  1150K .......... .......... .......... .......... .......... 84% 4.37M 0s\n",
      "  1200K .......... .......... .......... .......... .......... 87% 5.63M 0s\n",
      "  1250K .......... .......... .......... .......... .......... 91% 5.94M 0s\n",
      "  1300K .......... .......... .......... .......... .......... 95% 5.94M 0s\n",
      "  1350K .......... .......... .......... .......... .......... 98% 5.94M 0s\n",
      "  1400K .......... ..........                                 100% 8.54M=0.2s\n",
      "\n",
      "2022-07-23 15:41:40 (5.58 MB/s) - ‘data/MIMIC-CXR-JPG/physionet.org/files/mimic-cxr-jpg/2.0.0/files/p13/p13007002/s52057348/b9a8c5db-b9a35e91-448aa20a-557196cb-86d2e6b1.jpg’ saved [1454910/1454910]\n",
      "\n",
      "FINISHED --2022-07-23 15:41:40--\n",
      "Total wall clock time: 0.4s\n",
      "Downloaded: 1 files, 1.4M in 0.2s (5.58 MB/s)\n",
      "--2022-07-23 15:41:40--  https://physionet.org/files/mimic-cxr-jpg/2.0.0/files/p10/p18617561/s56080116/11d501d0-8b61cb98-726c4169-0870d52b-1c2b93ec.jpg\n",
      "Resolving physionet.org (physionet.org)... 18.18.42.54\n",
      "Connecting to physionet.org (physionet.org)|18.18.42.54|:443... connected.\n",
      "HTTP request sent, awaiting response... 401 Unauthorized\n",
      "Authentication selected: Basic realm=\"PhysioNet\", charset=\"UTF-8\"\n",
      "Reusing existing connection to physionet.org:443.\n",
      "HTTP request sent, awaiting response... 404 Not Found\n",
      "2022-07-23 15:41:40 ERROR 404: Not Found.\n",
      "\n",
      "--2022-07-23 15:41:40--  https://physionet.org/files/mimic-cxr-jpg/2.0.0/files/p11/p18617561/s56080116/11d501d0-8b61cb98-726c4169-0870d52b-1c2b93ec.jpg\n",
      "Resolving physionet.org (physionet.org)... 18.18.42.54\n",
      "Connecting to physionet.org (physionet.org)|18.18.42.54|:443... connected.\n",
      "HTTP request sent, awaiting response... 401 Unauthorized\n",
      "Authentication selected: Basic realm=\"PhysioNet\", charset=\"UTF-8\"\n",
      "Reusing existing connection to physionet.org:443.\n",
      "HTTP request sent, awaiting response... 404 Not Found\n",
      "2022-07-23 15:41:40 ERROR 404: Not Found.\n",
      "\n",
      "--2022-07-23 15:41:40--  https://physionet.org/files/mimic-cxr-jpg/2.0.0/files/p12/p18617561/s56080116/11d501d0-8b61cb98-726c4169-0870d52b-1c2b93ec.jpg\n",
      "Resolving physionet.org (physionet.org)... 18.18.42.54\n",
      "Connecting to physionet.org (physionet.org)|18.18.42.54|:443... connected.\n",
      "HTTP request sent, awaiting response... 401 Unauthorized\n",
      "Authentication selected: Basic realm=\"PhysioNet\", charset=\"UTF-8\"\n",
      "Reusing existing connection to physionet.org:443.\n",
      "HTTP request sent, awaiting response... 404 Not Found\n",
      "2022-07-23 15:41:40 ERROR 404: Not Found.\n",
      "\n",
      "--2022-07-23 15:41:40--  https://physionet.org/files/mimic-cxr-jpg/2.0.0/files/p13/p18617561/s56080116/11d501d0-8b61cb98-726c4169-0870d52b-1c2b93ec.jpg\n",
      "Resolving physionet.org (physionet.org)... 18.18.42.54\n",
      "Connecting to physionet.org (physionet.org)|18.18.42.54|:443... connected.\n",
      "HTTP request sent, awaiting response... 401 Unauthorized\n",
      "Authentication selected: Basic realm=\"PhysioNet\", charset=\"UTF-8\"\n",
      "Reusing existing connection to physionet.org:443.\n",
      "HTTP request sent, awaiting response... 404 Not Found\n",
      "2022-07-23 15:41:40 ERROR 404: Not Found.\n",
      "\n",
      "--2022-07-23 15:41:40--  https://physionet.org/files/mimic-cxr-jpg/2.0.0/files/p14/p18617561/s56080116/11d501d0-8b61cb98-726c4169-0870d52b-1c2b93ec.jpg\n",
      "Resolving physionet.org (physionet.org)... 18.18.42.54\n",
      "Connecting to physionet.org (physionet.org)|18.18.42.54|:443... connected.\n",
      "HTTP request sent, awaiting response... 401 Unauthorized\n",
      "Authentication selected: Basic realm=\"PhysioNet\", charset=\"UTF-8\"\n",
      "Reusing existing connection to physionet.org:443.\n",
      "HTTP request sent, awaiting response... 404 Not Found\n",
      "2022-07-23 15:41:41 ERROR 404: Not Found.\n",
      "\n",
      "--2022-07-23 15:41:41--  https://physionet.org/files/mimic-cxr-jpg/2.0.0/files/p15/p18617561/s56080116/11d501d0-8b61cb98-726c4169-0870d52b-1c2b93ec.jpg\n",
      "Resolving physionet.org (physionet.org)... 18.18.42.54\n",
      "Connecting to physionet.org (physionet.org)|18.18.42.54|:443... connected.\n",
      "HTTP request sent, awaiting response... 401 Unauthorized\n",
      "Authentication selected: Basic realm=\"PhysioNet\", charset=\"UTF-8\"\n",
      "Reusing existing connection to physionet.org:443.\n",
      "HTTP request sent, awaiting response... 404 Not Found\n",
      "2022-07-23 15:41:41 ERROR 404: Not Found.\n",
      "\n",
      "--2022-07-23 15:41:41--  https://physionet.org/files/mimic-cxr-jpg/2.0.0/files/p16/p18617561/s56080116/11d501d0-8b61cb98-726c4169-0870d52b-1c2b93ec.jpg\n",
      "Resolving physionet.org (physionet.org)... 18.18.42.54\n",
      "Connecting to physionet.org (physionet.org)|18.18.42.54|:443... connected.\n",
      "HTTP request sent, awaiting response... 401 Unauthorized\n",
      "Authentication selected: Basic realm=\"PhysioNet\", charset=\"UTF-8\"\n",
      "Reusing existing connection to physionet.org:443.\n",
      "HTTP request sent, awaiting response... 404 Not Found\n",
      "2022-07-23 15:41:41 ERROR 404: Not Found.\n",
      "\n"
     ]
    },
    {
     "name": "stderr",
     "output_type": "stream",
     "text": [
      "--2022-07-23 15:41:41--  https://physionet.org/files/mimic-cxr-jpg/2.0.0/files/p17/p18617561/s56080116/11d501d0-8b61cb98-726c4169-0870d52b-1c2b93ec.jpg\n",
      "Resolving physionet.org (physionet.org)... 18.18.42.54\n",
      "Connecting to physionet.org (physionet.org)|18.18.42.54|:443... connected.\n",
      "HTTP request sent, awaiting response... 401 Unauthorized\n",
      "Authentication selected: Basic realm=\"PhysioNet\", charset=\"UTF-8\"\n",
      "Reusing existing connection to physionet.org:443.\n",
      "HTTP request sent, awaiting response... 404 Not Found\n",
      "2022-07-23 15:41:41 ERROR 404: Not Found.\n",
      "\n",
      "--2022-07-23 15:41:41--  https://physionet.org/files/mimic-cxr-jpg/2.0.0/files/p18/p18617561/s56080116/11d501d0-8b61cb98-726c4169-0870d52b-1c2b93ec.jpg\n",
      "Resolving physionet.org (physionet.org)... 18.18.42.54\n",
      "Connecting to physionet.org (physionet.org)|18.18.42.54|:443... connected.\n",
      "HTTP request sent, awaiting response... 401 Unauthorized\n",
      "Authentication selected: Basic realm=\"PhysioNet\", charset=\"UTF-8\"\n",
      "Reusing existing connection to physionet.org:443.\n",
      "HTTP request sent, awaiting response... 200 OK\n",
      "Length: 1037822 (1013K) [image/jpeg]\n",
      "Saving to: ‘data/MIMIC-CXR-JPG/physionet.org/files/mimic-cxr-jpg/2.0.0/files/p18/p18617561/s56080116/11d501d0-8b61cb98-726c4169-0870d52b-1c2b93ec.jpg’\n",
      "\n",
      "     0K .......... .......... .......... .......... ..........  4% 2.88M 0s\n",
      "    50K .......... .......... .......... .......... ..........  9% 4.23M 0s\n",
      "   100K .......... .......... .......... .......... .......... 14% 6.14M 0s\n",
      "   150K .......... .......... .......... .......... .......... 19% 5.75M 0s\n",
      "   200K .......... .......... .......... .......... .......... 24% 5.95M 0s\n",
      "   250K .......... .......... .......... .......... .......... 29% 5.94M 0s\n",
      "   300K .......... .......... .......... .......... .......... 34% 6.39M 0s\n",
      "   350K .......... .......... .......... .......... .......... 39% 4.98M 0s\n",
      "   400K .......... .......... .......... .......... .......... 44% 5.91M 0s\n",
      "   450K .......... .......... .......... .......... .......... 49% 7.12M 0s\n",
      "   500K .......... .......... .......... .......... .......... 54% 6.50M 0s\n",
      "   550K .......... .......... .......... .......... .......... 59% 6.69M 0s\n",
      "   600K .......... .......... .......... .......... .......... 64% 6.99M 0s\n",
      "   650K .......... .......... .......... .......... .......... 69% 7.31M 0s\n",
      "   700K .......... .......... .......... .......... .......... 74% 7.57M 0s\n",
      "   750K .......... .......... .......... .......... .......... 78% 5.10M 0s\n",
      "   800K .......... .......... .......... .......... .......... 83% 6.40M 0s\n",
      "   850K .......... .......... .......... .......... .......... 88% 6.12M 0s\n",
      "   900K .......... .......... .......... .......... .......... 93% 5.91M 0s\n",
      "   950K .......... .......... .......... .......... .......... 98% 5.53M 0s\n",
      "  1000K .......... ...                                        100% 8.16M=0.2s\n",
      "\n",
      "2022-07-23 15:41:42 (5.73 MB/s) - ‘data/MIMIC-CXR-JPG/physionet.org/files/mimic-cxr-jpg/2.0.0/files/p18/p18617561/s56080116/11d501d0-8b61cb98-726c4169-0870d52b-1c2b93ec.jpg’ saved [1037822/1037822]\n",
      "\n",
      "FINISHED --2022-07-23 15:41:42--\n",
      "Total wall clock time: 0.4s\n",
      "Downloaded: 1 files, 1013K in 0.2s (5.73 MB/s)\n",
      "--2022-07-23 15:41:42--  https://physionet.org/files/mimic-cxr-jpg/2.0.0/files/p10/p11240149/s55798754/7650e538-d42db519-5556edb8-18ed09be-5d2a27d9.jpg\n",
      "Resolving physionet.org (physionet.org)... 18.18.42.54\n",
      "Connecting to physionet.org (physionet.org)|18.18.42.54|:443... connected.\n",
      "HTTP request sent, awaiting response... 401 Unauthorized\n",
      "Authentication selected: Basic realm=\"PhysioNet\", charset=\"UTF-8\"\n",
      "Reusing existing connection to physionet.org:443.\n",
      "HTTP request sent, awaiting response... 404 Not Found\n",
      "2022-07-23 15:41:42 ERROR 404: Not Found.\n",
      "\n",
      "--2022-07-23 15:41:42--  https://physionet.org/files/mimic-cxr-jpg/2.0.0/files/p11/p11240149/s55798754/7650e538-d42db519-5556edb8-18ed09be-5d2a27d9.jpg\n",
      "Resolving physionet.org (physionet.org)... 18.18.42.54\n",
      "Connecting to physionet.org (physionet.org)|18.18.42.54|:443... connected.\n",
      "HTTP request sent, awaiting response... 401 Unauthorized\n",
      "Authentication selected: Basic realm=\"PhysioNet\", charset=\"UTF-8\"\n",
      "Reusing existing connection to physionet.org:443.\n",
      "HTTP request sent, awaiting response... 200 OK\n",
      "Length: 999026 (976K) [image/jpeg]\n",
      "Saving to: ‘data/MIMIC-CXR-JPG/physionet.org/files/mimic-cxr-jpg/2.0.0/files/p11/p11240149/s55798754/7650e538-d42db519-5556edb8-18ed09be-5d2a27d9.jpg’\n",
      "\n",
      "     0K .......... .......... .......... .......... ..........  5% 3.19M 0s\n",
      "    50K .......... .......... .......... .......... .......... 10% 3.85M 0s\n",
      "   100K .......... .......... .......... .......... .......... 15% 6.51M 0s\n",
      "   150K .......... .......... .......... .......... .......... 20% 6.37M 0s\n",
      "   200K .......... .......... .......... .......... .......... 25% 6.33M 0s\n",
      "   250K .......... .......... .......... .......... .......... 30% 6.23M 0s\n",
      "   300K .......... .......... .......... .......... .......... 35% 6.08M 0s\n",
      "   350K .......... .......... .......... .......... .......... 40% 4.54M 0s\n",
      "   400K .......... .......... .......... .......... .......... 46% 5.43M 0s\n",
      "   450K .......... .......... .......... .......... .......... 51% 6.24M 0s\n",
      "   500K .......... .......... .......... .......... .......... 56% 5.40M 0s\n",
      "   550K .......... .......... .......... .......... .......... 61% 5.69M 0s\n",
      "   600K .......... .......... .......... .......... .......... 66% 5.69M 0s\n",
      "   650K .......... .......... .......... .......... .......... 71% 5.72M 0s\n",
      "   700K .......... .......... .......... .......... .......... 76% 6.15M 0s\n",
      "   750K .......... .......... .......... .......... .......... 81% 4.25M 0s\n",
      "   800K .......... .......... .......... .......... .......... 87% 5.78M 0s\n",
      "   850K .......... .......... .......... .......... .......... 92% 6.00M 0s\n",
      "   900K .......... .......... .......... .......... .......... 97% 5.87M 0s\n",
      "   950K .......... .......... .....                           100% 13.6M=0.2s\n",
      "\n",
      "2022-07-23 15:41:42 (5.44 MB/s) - ‘data/MIMIC-CXR-JPG/physionet.org/files/mimic-cxr-jpg/2.0.0/files/p11/p11240149/s55798754/7650e538-d42db519-5556edb8-18ed09be-5d2a27d9.jpg’ saved [999026/999026]\n",
      "\n",
      "FINISHED --2022-07-23 15:41:42--\n",
      "Total wall clock time: 0.4s\n",
      "Downloaded: 1 files, 976K in 0.2s (5.44 MB/s)\n",
      "--2022-07-23 15:41:42--  https://physionet.org/files/mimic-cxr-jpg/2.0.0/files/p10/p13639861/s59541913/7a474e51-fcd2afe7-a5adfdce-b07ff918-0522b0e3.jpg\n",
      "Resolving physionet.org (physionet.org)... 18.18.42.54\n",
      "Connecting to physionet.org (physionet.org)|18.18.42.54|:443... connected.\n",
      "HTTP request sent, awaiting response... 401 Unauthorized\n",
      "Authentication selected: Basic realm=\"PhysioNet\", charset=\"UTF-8\"\n",
      "Reusing existing connection to physionet.org:443.\n",
      "HTTP request sent, awaiting response... 404 Not Found\n",
      "2022-07-23 15:41:42 ERROR 404: Not Found.\n",
      "\n",
      "--2022-07-23 15:41:42--  https://physionet.org/files/mimic-cxr-jpg/2.0.0/files/p11/p13639861/s59541913/7a474e51-fcd2afe7-a5adfdce-b07ff918-0522b0e3.jpg\n",
      "Resolving physionet.org (physionet.org)... 18.18.42.54\n",
      "Connecting to physionet.org (physionet.org)|18.18.42.54|:443... connected.\n",
      "HTTP request sent, awaiting response... 401 Unauthorized\n",
      "Authentication selected: Basic realm=\"PhysioNet\", charset=\"UTF-8\"\n",
      "Reusing existing connection to physionet.org:443.\n",
      "HTTP request sent, awaiting response... 404 Not Found\n",
      "2022-07-23 15:41:43 ERROR 404: Not Found.\n",
      "\n",
      "--2022-07-23 15:41:43--  https://physionet.org/files/mimic-cxr-jpg/2.0.0/files/p12/p13639861/s59541913/7a474e51-fcd2afe7-a5adfdce-b07ff918-0522b0e3.jpg\n",
      "Resolving physionet.org (physionet.org)... 18.18.42.54\n",
      "Connecting to physionet.org (physionet.org)|18.18.42.54|:443... connected.\n",
      "HTTP request sent, awaiting response... 401 Unauthorized\n",
      "Authentication selected: Basic realm=\"PhysioNet\", charset=\"UTF-8\"\n",
      "Reusing existing connection to physionet.org:443.\n",
      "HTTP request sent, awaiting response... 404 Not Found\n",
      "2022-07-23 15:41:43 ERROR 404: Not Found.\n",
      "\n",
      "--2022-07-23 15:41:43--  https://physionet.org/files/mimic-cxr-jpg/2.0.0/files/p13/p13639861/s59541913/7a474e51-fcd2afe7-a5adfdce-b07ff918-0522b0e3.jpg\n",
      "Resolving physionet.org (physionet.org)... 18.18.42.54\n",
      "Connecting to physionet.org (physionet.org)|18.18.42.54|:443... connected.\n",
      "HTTP request sent, awaiting response... 401 Unauthorized\n",
      "Authentication selected: Basic realm=\"PhysioNet\", charset=\"UTF-8\"\n",
      "Reusing existing connection to physionet.org:443.\n"
     ]
    },
    {
     "name": "stderr",
     "output_type": "stream",
     "text": [
      "HTTP request sent, awaiting response... 200 OK\n",
      "Length: 1762598 (1.7M) [image/jpeg]\n",
      "Saving to: ‘data/MIMIC-CXR-JPG/physionet.org/files/mimic-cxr-jpg/2.0.0/files/p13/p13639861/s59541913/7a474e51-fcd2afe7-a5adfdce-b07ff918-0522b0e3.jpg’\n",
      "\n",
      "     0K .......... .......... .......... .......... ..........  2% 2.85M 1s\n",
      "    50K .......... .......... .......... .......... ..........  5% 4.13M 0s\n",
      "   100K .......... .......... .......... .......... ..........  8% 4.99M 0s\n",
      "   150K .......... .......... .......... .......... .......... 11% 4.93M 0s\n",
      "   200K .......... .......... .......... .......... .......... 14% 5.05M 0s\n",
      "   250K .......... .......... .......... .......... .......... 17% 5.04M 0s\n",
      "   300K .......... .......... .......... .......... .......... 20% 4.93M 0s\n",
      "   350K .......... .......... .......... .......... .......... 23% 3.89M 0s\n",
      "   400K .......... .......... .......... .......... .......... 26% 4.88M 0s\n",
      "   450K .......... .......... .......... .......... .......... 29% 5.11M 0s\n",
      "   500K .......... .......... .......... .......... .......... 31% 4.64M 0s\n",
      "   550K .......... .......... .......... .......... .......... 34% 5.02M 0s\n",
      "   600K .......... .......... .......... .......... .......... 37% 5.63M 0s\n",
      "   650K .......... .......... .......... .......... .......... 40% 4.49M 0s\n",
      "   700K .......... .......... .......... .......... .......... 43% 5.74M 0s\n",
      "   750K .......... .......... .......... .......... .......... 46% 4.22M 0s\n",
      "   800K .......... .......... .......... .......... .......... 49% 6.40M 0s\n",
      "   850K .......... .......... .......... .......... .......... 52% 6.58M 0s\n",
      "   900K .......... .......... .......... .......... .......... 55% 6.48M 0s\n",
      "   950K .......... .......... .......... .......... .......... 58% 6.50M 0s\n",
      "  1000K .......... .......... .......... .......... .......... 61% 6.69M 0s\n",
      "  1050K .......... .......... .......... .......... .......... 63% 6.55M 0s\n",
      "  1100K .......... .......... .......... .......... .......... 66% 6.64M 0s\n",
      "  1150K .......... .......... .......... .......... .......... 69% 4.57M 0s\n",
      "  1200K .......... .......... .......... .......... .......... 72% 5.54M 0s\n",
      "  1250K .......... .......... .......... .......... .......... 75% 5.41M 0s\n",
      "  1300K .......... .......... .......... .......... .......... 78% 5.39M 0s\n",
      "  1350K .......... .......... .......... .......... .......... 81% 5.73M 0s\n",
      "  1400K .......... .......... .......... .......... .......... 84% 5.26M 0s\n",
      "  1450K .......... .......... .......... .......... .......... 87% 5.51M 0s\n",
      "  1500K .......... .......... .......... .......... .......... 90% 5.34M 0s\n",
      "  1550K .......... .......... .......... .......... .......... 92% 3.99M 0s\n",
      "  1600K .......... .......... .......... .......... .......... 95% 5.35M 0s\n",
      "  1650K .......... .......... .......... .......... .......... 98% 5.46M 0s\n",
      "  1700K .......... .......... .                               100% 17.5M=0.3s\n",
      "\n",
      "2022-07-23 15:41:43 (5.14 MB/s) - ‘data/MIMIC-CXR-JPG/physionet.org/files/mimic-cxr-jpg/2.0.0/files/p13/p13639861/s59541913/7a474e51-fcd2afe7-a5adfdce-b07ff918-0522b0e3.jpg’ saved [1762598/1762598]\n",
      "\n",
      "FINISHED --2022-07-23 15:41:43--\n",
      "Total wall clock time: 0.5s\n",
      "Downloaded: 1 files, 1.7M in 0.3s (5.14 MB/s)\n",
      "--2022-07-23 15:41:43--  https://physionet.org/files/mimic-cxr-jpg/2.0.0/files/p10/p16908500/s54003801/c5b3f56e-32b77ed1-bdf527f2-6a7ca32f-4ff7b81a.jpg\n",
      "Resolving physionet.org (physionet.org)... 18.18.42.54\n",
      "Connecting to physionet.org (physionet.org)|18.18.42.54|:443... connected.\n",
      "HTTP request sent, awaiting response... "
     ]
    }
   ],
   "source": [
    "cxr_disease_valid_dataset = CXRDataset.download_dataset(100, cxr_mode.Race, Configs.CXR_DATA_DIR,\n",
    "                                                        Configs.CXR_VALID_LABELS_FILENAME, **Configs.CXR_FILENAMES,\n",
    "                                                        transform=valid_transform, target_transform=None)\n",
    "# cxr_disease_valid_dataset = CXRDataset(cxr_mode.Disease, Configs.CXR_DATA_DIR, Configs.CXR_VALID_LABELS_FILENAME,\n",
    "#                                        transform=valid_transform)\n",
    "cxr_disease_valid_dataloader = DataLoader(cxr_disease_valid_dataset, batch_size=Configs.BATCH_SIZE, shuffle=False)\n",
    "len(cxr_disease_valid_dataset)"
   ]
  },
  {
   "cell_type": "markdown",
   "id": "b2e3df85",
   "metadata": {
    "ExecuteTime": {
     "end_time": "2022-07-22T16:01:19.634071Z",
     "start_time": "2022-07-22T16:01:19.612751Z"
    }
   },
   "source": [
    "## Pretrained Models "
   ]
  },
  {
   "cell_type": "code",
   "execution_count": null,
   "id": "cf665e0d",
   "metadata": {
    "ExecuteTime": {
     "end_time": "2022-07-22T16:01:19.634071Z",
     "start_time": "2022-07-22T16:01:19.612751Z"
    }
   },
   "outputs": [],
   "source": [
    "_, _, files = next(os.walk(Configs.CHEXPERT_DISEASE_TRAINED_MODELS_DIR))\n",
    "disease_trained_models = [os.path.join(Configs.CHEXPERT_DISEASE_TRAINED_MODELS_DIR, file) for file in files]\n",
    "len(disease_trained_models)"
   ]
  },
  {
   "cell_type": "code",
   "execution_count": null,
   "id": "03431706",
   "metadata": {
    "ExecuteTime": {
     "end_time": "2022-07-22T16:01:20.524091Z",
     "start_time": "2022-07-22T16:01:20.017815Z"
    }
   },
   "outputs": [],
   "source": [
    "disease_model = densenet121()\n",
    "num_features = disease_model.classifier.in_features\n",
    "disease_model.classifier = nn.Sequential(\n",
    "    nn.Linear(num_features, num_features, bias=True),\n",
    "    nn.ReLU(),\n",
    "    nn.Dropout(p=0.1),\n",
    "    nn.Linear(in_features=num_features, out_features=Configs.NUM_DISEASE_CLASSES, bias=True)\n",
    ")\n",
    "disease_model.eval()\n",
    "not disease_model.training"
   ]
  },
  {
   "cell_type": "code",
   "execution_count": null,
   "id": "7732388f",
   "metadata": {
    "ExecuteTime": {
     "end_time": "2022-07-22T16:01:24.369479Z",
     "start_time": "2022-07-22T16:01:24.048235Z"
    }
   },
   "outputs": [],
   "source": [
    "disease_model, results, _, _ = shared_utils.load_statedict(disease_model, disease_trained_models[0], Configs)\n",
    "disease_model = to_gpu(disease_model)"
   ]
  },
  {
   "cell_type": "markdown",
   "id": "5e2e23fc",
   "metadata": {
    "ExecuteTime": {
     "end_time": "2022-07-22T16:02:13.870486Z",
     "start_time": "2022-07-22T16:01:24.749503Z"
    }
   },
   "source": [
    "## Predictions"
   ]
  },
  {
   "cell_type": "code",
   "execution_count": null,
   "id": "45df6c94",
   "metadata": {
    "ExecuteTime": {
     "end_time": "2022-07-22T16:02:13.870486Z",
     "start_time": "2022-07-22T16:01:24.749503Z"
    }
   },
   "outputs": [],
   "source": [
    "df_res_disease = pd.DataFrame(columns=Configs.DISEASE_ANNOTATIONS_COLUMNS + ['mean'])\n",
    "df_res_disease"
   ]
  },
  {
   "cell_type": "code",
   "execution_count": null,
   "id": "afdaa031",
   "metadata": {
    "ExecuteTime": {
     "end_time": "2022-07-22T16:02:13.870486Z",
     "start_time": "2022-07-22T16:01:24.749503Z"
    }
   },
   "outputs": [],
   "source": [
    "cxp_disease_labels, cxp_disease_outputs = shared_utils.get_metric_tensors(disease_model, cxp_disease_valid_dataloader, Configs,\n",
    "                                                  apply_on_outputs=lambda x: torch.sigmoid(x),\n",
    "                                                  by_study=False, challenge_ann_only=None)\n",
    "df_res_disease.loc['CXP'] = add_mean_to_list(shared_utils.auc_score(cxp_disease_labels, cxp_disease_outputs, per_class=True))"
   ]
  },
  {
   "cell_type": "code",
   "execution_count": null,
   "id": "0e9febb0",
   "metadata": {
    "ExecuteTime": {
     "end_time": "2022-07-21T14:16:27.662400Z",
     "start_time": "2022-07-21T14:16:27.511276Z"
    }
   },
   "outputs": [],
   "source": [
    "cxr_disease_labels, cxr_disease_outputs = shared_utils.get_metric_tensors(disease_model, cxr_disease_valid_dataloader, Configs,\n",
    "                                                  apply_on_outputs=lambda x: torch.sigmoid(x),\n",
    "                                                  by_study=False, challenge_ann_only=None)\n",
    "df_res_disease.loc['CXR'] = add_mean_to_list(shared_utils.auc_score(cxr_disease_labels, cxr_disease_outputs, per_class=True))"
   ]
  },
  {
   "cell_type": "code",
   "execution_count": null,
   "id": "b26829cf",
   "metadata": {},
   "outputs": [],
   "source": [
    "df_res_disease.sort_values(by=\"mean\", ascending=False, inplace=True)\n",
    "df_res_disease = df_res_disease.round(2)"
   ]
  },
  {
   "cell_type": "code",
   "execution_count": null,
   "id": "887beb62",
   "metadata": {},
   "outputs": [],
   "source": [
    "df_res_disease"
   ]
  },
  {
   "cell_type": "code",
   "execution_count": null,
   "id": "cffba2c1",
   "metadata": {},
   "outputs": [],
   "source": []
  },
  {
   "cell_type": "markdown",
   "id": "7bbbf178",
   "metadata": {
    "heading_collapsed": true
   },
   "source": [
    "# Race Prediction"
   ]
  },
  {
   "cell_type": "markdown",
   "id": "9a2db511",
   "metadata": {
    "ExecuteTime": {
     "end_time": "2022-07-21T14:19:24.707979Z",
     "start_time": "2022-07-21T14:19:24.413562Z"
    },
    "hidden": true
   },
   "source": [
    "## Validation Dataloaders"
   ]
  },
  {
   "cell_type": "code",
   "execution_count": null,
   "id": "be362d5b",
   "metadata": {
    "ExecuteTime": {
     "end_time": "2022-07-21T14:19:24.707979Z",
     "start_time": "2022-07-21T14:19:24.413562Z"
    },
    "hidden": true
   },
   "outputs": [],
   "source": [
    "cxp_race_valid_dataset = CheXpertRaceDataset(data_dir=Configs.CHEXPERT_DATA_DIR, demo_filename=Configs.CHEXPERT_DEMO_FILENAME, \n",
    "                                             labels_filename=Configs.CHEXPERT_VALID_LABELS_FILENAME, transform=valid_transform)\n",
    "cxp_race_valid_dataloader = DataLoader(cxp_race_valid_dataset, batch_size=Configs.BATCH_SIZE, shuffle=False)\n",
    "len(cxp_race_valid_dataset)"
   ]
  },
  {
   "cell_type": "code",
   "execution_count": null,
   "id": "e3dc1852",
   "metadata": {
    "ExecuteTime": {
     "end_time": "2022-07-21T14:19:24.707979Z",
     "start_time": "2022-07-21T14:19:24.413562Z"
    },
    "hidden": true
   },
   "outputs": [],
   "source": [
    "# cxr_disease_valid_dataset = CXRDataset.download_dataset(10, cxr_mode.Race, Configs.CXR_DATA_DIR,\n",
    "#                                                         Configs.CXR_VALID_LABELS_FILENAME, **Configs.CXR_FILENAMES,\n",
    "#                                                         transform=valid_transform, target_transform=None)\n",
    "cxr_race_valid_dataset = CXRDataset(cxr_mode.Race, Configs.CXR_DATA_DIR, Configs.CXR_VALID_LABELS_FILENAME,\n",
    "                                    transform=valid_transform)\n",
    "cxr_race_valid_dataloader = DataLoader(cxr_race_valid_dataset, batch_size=Configs.BATCH_SIZE, shuffle=False)\n",
    "len(cxr_race_valid_dataset)"
   ]
  },
  {
   "cell_type": "markdown",
   "id": "369f50b3",
   "metadata": {
    "ExecuteTime": {
     "end_time": "2022-07-21T16:23:42.209187Z",
     "start_time": "2022-07-21T16:23:42.015805Z"
    },
    "hidden": true
   },
   "source": [
    "## Pretrained Models "
   ]
  },
  {
   "cell_type": "code",
   "execution_count": null,
   "id": "cc197544",
   "metadata": {
    "ExecuteTime": {
     "end_time": "2022-07-21T16:23:42.209187Z",
     "start_time": "2022-07-21T16:23:42.015805Z"
    },
    "hidden": true
   },
   "outputs": [],
   "source": [
    "_, _, files = next(os.walk(Configs.CHEXPERT_RACE_TRAINED_MODELS_DIR))\n",
    "race_trained_models = [os.path.join(Configs.CHEXPERT_RACE_TRAINED_MODELS_DIR, file) for file in files]\n",
    "race_model_versions = [p.split('__')[1] for p in race_trained_models]\n",
    "len(race_trained_models)"
   ]
  },
  {
   "cell_type": "code",
   "execution_count": null,
   "id": "0b78d6b4",
   "metadata": {
    "ExecuteTime": {
     "end_time": "2022-07-21T16:23:42.209187Z",
     "start_time": "2022-07-21T16:23:42.015805Z"
    },
    "hidden": true
   },
   "outputs": [],
   "source": [
    "models_dict = {}\n",
    "for model_version, model_path in zip(race_model_versions, race_trained_models):\n",
    "    model = densenet121()\n",
    "    if \"shallow\" in model_version:\n",
    "        shallow_denseblock = int(model_version.split('_')[2][10:])\n",
    "        layer_offset = 3 + 2 * shallow_denseblock\n",
    "        num_features = model.features[layer_offset].norm.num_features\n",
    "        model = model.features[:layer_offset]\n",
    "        classifier_module = nn.Sequential(\n",
    "            nn.BatchNorm2d(num_features, eps=1e-05, momentum=0.1, affine=True, track_running_stats=True),\n",
    "            nn.ReLU(),\n",
    "            nn.AdaptiveAvgPool2d((1, 1)),   \n",
    "            nn.Flatten(start_dim=1),\n",
    "            nn.Linear(in_features=num_features, out_features=num_features, bias=True),\n",
    "            nn.Dropout(p=0.1),\n",
    "            nn.Linear(in_features=num_features, out_features=Configs.NUM_RACE_CLASSES, bias=True))\n",
    "        model.add_module('classifier', classifier_module)\n",
    "    else:\n",
    "        num_features = model.classifier.in_features\n",
    "        model.classifier = nn.Sequential(\n",
    "            nn.Linear(num_features, num_features, bias=True),\n",
    "            nn.ReLU(),\n",
    "            nn.Dropout(p=0.1),\n",
    "            nn.Linear(in_features=num_features, out_features=Configs.NUM_RACE_CLASSES, bias=True))\n",
    "    model.eval()\n",
    "    model, results, _, _ = shared_utils.load_statedict(model, model_path, Configs, device='cpu')\n",
    "    models_dict[model_version] = model"
   ]
  },
  {
   "cell_type": "markdown",
   "id": "9fe21a9a",
   "metadata": {
    "ExecuteTime": {
     "end_time": "2022-07-21T16:31:01.313615Z",
     "start_time": "2022-07-21T16:31:01.225770Z"
    },
    "hidden": true
   },
   "source": [
    "## Predictions "
   ]
  },
  {
   "cell_type": "code",
   "execution_count": null,
   "id": "a9ba84dc",
   "metadata": {
    "ExecuteTime": {
     "end_time": "2022-07-21T16:31:01.313615Z",
     "start_time": "2022-07-21T16:31:01.225770Z"
    },
    "hidden": true
   },
   "outputs": [],
   "source": [
    "df_res_race = pd.DataFrame(columns=Configs.RACE_ANNOTATIONS_COLUMNS + ['mean'])\n",
    "df_res_race"
   ]
  },
  {
   "cell_type": "code",
   "execution_count": null,
   "id": "f6e7e6ab",
   "metadata": {
    "ExecuteTime": {
     "end_time": "2022-07-21T16:44:21.735440Z",
     "start_time": "2022-07-21T16:31:02.587322Z"
    },
    "hidden": true
   },
   "outputs": [],
   "source": [
    "for model_version, model in tqdm(models_dict.items()):\n",
    "    model = to_gpu(model)\n",
    "    cxp_race_labels, cxp_race_outputs = shared_utils.get_metric_tensors(model, cxp_race_valid_dataloader, Configs,\n",
    "                                                                        apply_on_outputs=lambda x: torch.softmax(x, dim=1),\n",
    "                                                                        by_study=False, challenge_ann_only=None)\n",
    "    cxr_race_labels, cxr_race_outputs = shared_utils.get_metric_tensors(model, cxr_race_valid_dataloader, Configs,\n",
    "                                                                        apply_on_outputs=lambda x: torch.softmax(x, dim=1),\n",
    "                                                                        by_study=False, challenge_ann_only=None)\n",
    "    df_res_race.loc[f\"CXP_{model_version}\"] = add_mean_to_list(shared_utils.auc_score(cxp_race_labels, cxp_race_outputs, per_class=True))\n",
    "    df_res_race.loc[f\"CXR_{model_version}\"] = add_mean_to_list(shared_utils.auc_score(cxr_race_labels, cxr_race_outputs, per_class=True))\n",
    "    model.cpu()\n",
    "    break"
   ]
  },
  {
   "cell_type": "code",
   "execution_count": null,
   "id": "c05199b1",
   "metadata": {
    "hidden": true
   },
   "outputs": [],
   "source": [
    "df_res_race.sort_values(by=\"mean\", ascending=False, inplace=True)\n",
    "df_res_race = df_res_race.round(2)"
   ]
  },
  {
   "cell_type": "code",
   "execution_count": null,
   "id": "d43adeec",
   "metadata": {
    "hidden": true
   },
   "outputs": [],
   "source": [
    "df_res_race"
   ]
  },
  {
   "cell_type": "code",
   "execution_count": null,
   "id": "d4675ca6",
   "metadata": {
    "hidden": true
   },
   "outputs": [],
   "source": []
  },
  {
   "cell_type": "markdown",
   "id": "55c5e969",
   "metadata": {
    "heading_collapsed": true
   },
   "source": [
    "# Disease Per Race Performance"
   ]
  },
  {
   "cell_type": "code",
   "execution_count": null,
   "id": "1831c192",
   "metadata": {
    "hidden": true
   },
   "outputs": [],
   "source": [
    "# adding race to ChexPertDiseaseDatatset\n",
    "cxp_race_df = cxp_race_valid_dataset.df_labels[['PATIENT', 'race'] + race_configs.ANNOTATIONS_COLUMNS].drop_duplicates()\n",
    "cxp_disease_df_labels = cxp_disease_valid_dataset.df_labels.merge(cxp_race_df, how='left',\n",
    "                                                                                left_on='patient_id', right_on='PATIENT')\n",
    "cxp_disease_df_labels.race.fillna('Other', inplace=True)\n",
    "cxp_disease_df_labels.head(2)"
   ]
  },
  {
   "cell_type": "code",
   "execution_count": null,
   "id": "0dd97c01",
   "metadata": {
    "hidden": true
   },
   "outputs": [],
   "source": [
    "df_res_disease_per_race = df_res_disease.copy()"
   ]
  },
  {
   "cell_type": "code",
   "execution_count": null,
   "id": "2758591e",
   "metadata": {
    "hidden": true
   },
   "outputs": [],
   "source": [
    "for race in cxp_disease_df_labels.race.unique():\n",
    "    disease_race_labels = cxp_disease_labels[cxp_disease_df_labels.race==race]\n",
    "    disease_race_outputs = cxp_disease_outputs[cxp_disease_df_labels.race==race]\n",
    "    df_res_disease_per_race.loc[f\"CXP_{race}\"] = add_mean_to_list(shared_utils.auc_score(disease_race_labels, disease_race_outputs, per_class=True))\n",
    "    disease_race_labels = cxr_disease_labels[cxr_disease_valid_dataset.df_labels.race==race]\n",
    "    disease_race_outputs = cxr_disease_outputs[cxr_disease_valid_dataset.df_labels.race==race]\n",
    "    df_res_disease_per_race.loc[f\"CXR_{race}\"] = add_mean_to_list(shared_utils.auc_score(disease_race_labels, disease_race_outputs, per_class=True))"
   ]
  },
  {
   "cell_type": "code",
   "execution_count": null,
   "id": "3ebb9d8d",
   "metadata": {
    "hidden": true
   },
   "outputs": [],
   "source": [
    "df_res_disease_per_race.sort_values(by=\"mean\", ascending=False, inplace=True)\n",
    "df_res_disease_per_race = df_res_disease_per_race.round(2)"
   ]
  },
  {
   "cell_type": "code",
   "execution_count": null,
   "id": "f44ade01",
   "metadata": {
    "hidden": true
   },
   "outputs": [],
   "source": [
    "df_res_disease_per_race"
   ]
  },
  {
   "cell_type": "code",
   "execution_count": null,
   "id": "0284a2af",
   "metadata": {
    "hidden": true
   },
   "outputs": [],
   "source": [
    "def columns_to_multi_index(df, new_cols):\n",
    "    df = df.copy()\n",
    "    s = pd.Series(df_res_disease_per_race.index)\n",
    "    for i, col in enumerate(new_cols):\n",
    "        df.insert(i, col, s.apply(lambda ind: ind.split(\"_\")[i] if len(list(ind.split(\"_\")))>=(i+1) else np.nan).values)\n",
    "    df.set_index(new_cols, inplace=True)\n",
    "    df.sort_index(inplace=True)\n",
    "    return df\n",
    "\n",
    "columns_to_multi_index(df_res_disease_per_race, new_cols=['Dataset', 'Race'])"
   ]
  },
  {
   "cell_type": "code",
   "execution_count": null,
   "id": "ff411530",
   "metadata": {
    "hidden": true
   },
   "outputs": [],
   "source": []
  },
  {
   "cell_type": "code",
   "execution_count": null,
   "id": "63bb562f",
   "metadata": {
    "hidden": true
   },
   "outputs": [],
   "source": []
  },
  {
   "cell_type": "markdown",
   "id": "d20a1e66",
   "metadata": {},
   "source": [
    "# MIMIC CXR JPG"
   ]
  },
  {
   "cell_type": "markdown",
   "id": "0dc4e20a",
   "metadata": {
    "ExecuteTime": {
     "end_time": "2022-07-22T14:16:55.204655Z",
     "start_time": "2022-07-22T14:16:51.116761Z"
    }
   },
   "source": [
    "## "
   ]
  },
  {
   "cell_type": "code",
   "execution_count": null,
   "id": "a30cc5f2",
   "metadata": {
    "ExecuteTime": {
     "end_time": "2022-07-22T14:16:55.204655Z",
     "start_time": "2022-07-22T14:16:51.116761Z"
    }
   },
   "outputs": [],
   "source": []
  }
 ],
 "metadata": {
  "kernelspec": {
   "display_name": "Python 3 (ipykernel)",
   "language": "python",
   "name": "python3"
  },
  "language_info": {
   "codemirror_mode": {
    "name": "ipython",
    "version": 3
   },
   "file_extension": ".py",
   "mimetype": "text/x-python",
   "name": "python",
   "nbconvert_exporter": "python",
   "pygments_lexer": "ipython3",
   "version": "3.9.12"
  },
  "toc": {
   "base_numbering": 1,
   "nav_menu": {},
   "number_sections": true,
   "sideBar": true,
   "skip_h1_title": false,
   "title_cell": "Table of Contents",
   "title_sidebar": "Contents",
   "toc_cell": false,
   "toc_position": {},
   "toc_section_display": true,
   "toc_window_display": false
  },
  "varInspector": {
   "cols": {
    "lenName": 16,
    "lenType": 16,
    "lenVar": 40
   },
   "kernels_config": {
    "python": {
     "delete_cmd_postfix": "",
     "delete_cmd_prefix": "del ",
     "library": "var_list.py",
     "varRefreshCmd": "print(var_dic_list())"
    },
    "r": {
     "delete_cmd_postfix": ") ",
     "delete_cmd_prefix": "rm(",
     "library": "var_list.r",
     "varRefreshCmd": "cat(var_dic_list()) "
    }
   },
   "types_to_exclude": [
    "module",
    "function",
    "builtin_function_or_method",
    "instance",
    "_Feature"
   ],
   "window_display": false
  }
 },
 "nbformat": 4,
 "nbformat_minor": 5
}
