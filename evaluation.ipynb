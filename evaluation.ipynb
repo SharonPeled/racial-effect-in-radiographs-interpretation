{
 "cells": [
  {
   "cell_type": "markdown",
   "id": "8bc0b1b3",
   "metadata": {
    "ExecuteTime": {
     "end_time": "2022-07-21T05:33:49.424988Z",
     "start_time": "2022-07-21T05:33:49.384775Z"
    }
   },
   "source": [
    "# Imports"
   ]
  },
  {
   "cell_type": "code",
   "execution_count": null,
   "id": "3646f2f4",
   "metadata": {
    "ExecuteTime": {
     "end_time": "2022-07-26T14:11:52.830849Z",
     "start_time": "2022-07-26T14:11:52.725187Z"
    }
   },
   "outputs": [],
   "source": [
    "%load_ext autoreload\n",
    "%autoreload 2"
   ]
  },
  {
   "cell_type": "code",
   "execution_count": null,
   "id": "a996f0f3",
   "metadata": {
    "ExecuteTime": {
     "end_time": "2022-07-26T14:11:53.932010Z",
     "start_time": "2022-07-26T14:11:53.783309Z"
    }
   },
   "outputs": [],
   "source": [
    "%reload_ext autoreload"
   ]
  },
  {
   "cell_type": "code",
   "execution_count": null,
   "id": "13bfa53f",
   "metadata": {
    "ExecuteTime": {
     "end_time": "2022-07-26T14:12:03.040406Z",
     "start_time": "2022-07-26T14:11:54.588728Z"
    }
   },
   "outputs": [],
   "source": [
    "import pandas as pd\n",
    "import numpy as np\n",
    "import matplotlib.pyplot as plt\n",
    "from tqdm.notebook import tqdm\n",
    "import torch\n",
    "from torch import nn\n",
    "from torch.utils.data import DataLoader\n",
    "from torchvision import transforms\n",
    "import time\n",
    "from itertools import islice\n",
    "from dataclasses import dataclass\n",
    "import torchvision\n",
    "from torchvision.models import densenet161, DenseNet161_Weights, vit_b_16, ViT_B_16_Weights, densenet121, DenseNet121_Weights\n",
    "import os\n",
    "import sys\n",
    "from pathlib import Path\n",
    "from torchinfo import summary"
   ]
  },
  {
   "cell_type": "code",
   "execution_count": null,
   "id": "df775d77",
   "metadata": {
    "ExecuteTime": {
     "end_time": "2022-07-26T14:12:03.379676Z",
     "start_time": "2022-07-26T14:12:03.216193Z"
    }
   },
   "outputs": [],
   "source": [
    "pd.set_option('display.max_rows', 500)\n",
    "pd.set_option('display.max_columns', 500)\n",
    "pd.set_option('display.width', 1000)"
   ]
  },
  {
   "cell_type": "code",
   "execution_count": null,
   "id": "94d5dc17",
   "metadata": {
    "ExecuteTime": {
     "end_time": "2022-07-22T16:59:23.401043Z",
     "start_time": "2022-07-22T16:59:23.358091Z"
    }
   },
   "outputs": [],
   "source": [
    "from CheXpert.race_prediction.dataset import CheXpertRaceDataset\n",
    "from CheXpert.disease_prediction.dataset import CheXpertDiseaseDataset\n",
    "from shared_utils import vprint, to_gpu, add_mean_to_list, Mode, SharedConfigs\n",
    "import shared_utils\n",
    "from CheXpert.disease_prediction.utils import Configs as DiseaseConfigs\n",
    "from CheXpert.race_prediction.utils import Configs as RaceConfigs\n",
    "from MIMIC_CXR.dataset import CXRDataset\n",
    "from MIMIC_CXR.utils import Configs as CXRConfigs"
   ]
  },
  {
   "cell_type": "markdown",
   "id": "05f14239",
   "metadata": {
    "ExecuteTime": {
     "end_time": "2022-07-21T05:33:51.356245Z",
     "start_time": "2022-07-21T05:33:51.338273Z"
    }
   },
   "source": [
    "# Configs"
   ]
  },
  {
   "cell_type": "code",
   "execution_count": null,
   "id": "01fab996",
   "metadata": {
    "ExecuteTime": {
     "end_time": "2022-07-22T16:01:16.173561Z",
     "start_time": "2022-07-22T16:01:16.121804Z"
    }
   },
   "outputs": [],
   "source": [
    "@dataclass\n",
    "class Configs(SharedConfigs):\n",
    "    CXR_DATA_DIR = os.path.join(\"data\", \"MIMIC-CXR-JPG\")\n",
    "    CXR_VALID_LABELS_FILENAME = \"valid_400_no_u_no_other.csv\"\n",
    "    CXR_FILENAMES = CXRConfigs.CXR_FILENAMES\n",
    "    CHEXPERT_DATA_DIR = os.path.join(\"data\", \"CheXpert\", \"CheXpert-v1.0-small\")\n",
    "    CHEXPERT_DISEASE_TRAINED_MODELS_DIR = os.path.join(\"CheXpert\", \"disease_prediction\", \"trained_models\")\n",
    "    CHEXPERT_RACE_TRAINED_MODELS_DIR = os.path.join(\"CheXpert\", \"race_prediction\", \"trained_models\")\n",
    "    CHEXPERT_VALID_LABELS_FILENAME = \"valid.csv\"\n",
    "    CHEXPERT_DEMO_FILENAME = \"CHEXPERT DEMO.csv\"\n",
    "    DISEASE_ANNOTATIONS_COLUMNS = DiseaseConfigs.ANNOTATIONS_COLUMNS\n",
    "    CHALLENGE_ANNOTATIONS_COLUMNS = DiseaseConfigs.CHALLENGE_ANNOTATIONS_COLUMNS\n",
    "    RACE_ANNOTATIONS_COLUMNS = RaceConfigs.ANNOTATIONS_COLUMNS\n",
    "    NUM_DISEASE_CLASSES = DiseaseConfigs.NUM_CLASSES\n",
    "    NUM_RACE_CLASSES = RaceConfigs.NUM_CLASSES\n",
    "    CHEXPERT_RACE_DICT = RaceConfigs.RACE_DICT\n",
    "    BATCH_SIZE = 4\n",
    "    VALID_SIZE_DEBUG = 10**10"
   ]
  },
  {
   "cell_type": "code",
   "execution_count": null,
   "id": "5c9a94c8",
   "metadata": {
    "ExecuteTime": {
     "end_time": "2022-07-22T16:01:16.671453Z",
     "start_time": "2022-07-22T16:01:16.616888Z"
    }
   },
   "outputs": [],
   "source": [
    "shared_utils.set_seed(Configs.SEED)"
   ]
  },
  {
   "cell_type": "code",
   "execution_count": null,
   "id": "d7d39db2",
   "metadata": {
    "ExecuteTime": {
     "end_time": "2022-07-22T16:01:17.828555Z",
     "start_time": "2022-07-22T16:01:17.808341Z"
    }
   },
   "outputs": [],
   "source": [
    "if torch.cuda.is_available():\n",
    "    vprint(f\"Memory info: {torch.cuda.mem_get_info()[0]/10e8:.1f} GB free GPU.\", Configs)\n",
    "else: \n",
    "    vprint(f\"No GPU Memory.\", Configs)"
   ]
  },
  {
   "cell_type": "code",
   "execution_count": null,
   "id": "89462230",
   "metadata": {
    "ExecuteTime": {
     "end_time": "2022-07-22T16:01:18.191028Z",
     "start_time": "2022-07-22T16:01:18.172268Z"
    }
   },
   "outputs": [],
   "source": [
    "valid_transform = transforms.Compose([\n",
    "    transforms.Resize((320,320)),\n",
    "    transforms.ToTensor(), \n",
    "    transforms.Normalize([0.485, 0.456, 0.406], [0.229, 0.224, 0.225])\n",
    "])"
   ]
  },
  {
   "cell_type": "markdown",
   "id": "7c69f194",
   "metadata": {},
   "source": [
    "# Disease Prediction "
   ]
  },
  {
   "cell_type": "markdown",
   "id": "593180d1",
   "metadata": {
    "ExecuteTime": {
     "end_time": "2022-07-22T16:01:19.304263Z",
     "start_time": "2022-07-22T16:01:19.207737Z"
    }
   },
   "source": [
    "## Validaiton Dataloaders"
   ]
  },
  {
   "cell_type": "code",
   "execution_count": null,
   "id": "4eaa271d",
   "metadata": {
    "ExecuteTime": {
     "end_time": "2022-07-22T16:01:19.304263Z",
     "start_time": "2022-07-22T16:01:19.207737Z"
    }
   },
   "outputs": [],
   "source": [
    "cxp_disease_valid_dataset = CheXpertDiseaseDataset(data_dir=Configs.CHEXPERT_DATA_DIR, \n",
    "                                                   labels_filename=Configs.CHEXPERT_VALID_LABELS_FILENAME,\n",
    "                                                   transform=valid_transform)\n",
    "cxp_disease_valid_dataset.df_labels = cxp_disease_valid_dataset.df_labels[:Configs.VALID_SIZE_DEBUG]\n",
    "cxp_disease_valid_dataloader = DataLoader(cxp_disease_valid_dataset, batch_size=Configs.BATCH_SIZE, shuffle=False)\n",
    "len(cxp_disease_valid_dataset)"
   ]
  },
  {
   "cell_type": "code",
   "execution_count": null,
   "id": "2aae85d8",
   "metadata": {
    "ExecuteTime": {
     "end_time": "2022-07-22T16:01:19.304263Z",
     "start_time": "2022-07-22T16:01:19.207737Z"
    }
   },
   "outputs": [],
   "source": [
    "if set(['race', 'gender', 'age']).issubset(cxp_disease_valid_dataset.df_labels.columns):\n",
    "    display(cxp_disease_valid_dataset.df_labels.groupby(['race', 'gender', 'age']).size())"
   ]
  },
  {
   "cell_type": "code",
   "execution_count": null,
   "id": "1e0760ba",
   "metadata": {
    "ExecuteTime": {
     "end_time": "2022-07-22T16:01:19.304263Z",
     "start_time": "2022-07-22T16:01:19.207737Z"
    }
   },
   "outputs": [],
   "source": [
    "# group_sample_size = {\n",
    "#     \"Black_40-70_F\": 100,\n",
    "#     \"Hispanic_40-70_F\": 100\n",
    "# }"
   ]
  },
  {
   "cell_type": "code",
   "execution_count": null,
   "id": "72a41da1",
   "metadata": {
    "ExecuteTime": {
     "end_time": "2022-07-22T16:01:19.304263Z",
     "start_time": "2022-07-22T16:01:19.207737Z"
    }
   },
   "outputs": [],
   "source": [
    "# cxr_disease_valid_dataset = CXRDataset.download_dataset(400, Mode.Disease, Configs.CXR_DATA_DIR,\n",
    "#                                                         Configs.CXR_VALID_LABELS_FILENAME, **Configs.CXR_FILENAMES,\n",
    "#                                                         transform=valid_transform, target_transform=None)\n",
    "cxr_disease_valid_dataset = CXRDataset(Mode.Disease, Configs.CXR_DATA_DIR, Configs.CXR_VALID_LABELS_FILENAME,\n",
    "                                       transform=valid_transform)\n",
    "cxr_disease_valid_dataset.df_labels = cxr_disease_valid_dataset.df_labels[:Configs.VALID_SIZE_DEBUG]\n",
    "cxr_disease_valid_dataloader = DataLoader(cxr_disease_valid_dataset, batch_size=Configs.BATCH_SIZE, shuffle=False)\n",
    "len(cxr_disease_valid_dataset)"
   ]
  },
  {
   "cell_type": "markdown",
   "id": "872ed286",
   "metadata": {
    "ExecuteTime": {
     "end_time": "2022-07-22T16:01:19.634071Z",
     "start_time": "2022-07-22T16:01:19.612751Z"
    }
   },
   "source": [
    "## Pretrained Models "
   ]
  },
  {
   "cell_type": "code",
   "execution_count": null,
   "id": "8b53dd10",
   "metadata": {
    "ExecuteTime": {
     "end_time": "2022-07-22T16:01:19.634071Z",
     "start_time": "2022-07-22T16:01:19.612751Z"
    }
   },
   "outputs": [],
   "source": [
    "_, _, files = next(os.walk(Configs.CHEXPERT_DISEASE_TRAINED_MODELS_DIR))\n",
    "disease_trained_models = [os.path.join(Configs.CHEXPERT_DISEASE_TRAINED_MODELS_DIR, file) for file in files]\n",
    "len(disease_trained_models)"
   ]
  },
  {
   "cell_type": "code",
   "execution_count": null,
   "id": "cf665e0d",
   "metadata": {
    "ExecuteTime": {
     "end_time": "2022-07-22T16:01:19.634071Z",
     "start_time": "2022-07-22T16:01:19.612751Z"
    }
   },
   "outputs": [],
   "source": [
    "disease_trained_model = disease_trained_models[-1]"
   ]
  },
  {
   "cell_type": "code",
   "execution_count": null,
   "id": "03431706",
   "metadata": {
    "ExecuteTime": {
     "end_time": "2022-07-22T16:01:20.524091Z",
     "start_time": "2022-07-22T16:01:20.017815Z"
    }
   },
   "outputs": [],
   "source": [
    "disease_model = densenet121()\n",
    "num_features = disease_model.classifier.in_features\n",
    "disease_model.classifier = nn.Sequential(\n",
    "    nn.Linear(num_features, num_features, bias=True),\n",
    "    nn.ReLU(),\n",
    "    nn.Dropout(p=0.1),\n",
    "    nn.Linear(in_features=num_features, out_features=Configs.NUM_DISEASE_CLASSES, bias=True)\n",
    ")\n",
    "disease_model.eval()\n",
    "not disease_model.training"
   ]
  },
  {
   "cell_type": "code",
   "execution_count": null,
   "id": "7732388f",
   "metadata": {
    "ExecuteTime": {
     "end_time": "2022-07-22T16:01:24.369479Z",
     "start_time": "2022-07-22T16:01:24.048235Z"
    }
   },
   "outputs": [],
   "source": [
    "disease_model, results, _, _ = shared_utils.load_statedict(disease_model, disease_trained_model, Configs)\n",
    "disease_model = to_gpu(disease_model)"
   ]
  },
  {
   "cell_type": "markdown",
   "id": "e0eccd14",
   "metadata": {
    "ExecuteTime": {
     "end_time": "2022-07-22T16:02:13.870486Z",
     "start_time": "2022-07-22T16:01:24.749503Z"
    }
   },
   "source": [
    "## Predictions"
   ]
  },
  {
   "cell_type": "code",
   "execution_count": null,
   "id": "08f376fb",
   "metadata": {
    "ExecuteTime": {
     "end_time": "2022-07-22T16:02:13.870486Z",
     "start_time": "2022-07-22T16:01:24.749503Z"
    }
   },
   "outputs": [],
   "source": [
    "df_res_disease = pd.DataFrame(columns=Configs.DISEASE_ANNOTATIONS_COLUMNS + ['Mean'])\n",
    "df_res_disease"
   ]
  },
  {
   "cell_type": "code",
   "execution_count": null,
   "id": "afdaa031",
   "metadata": {
    "ExecuteTime": {
     "end_time": "2022-07-22T16:02:13.870486Z",
     "start_time": "2022-07-22T16:01:24.749503Z"
    }
   },
   "outputs": [],
   "source": [
    "cxp_disease_labels, cxp_disease_outputs = shared_utils.get_metric_tensors(disease_model, cxp_disease_valid_dataloader, Configs,\n",
    "                                                  apply_on_outputs=lambda x: torch.sigmoid(x),\n",
    "                                                  by_study=False, challenge_ann_only=None)\n",
    "df_res_disease.loc['CXP'] = add_mean_to_list(shared_utils.auc_score(cxp_disease_labels, cxp_disease_outputs, per_class=True))"
   ]
  },
  {
   "cell_type": "code",
   "execution_count": null,
   "id": "5cc451f4",
   "metadata": {
    "ExecuteTime": {
     "end_time": "2022-07-21T14:16:27.662400Z",
     "start_time": "2022-07-21T14:16:27.511276Z"
    }
   },
   "outputs": [],
   "source": [
    "cxr_disease_labels, cxr_disease_outputs = shared_utils.get_metric_tensors(disease_model, cxr_disease_valid_dataloader, Configs,\n",
    "                                                  apply_on_outputs=lambda x: torch.sigmoid(x),\n",
    "                                                  by_study=False, challenge_ann_only=None)\n",
    "df_res_disease.loc['CXR'] = add_mean_to_list(shared_utils.auc_score(cxr_disease_labels, cxr_disease_outputs, per_class=True))"
   ]
  },
  {
   "cell_type": "code",
   "execution_count": null,
   "id": "e9fe9d22",
   "metadata": {},
   "outputs": [],
   "source": [
    "df_res_disease.sort_values(by=\"Mean\", ascending=False, inplace=True)\n",
    "df_res_disease = df_res_disease.round(2)"
   ]
  },
  {
   "cell_type": "code",
   "execution_count": null,
   "id": "8b362803",
   "metadata": {},
   "outputs": [],
   "source": [
    "print(df_res_disease)"
   ]
  },
  {
   "cell_type": "markdown",
   "id": "3515b1d5",
   "metadata": {},
   "source": [
    "## Performance Per Protected Groups "
   ]
  },
  {
   "cell_type": "code",
   "execution_count": null,
   "id": "54984dc1",
   "metadata": {},
   "outputs": [],
   "source": [
    "# race, age group, and gender to ChexPertDiseaseDatatset\n",
    "if set(['race', 'gender', 'age']).issubset(cxp_disease_valid_dataset.df_labels.columns):\n",
    "    cxp_disease_df_labels = cxp_disease_valid_dataset.df_labels\n",
    "else:\n",
    "    cxp_demo_df = CheXpertRaceDataset.generate_race_dummies(pd.read_csv(os.path.join(Configs.CHEXPERT_DATA_DIR,\n",
    "                                                                                     Configs.CHEXPERT_DEMO_FILENAME)),\n",
    "                                                           'PRIMARY_RACE', Configs.CHEXPERT_RACE_DICT)\n",
    "    cxp_race_df = cxp_demo_df[['PATIENT', 'race'] + Configs.RACE_ANNOTATIONS_COLUMNS].drop_duplicates()\n",
    "    cxp_disease_df_labels = cxp_disease_valid_dataset.df_labels.merge(cxp_race_df, how='left',\n",
    "                                                                                    left_on='patient_id', right_on='PATIENT')\n",
    "    cxp_disease_df_labels.race.fillna('Other', inplace=True)\n",
    "    cxp_disease_df_labels['age'] = cxp_disease_df_labels.Age.apply(shared_utils.age_to_age_group)\n",
    "    cxp_disease_df_labels['gender'] = cxp_disease_df_labels.Sex"
   ]
  },
  {
   "cell_type": "code",
   "execution_count": null,
   "id": "072a39e5",
   "metadata": {},
   "outputs": [],
   "source": [
    "cxp_disease_df_labels.head(2)"
   ]
  },
  {
   "cell_type": "code",
   "execution_count": null,
   "id": "42f48e85",
   "metadata": {},
   "outputs": [],
   "source": [
    "cxr_disease_df_labels = cxr_disease_valid_dataset.df_labels.copy()\n",
    "cxr_disease_df_labels.gender.replace({\"M\": \"Male\", \"F\": \"Female\"}, inplace=True)\n",
    "cxr_disease_df_labels.head(2)"
   ]
  },
  {
   "cell_type": "code",
   "execution_count": null,
   "id": "ff219a50",
   "metadata": {},
   "outputs": [],
   "source": [
    "shared_utils.auc_per_protected_group(cxp_disease_df_labels, Mode.Disease, Configs, cxp_disease_labels,\n",
    "                                     cxp_disease_outputs, protected_groups=['race'])"
   ]
  },
  {
   "cell_type": "code",
   "execution_count": null,
   "id": "1efb53c7",
   "metadata": {},
   "outputs": [],
   "source": [
    "shared_utils.auc_per_protected_group(cxp_disease_df_labels, Mode.Disease, Configs, cxp_disease_labels,\n",
    "                                     cxp_disease_outputs, protected_groups=['gender'])"
   ]
  },
  {
   "cell_type": "code",
   "execution_count": null,
   "id": "d2c5c307",
   "metadata": {},
   "outputs": [],
   "source": [
    "shared_utils.auc_per_protected_group(cxp_disease_df_labels, Mode.Disease, Configs, cxp_disease_labels,\n",
    "                                     cxp_disease_outputs, protected_groups=['age'])"
   ]
  },
  {
   "cell_type": "code",
   "execution_count": null,
   "id": "d22577d7",
   "metadata": {},
   "outputs": [],
   "source": [
    "shared_utils.auc_per_protected_group(cxp_disease_df_labels, Mode.Disease, Configs, cxp_disease_labels,\n",
    "                                     cxp_disease_outputs, protected_groups=['race', 'age','gender'])"
   ]
  },
  {
   "cell_type": "code",
   "execution_count": null,
   "id": "b887345d",
   "metadata": {},
   "outputs": [],
   "source": [
    "shared_utils.auc_per_protected_group(cxr_disease_df_labels, Mode.Disease, Configs, cxr_disease_labels,\n",
    "                                     cxr_disease_outputs, protected_groups=['race'])"
   ]
  },
  {
   "cell_type": "code",
   "execution_count": null,
   "id": "4e306567",
   "metadata": {},
   "outputs": [],
   "source": [
    "shared_utils.auc_per_protected_group(cxr_disease_df_labels, Mode.Disease, Configs, cxr_disease_labels,\n",
    "                                     cxr_disease_outputs, protected_groups=['gender'])"
   ]
  },
  {
   "cell_type": "code",
   "execution_count": null,
   "id": "8f704cdf",
   "metadata": {},
   "outputs": [],
   "source": [
    "shared_utils.auc_per_protected_group(cxr_disease_df_labels, Mode.Disease, Configs, cxr_disease_labels,\n",
    "                                     cxr_disease_outputs, protected_groups=['age'])"
   ]
  },
  {
   "cell_type": "code",
   "execution_count": null,
   "id": "cffba2c1",
   "metadata": {},
   "outputs": [],
   "source": [
    "shared_utils.auc_per_protected_group(cxr_disease_df_labels, Mode.Disease, Configs, cxr_disease_labels,\n",
    "                                     cxr_disease_outputs, protected_groups=['gender', 'age','race'])"
   ]
  },
  {
   "cell_type": "markdown",
   "id": "7bbbf178",
   "metadata": {
    "heading_collapsed": true
   },
   "source": [
    "# Race Prediction"
   ]
  },
  {
   "cell_type": "markdown",
   "id": "42e859cb",
   "metadata": {
    "ExecuteTime": {
     "end_time": "2022-07-21T14:19:24.707979Z",
     "start_time": "2022-07-21T14:19:24.413562Z"
    },
    "hidden": true
   },
   "source": [
    "## Validation Dataloaders"
   ]
  },
  {
   "cell_type": "code",
   "execution_count": null,
   "id": "7d0bb1c9",
   "metadata": {
    "ExecuteTime": {
     "end_time": "2022-07-21T14:19:24.707979Z",
     "start_time": "2022-07-21T14:19:24.413562Z"
    },
    "hidden": true
   },
   "outputs": [],
   "source": [
    "cxp_race_valid_dataset = CheXpertRaceDataset(data_dir=Configs.CHEXPERT_DATA_DIR, demo_filename=Configs.CHEXPERT_DEMO_FILENAME, \n",
    "                                             labels_filename=Configs.CHEXPERT_VALID_LABELS_FILENAME, transform=valid_transform,\n",
    "                                             label_transform=False)\n",
    "cxp_race_valid_dataset.df_labels = cxp_race_valid_dataset.df_labels[:Configs.VALID_SIZE_DEBUG]\n",
    "cxp_race_valid_dataloader = DataLoader(cxp_race_valid_dataset, batch_size=Configs.BATCH_SIZE, shuffle=False)\n",
    "len(cxp_race_valid_dataset)"
   ]
  },
  {
   "cell_type": "code",
   "execution_count": null,
   "id": "e3dc1852",
   "metadata": {
    "ExecuteTime": {
     "end_time": "2022-07-21T14:19:24.707979Z",
     "start_time": "2022-07-21T14:19:24.413562Z"
    },
    "hidden": true
   },
   "outputs": [],
   "source": [
    "# cxr_disease_valid_dataset = CXRDataset.download_dataset(400, cxr_mode.Race, Configs.CXR_DATA_DIR,\n",
    "#                                                         Configs.CXR_VALID_LABELS_FILENAME, **Configs.CXR_FILENAMES,\n",
    "#                                                         transform=valid_transform, target_transform=None)\n",
    "cxr_race_valid_dataset = CXRDataset(Mode.Race, Configs.CXR_DATA_DIR, Configs.CXR_VALID_LABELS_FILENAME,\n",
    "                                    transform=valid_transform)\n",
    "cxr_race_valid_dataset.df_labels = cxr_race_valid_dataset.df_labels[:Configs.VALID_SIZE_DEBUG]\n",
    "cxr_race_valid_dataloader = DataLoader(cxr_race_valid_dataset, batch_size=Configs.BATCH_SIZE, shuffle=False)\n",
    "len(cxr_race_valid_dataset)"
   ]
  },
  {
   "cell_type": "markdown",
   "id": "5ffe146a",
   "metadata": {
    "ExecuteTime": {
     "end_time": "2022-07-21T16:23:42.209187Z",
     "start_time": "2022-07-21T16:23:42.015805Z"
    },
    "hidden": true
   },
   "source": [
    "## Pretrained Models "
   ]
  },
  {
   "cell_type": "code",
   "execution_count": null,
   "id": "8c0dd9ca",
   "metadata": {
    "ExecuteTime": {
     "end_time": "2022-07-21T16:23:42.209187Z",
     "start_time": "2022-07-21T16:23:42.015805Z"
    },
    "hidden": true
   },
   "outputs": [],
   "source": [
    "_, _, files = next(os.walk(Configs.CHEXPERT_RACE_TRAINED_MODELS_DIR))\n",
    "race_trained_models = [os.path.join(Configs.CHEXPERT_RACE_TRAINED_MODELS_DIR, file) for file in files]\n",
    "race_model_versions = [p.split('__')[1] for p in race_trained_models]\n",
    "len(race_trained_models)"
   ]
  },
  {
   "cell_type": "code",
   "execution_count": null,
   "id": "0b78d6b4",
   "metadata": {
    "ExecuteTime": {
     "end_time": "2022-07-21T16:23:42.209187Z",
     "start_time": "2022-07-21T16:23:42.015805Z"
    },
    "hidden": true
   },
   "outputs": [],
   "source": [
    "models_dict = {}\n",
    "for model_version, model_path in zip(race_model_versions, race_trained_models):\n",
    "    model = densenet121()\n",
    "    if \"shallow\" in model_version:\n",
    "        shallow_denseblock = int(model_version.split('_')[2][10:])\n",
    "        layer_offset = 3 + 2 * shallow_denseblock\n",
    "        num_features = model.features[layer_offset].norm.num_features\n",
    "        model = model.features[:layer_offset]\n",
    "        classifier_module = nn.Sequential(\n",
    "            nn.BatchNorm2d(num_features, eps=1e-05, momentum=0.1, affine=True, track_running_stats=True),\n",
    "            nn.ReLU(),\n",
    "            nn.AdaptiveAvgPool2d((1, 1)),   \n",
    "            nn.Flatten(start_dim=1),\n",
    "            nn.Linear(in_features=num_features, out_features=num_features, bias=True),\n",
    "            nn.Dropout(p=0.1),\n",
    "            nn.Linear(in_features=num_features, out_features=Configs.NUM_RACE_CLASSES, bias=True))\n",
    "        model.add_module('classifier', classifier_module)\n",
    "    else:\n",
    "        num_features = model.classifier.in_features\n",
    "        model.classifier = nn.Sequential(\n",
    "            nn.Linear(num_features, num_features, bias=True),\n",
    "            nn.ReLU(),\n",
    "            nn.Dropout(p=0.1),\n",
    "            nn.Linear(in_features=num_features, out_features=Configs.NUM_RACE_CLASSES, bias=True))\n",
    "    model.eval()\n",
    "    model, results, _, _ = shared_utils.load_statedict(model, model_path, Configs, device='cpu')\n",
    "    models_dict[model_version] = model"
   ]
  },
  {
   "cell_type": "markdown",
   "id": "984434af",
   "metadata": {
    "ExecuteTime": {
     "end_time": "2022-07-21T16:31:01.313615Z",
     "start_time": "2022-07-21T16:31:01.225770Z"
    },
    "hidden": true
   },
   "source": [
    "## Predictions "
   ]
  },
  {
   "cell_type": "code",
   "execution_count": null,
   "id": "56d2c851",
   "metadata": {
    "ExecuteTime": {
     "end_time": "2022-07-21T16:31:01.313615Z",
     "start_time": "2022-07-21T16:31:01.225770Z"
    },
    "hidden": true
   },
   "outputs": [],
   "source": [
    "df_res_race = pd.DataFrame(columns=Configs.RACE_ANNOTATIONS_COLUMNS + ['Mean'])\n",
    "df_res_race"
   ]
  },
  {
   "cell_type": "code",
   "execution_count": null,
   "id": "f6e7e6ab",
   "metadata": {
    "ExecuteTime": {
     "end_time": "2022-07-21T16:44:21.735440Z",
     "start_time": "2022-07-21T16:31:02.587322Z"
    },
    "hidden": true,
    "scrolled": true
   },
   "outputs": [],
   "source": [
    "for model_version, model in tqdm(models_dict.items()):\n",
    "    model = to_gpu(model)\n",
    "    cxp_race_labels, cxp_race_outputs = shared_utils.get_metric_tensors(model, cxp_race_valid_dataloader, Configs,\n",
    "                                                                        apply_on_outputs=lambda x: torch.softmax(x, dim=1),\n",
    "                                                                        by_study=False, challenge_ann_only=None)\n",
    "    cxr_race_labels, cxr_race_outputs = shared_utils.get_metric_tensors(model, cxr_race_valid_dataloader, Configs,\n",
    "                                                                        apply_on_outputs=lambda x: torch.softmax(x, dim=1),\n",
    "                                                                        by_study=False, challenge_ann_only=None)\n",
    "    df_res_race.loc[f\"CXP_{model_version}\"] = add_mean_to_list(shared_utils.auc_score(cxp_race_labels, cxp_race_outputs, per_class=True))\n",
    "    df_res_race.loc[f\"CXR_{model_version}\"] = add_mean_to_list(shared_utils.auc_score(cxr_race_labels, cxr_race_outputs, per_class=True))\n",
    "    model.cpu()"
   ]
  },
  {
   "cell_type": "code",
   "execution_count": null,
   "id": "50090480",
   "metadata": {
    "hidden": true
   },
   "outputs": [],
   "source": [
    "cxp_race_valid_dataloader.dataset.df_labels#.loc[idx]"
   ]
  },
  {
   "cell_type": "code",
   "execution_count": null,
   "id": "c05199b1",
   "metadata": {
    "hidden": true
   },
   "outputs": [],
   "source": [
    "df_res_race.sort_values(by=\"Mean\", ascending=False, inplace=True)\n",
    "df_res_race = df_res_race.round(2)"
   ]
  },
  {
   "cell_type": "code",
   "execution_count": null,
   "id": "159a918b",
   "metadata": {
    "hidden": true
   },
   "outputs": [],
   "source": [
    "df_res_race"
   ]
  },
  {
   "cell_type": "markdown",
   "id": "af1b96d1",
   "metadata": {
    "hidden": true
   },
   "source": [
    "## Performance Per Protected Groups"
   ]
  },
  {
   "cell_type": "code",
   "execution_count": null,
   "id": "d26abc02",
   "metadata": {
    "hidden": true
   },
   "outputs": [],
   "source": [
    "# race, age group, and gender to ChexPertDiseaseDatatset\n",
    "cxp_race_df_labels = cxp_race_valid_dataset.df_labels[['PATIENT', 'race', 'AGE_AT_CXR', 'GENDER'] + Configs.RACE_ANNOTATIONS_COLUMNS].drop_duplicates()\n",
    "cxp_race_df_labels['age'] = cxp_race_df_labels.AGE_AT_CXR.apply(shared_utils.age_to_age_group)\n",
    "cxp_race_df_labels['gender'] = cxp_race_df_labels.GENDER\n",
    "cxp_race_df_labels.head(2)"
   ]
  },
  {
   "cell_type": "code",
   "execution_count": null,
   "id": "2d27dd76",
   "metadata": {
    "hidden": true
   },
   "outputs": [],
   "source": [
    "cxr_race_df_labels = cxr_race_valid_dataset.df_labels.copy()\n",
    "cxr_race_df_labels.gender.replace({\"M\": \"Male\", \"F\": \"Female\"}, inplace=True)\n",
    "cxr_race_df_labels.head(2)"
   ]
  },
  {
   "cell_type": "code",
   "execution_count": null,
   "id": "fd2de51b",
   "metadata": {
    "hidden": true
   },
   "outputs": [],
   "source": [
    "model = models_dict['densenet121_race']\n",
    "model = to_gpu(model)\n",
    "cxp_race_labels, cxp_race_outputs = shared_utils.get_metric_tensors(model, cxp_race_valid_dataloader, Configs,\n",
    "                                                                    apply_on_outputs=lambda x: torch.softmax(x, dim=1),\n",
    "                                                                    by_study=False, challenge_ann_only=None)\n",
    "cxr_race_labels, cxr_race_outputs = shared_utils.get_metric_tensors(model, cxr_race_valid_dataloader, Configs,\n",
    "                                                                    apply_on_outputs=lambda x: torch.softmax(x, dim=1),\n",
    "                                                                    by_study=False, challenge_ann_only=None)"
   ]
  },
  {
   "cell_type": "code",
   "execution_count": null,
   "id": "aed7db15",
   "metadata": {
    "hidden": true
   },
   "outputs": [],
   "source": [
    "shared_utils.auc_per_protected_group(cxp_race_df_labels, Mode.Race, Configs, cxp_race_labels,\n",
    "                                     cxp_race_outputs, protected_groups=['gender'])"
   ]
  },
  {
   "cell_type": "code",
   "execution_count": null,
   "id": "2ceb6e44",
   "metadata": {
    "hidden": true
   },
   "outputs": [],
   "source": [
    "shared_utils.auc_per_protected_group(cxp_race_df_labels, Mode.Race, Configs, cxp_race_labels,\n",
    "                                     cxp_race_outputs, protected_groups=['age'])"
   ]
  },
  {
   "cell_type": "code",
   "execution_count": null,
   "id": "0a93ecaf",
   "metadata": {
    "hidden": true
   },
   "outputs": [],
   "source": [
    "shared_utils.auc_per_protected_group(cxr_race_df_labels, Mode.Race, Configs, cxr_race_labels,\n",
    "                                     cxr_race_outputs, protected_groups=['gender'])"
   ]
  },
  {
   "cell_type": "code",
   "execution_count": null,
   "id": "36de3a01",
   "metadata": {
    "hidden": true
   },
   "outputs": [],
   "source": [
    "shared_utils.auc_per_protected_group(cxr_race_df_labels, Mode.Race, Configs, cxr_race_labels,\n",
    "                                     cxr_race_outputs, protected_groups=['age'])"
   ]
  },
  {
   "cell_type": "code",
   "execution_count": null,
   "id": "49a24df8",
   "metadata": {
    "hidden": true
   },
   "outputs": [],
   "source": [
    "shared_utils.auc_per_protected_group(cxr_race_df_labels, Mode.Race, Configs, cxr_race_labels,\n",
    "                                     cxr_race_outputs, protected_groups=['gender', 'age'])"
   ]
  }
 ],
 "metadata": {
  "kernelspec": {
   "display_name": "Python 3 (ipykernel)",
   "language": "python",
   "name": "python3"
  },
  "language_info": {
   "codemirror_mode": {
    "name": "ipython",
    "version": 3
   },
   "file_extension": ".py",
   "mimetype": "text/x-python",
   "name": "python",
   "nbconvert_exporter": "python",
   "pygments_lexer": "ipython3",
   "version": "3.8.13"
  },
  "toc": {
   "base_numbering": 1,
   "nav_menu": {},
   "number_sections": true,
   "sideBar": true,
   "skip_h1_title": false,
   "title_cell": "Table of Contents",
   "title_sidebar": "Contents",
   "toc_cell": false,
   "toc_position": {},
   "toc_section_display": true,
   "toc_window_display": false
  },
  "varInspector": {
   "cols": {
    "lenName": 16,
    "lenType": 16,
    "lenVar": 40
   },
   "kernels_config": {
    "python": {
     "delete_cmd_postfix": "",
     "delete_cmd_prefix": "del ",
     "library": "var_list.py",
     "varRefreshCmd": "print(var_dic_list())"
    },
    "r": {
     "delete_cmd_postfix": ") ",
     "delete_cmd_prefix": "rm(",
     "library": "var_list.r",
     "varRefreshCmd": "cat(var_dic_list()) "
    }
   },
   "types_to_exclude": [
    "module",
    "function",
    "builtin_function_or_method",
    "instance",
    "_Feature"
   ],
   "window_display": false
  }
 },
 "nbformat": 4,
 "nbformat_minor": 5
}
