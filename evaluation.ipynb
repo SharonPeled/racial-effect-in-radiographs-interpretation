{
 "cells": [
  {
   "cell_type": "markdown",
   "id": "8bc0b1b3",
   "metadata": {
    "ExecuteTime": {
     "end_time": "2022-07-21T05:33:49.424988Z",
     "start_time": "2022-07-21T05:33:49.384775Z"
    }
   },
   "source": [
    "# Imports"
   ]
  },
  {
   "cell_type": "code",
   "execution_count": 1,
   "id": "3646f2f4",
   "metadata": {
    "ExecuteTime": {
     "end_time": "2022-07-21T14:14:05.691821Z",
     "start_time": "2022-07-21T14:14:05.648531Z"
    }
   },
   "outputs": [],
   "source": [
    "%load_ext autoreload\n",
    "%autoreload 2"
   ]
  },
  {
   "cell_type": "code",
   "execution_count": 2,
   "id": "a996f0f3",
   "metadata": {
    "ExecuteTime": {
     "end_time": "2022-07-21T14:14:06.499351Z",
     "start_time": "2022-07-21T14:14:06.400385Z"
    }
   },
   "outputs": [],
   "source": [
    "%reload_ext autoreload"
   ]
  },
  {
   "cell_type": "code",
   "execution_count": 3,
   "id": "df775d77",
   "metadata": {
    "ExecuteTime": {
     "end_time": "2022-07-21T14:14:10.134745Z",
     "start_time": "2022-07-21T14:14:07.082133Z"
    }
   },
   "outputs": [],
   "source": [
    "import pandas as pd\n",
    "import numpy as np\n",
    "import matplotlib.pyplot as plt\n",
    "from tqdm.notebook import tqdm\n",
    "import torch\n",
    "from torch import nn\n",
    "from torch.utils.data import DataLoader\n",
    "from torchvision import transforms\n",
    "import time\n",
    "from itertools import islice\n",
    "from dataclasses import dataclass\n",
    "import torchvision\n",
    "from torchvision.models import densenet161, DenseNet161_Weights, vit_b_16, ViT_B_16_Weights, densenet121, DenseNet121_Weights\n",
    "import os\n",
    "import sys\n",
    "from pathlib import Path\n",
    "from torchinfo import summary"
   ]
  },
  {
   "cell_type": "code",
   "execution_count": 4,
   "id": "94d5dc17",
   "metadata": {
    "ExecuteTime": {
     "end_time": "2022-07-21T14:14:11.822255Z",
     "start_time": "2022-07-21T14:14:10.800325Z"
    }
   },
   "outputs": [],
   "source": [
    "from CheXpert.race_prediction.dataset import CheXpertRaceDataset\n",
    "from CheXpert.disease_prediction.dataset import CheXpertDiseaseDataset\n",
    "from CheXpert.shared_utils import vprint, to_gpu\n",
    "from CheXpert import shared_utils\n",
    "from CheXpert.disease_prediction.utils import Configs as disease_configs\n",
    "from CheXpert.race_prediction.utils import Configs as race_configs"
   ]
  },
  {
   "cell_type": "markdown",
   "id": "05f14239",
   "metadata": {
    "ExecuteTime": {
     "end_time": "2022-07-21T05:33:51.356245Z",
     "start_time": "2022-07-21T05:33:51.338273Z"
    }
   },
   "source": [
    "# Configs"
   ]
  },
  {
   "cell_type": "code",
   "execution_count": 15,
   "id": "01fab996",
   "metadata": {
    "ExecuteTime": {
     "end_time": "2022-07-21T14:16:11.159757Z",
     "start_time": "2022-07-21T14:16:11.054804Z"
    }
   },
   "outputs": [],
   "source": [
    "@dataclass\n",
    "class Configs:\n",
    "    DATA_DIR = os.path.join(\"data\", \"CheXpert\", \"CheXpert-v1.0-small\")\n",
    "    DISEASE_TRAINED_MODELS_DIR = os.path.join(\"CheXpert\", \"disease_prediction\", \"trained_models\")\n",
    "    RACE_TRAINED_MODELS_DIR = os.path.join(\"CheXpert\", \"race_prediction\", \"trained_models\")\n",
    "    VALID_LABELS_FILENAME = \"valid.csv\"\n",
    "    DEMO_FILENAME = \"CHEXPERT DEMO.csv\"\n",
    "    DISEASE_CLASSES = disease_configs.ANNOTATIONS_COLUMNS\n",
    "    RACE_CLASSES = race_configs.ANNOTATIONS_COLUMNS\n",
    "    NUM_DISEASE_CLASSES = disease_configs.NUM_CLASSES\n",
    "    NUM_RACE_CLASSES = race_configs.NUM_CLASSES\n",
    "    BATCH_SIZE = 4\n",
    "    SEED = 123\n",
    "    VERBOSE = 1\n",
    "    VALID_SIZE_DEBUG = 10"
   ]
  },
  {
   "cell_type": "code",
   "execution_count": 16,
   "id": "bef84566",
   "metadata": {
    "ExecuteTime": {
     "end_time": "2022-07-21T14:16:12.015613Z",
     "start_time": "2022-07-21T14:16:11.900470Z"
    }
   },
   "outputs": [],
   "source": [
    "shared_utils.set_seed(Configs.SEED)"
   ]
  },
  {
   "cell_type": "code",
   "execution_count": 17,
   "id": "d7d39db2",
   "metadata": {
    "ExecuteTime": {
     "end_time": "2022-07-21T14:16:12.840629Z",
     "start_time": "2022-07-21T14:16:12.724693Z"
    }
   },
   "outputs": [
    {
     "name": "stdout",
     "output_type": "stream",
     "text": [
      "2022-07-21 17:16: No GPU Memory.\n"
     ]
    }
   ],
   "source": [
    "if torch.cuda.is_available():\n",
    "    vprint(f\"Memory info: {torch.cuda.mem_get_info()[0]/10e8:.1f} GB free GPU.\", Configs)\n",
    "else: \n",
    "    vprint(f\"No GPU Memory.\", Configs)"
   ]
  },
  {
   "cell_type": "code",
   "execution_count": 18,
   "id": "5e54f8c4",
   "metadata": {
    "ExecuteTime": {
     "end_time": "2022-07-21T14:16:13.620395Z",
     "start_time": "2022-07-21T14:16:13.537079Z"
    }
   },
   "outputs": [],
   "source": [
    "valid_transform = transforms.Compose([\n",
    "    transforms.Resize((320,320)),\n",
    "    transforms.ToTensor(), \n",
    "    transforms.Normalize([0.485, 0.456, 0.406], [0.229, 0.224, 0.225])\n",
    "])"
   ]
  },
  {
   "cell_type": "markdown",
   "id": "7c69f194",
   "metadata": {},
   "source": [
    "# Disease Prediction "
   ]
  },
  {
   "cell_type": "code",
   "execution_count": 19,
   "id": "18cbca91",
   "metadata": {
    "ExecuteTime": {
     "end_time": "2022-07-21T14:16:14.751444Z",
     "start_time": "2022-07-21T14:16:14.623915Z"
    }
   },
   "outputs": [
    {
     "data": {
      "text/plain": [
       "10"
      ]
     },
     "execution_count": 19,
     "metadata": {},
     "output_type": "execute_result"
    }
   ],
   "source": [
    "disease_valid_dataset = CheXpertDiseaseDataset(data_dir=Configs.DATA_DIR, \n",
    "                                               labels_filename=Configs.VALID_LABELS_FILENAME,\n",
    "                                               transform=valid_transform)\n",
    "disease_valid_dataset.df_labels = disease_valid_dataset.df_labels[:Configs.VALID_SIZE_DEBUG] # hack for speed debugging\n",
    "disease_valid_dataloader = DataLoader(disease_valid_dataset, batch_size=Configs.BATCH_SIZE, shuffle=False)\n",
    "len(disease_valid_dataset)"
   ]
  },
  {
   "cell_type": "code",
   "execution_count": 20,
   "id": "cf665e0d",
   "metadata": {
    "ExecuteTime": {
     "end_time": "2022-07-21T14:16:15.577451Z",
     "start_time": "2022-07-21T14:16:15.473705Z"
    }
   },
   "outputs": [
    {
     "data": {
      "text/plain": [
       "1"
      ]
     },
     "execution_count": 20,
     "metadata": {},
     "output_type": "execute_result"
    }
   ],
   "source": [
    "_, _, files = next(os.walk(Configs.DISEASE_TRAINED_MODELS_DIR))\n",
    "disease_trained_models = [os.path.join(Configs.DISEASE_TRAINED_MODELS_DIR, file) for file in files]\n",
    "len(disease_trained_models)"
   ]
  },
  {
   "cell_type": "code",
   "execution_count": 21,
   "id": "03431706",
   "metadata": {
    "ExecuteTime": {
     "end_time": "2022-07-21T14:16:16.617835Z",
     "start_time": "2022-07-21T14:16:16.336713Z"
    }
   },
   "outputs": [
    {
     "data": {
      "text/plain": [
       "True"
      ]
     },
     "execution_count": 21,
     "metadata": {},
     "output_type": "execute_result"
    }
   ],
   "source": [
    "model = densenet121()\n",
    "num_features = model.classifier.in_features\n",
    "model.classifier = nn.Sequential(\n",
    "    nn.Linear(num_features, num_features, bias=True),\n",
    "    nn.ReLU(),\n",
    "    nn.Dropout(p=0.1),\n",
    "    nn.Linear(in_features=num_features, out_features=Configs.NUM_DISEASE_CLASSES, bias=True)\n",
    ")\n",
    "model.eval()\n",
    "not model.training"
   ]
  },
  {
   "cell_type": "code",
   "execution_count": 22,
   "id": "7732388f",
   "metadata": {
    "ExecuteTime": {
     "end_time": "2022-07-21T14:16:17.750781Z",
     "start_time": "2022-07-21T14:16:17.420468Z"
    }
   },
   "outputs": [
    {
     "name": "stdout",
     "output_type": "stream",
     "text": [
      "2022-07-21 17:16: Loading model - CheXpert\\disease_prediction\\trained_models\\2022_07_12-18_47__densenet121_aug__epoch-5__iter-12659__batch_size-16__trainLastLoss-0.3754__validAUC-0.8899.dict\n"
     ]
    }
   ],
   "source": [
    "model, results, _, _ = shared_utils.load_statedict(model, disease_trained_models[0], Configs)"
   ]
  },
  {
   "cell_type": "code",
   "execution_count": 23,
   "id": "afdaa031",
   "metadata": {
    "ExecuteTime": {
     "end_time": "2022-07-21T14:16:26.245544Z",
     "start_time": "2022-07-21T14:16:18.895457Z"
    }
   },
   "outputs": [],
   "source": [
    "labels, outputs = shared_utils.get_metric_tensors(model, disease_valid_dataloader, Configs,\n",
    "                                                  apply_on_outputs=lambda x: torch.sigmoid(x),\n",
    "                                                  by_study=False, challenge_ann_only=None)"
   ]
  },
  {
   "cell_type": "code",
   "execution_count": 24,
   "id": "45b107fb",
   "metadata": {
    "ExecuteTime": {
     "end_time": "2022-07-21T14:16:27.662400Z",
     "start_time": "2022-07-21T14:16:27.511276Z"
    }
   },
   "outputs": [
    {
     "name": "stdout",
     "output_type": "stream",
     "text": [
      "Only one class present in y_true. ROC AUC score is not defined in that case.\n"
     ]
    },
    {
     "data": {
      "text/html": [
       "<div>\n",
       "<style scoped>\n",
       "    .dataframe tbody tr th:only-of-type {\n",
       "        vertical-align: middle;\n",
       "    }\n",
       "\n",
       "    .dataframe tbody tr th {\n",
       "        vertical-align: top;\n",
       "    }\n",
       "\n",
       "    .dataframe thead th {\n",
       "        text-align: right;\n",
       "    }\n",
       "</style>\n",
       "<table border=\"1\" class=\"dataframe\">\n",
       "  <thead>\n",
       "    <tr style=\"text-align: right;\">\n",
       "      <th></th>\n",
       "      <th>Atelectasis</th>\n",
       "      <th>Cardiomegaly</th>\n",
       "      <th>Consolidation</th>\n",
       "      <th>Edema</th>\n",
       "      <th>Pleural Effusion</th>\n",
       "    </tr>\n",
       "  </thead>\n",
       "  <tbody>\n",
       "    <tr>\n",
       "      <th>AUC</th>\n",
       "      <td>1.0</td>\n",
       "      <td>0.875</td>\n",
       "      <td>-1</td>\n",
       "      <td>1.0</td>\n",
       "      <td>1.0</td>\n",
       "    </tr>\n",
       "  </tbody>\n",
       "</table>\n",
       "</div>"
      ],
      "text/plain": [
       "     Atelectasis  Cardiomegaly  Consolidation  Edema  Pleural Effusion\n",
       "AUC          1.0         0.875             -1    1.0               1.0"
      ]
     },
     "execution_count": 24,
     "metadata": {},
     "output_type": "execute_result"
    }
   ],
   "source": [
    "df_res_disease = pd.DataFrame(columns=Configs.DISEASE_CLASSES, \n",
    "                              data=[shared_utils.auc_score(labels, outputs, per_class=True),],\n",
    "                             index=['AUC'])\n",
    "df_res_disease"
   ]
  },
  {
   "cell_type": "code",
   "execution_count": null,
   "id": "cffba2c1",
   "metadata": {},
   "outputs": [],
   "source": []
  },
  {
   "cell_type": "markdown",
   "id": "7bbbf178",
   "metadata": {},
   "source": [
    "# Race Prediction"
   ]
  },
  {
   "cell_type": "code",
   "execution_count": 27,
   "id": "e3dc1852",
   "metadata": {
    "ExecuteTime": {
     "end_time": "2022-07-21T14:19:24.707979Z",
     "start_time": "2022-07-21T14:19:24.413562Z"
    }
   },
   "outputs": [
    {
     "data": {
      "text/plain": [
       "172"
      ]
     },
     "execution_count": 27,
     "metadata": {},
     "output_type": "execute_result"
    }
   ],
   "source": [
    "# Create data loaders.\n",
    "race_valid_dataset = CheXpertRaceDataset(data_dir=Configs.DATA_DIR, demo_filename=Configs.DEMO_FILENAME,\n",
    "                                       labels_filename=Configs.VALID_LABELS_FILENAME,\n",
    "                                       transform=valid_transform)\n",
    "race_valid_dataloader = DataLoader(race_valid_dataset, batch_size=Configs.BATCH_SIZE, shuffle=False)\n",
    "Configs.TRAIN_LOADER_SIZE = len(race_valid_dataloader)\n",
    "len(race_valid_dataset)"
   ]
  },
  {
   "cell_type": "code",
   "execution_count": 36,
   "id": "0b78d6b4",
   "metadata": {
    "ExecuteTime": {
     "end_time": "2022-07-21T16:23:42.209187Z",
     "start_time": "2022-07-21T16:23:42.015805Z"
    }
   },
   "outputs": [
    {
     "data": {
      "text/plain": [
       "7"
      ]
     },
     "execution_count": 36,
     "metadata": {},
     "output_type": "execute_result"
    }
   ],
   "source": [
    "_, _, files = next(os.walk(Configs.RACE_TRAINED_MODELS_DIR))\n",
    "race_trained_models = [os.path.join(Configs.RACE_TRAINED_MODELS_DIR, file) for file in files]\n",
    "race_model_versions = [p.split('__')[1] for p in race_trained_models]\n",
    "len(race_trained_models)"
   ]
  },
  {
   "cell_type": "code",
   "execution_count": 47,
   "id": "cb42b9a0",
   "metadata": {
    "ExecuteTime": {
     "end_time": "2022-07-21T16:31:01.313615Z",
     "start_time": "2022-07-21T16:31:01.225770Z"
    }
   },
   "outputs": [
    {
     "data": {
      "text/html": [
       "<div>\n",
       "<style scoped>\n",
       "    .dataframe tbody tr th:only-of-type {\n",
       "        vertical-align: middle;\n",
       "    }\n",
       "\n",
       "    .dataframe tbody tr th {\n",
       "        vertical-align: top;\n",
       "    }\n",
       "\n",
       "    .dataframe thead th {\n",
       "        text-align: right;\n",
       "    }\n",
       "</style>\n",
       "<table border=\"1\" class=\"dataframe\">\n",
       "  <thead>\n",
       "    <tr style=\"text-align: right;\">\n",
       "      <th></th>\n",
       "      <th>White</th>\n",
       "      <th>Asian</th>\n",
       "      <th>Black</th>\n",
       "      <th>Hispanic</th>\n",
       "    </tr>\n",
       "  </thead>\n",
       "  <tbody>\n",
       "  </tbody>\n",
       "</table>\n",
       "</div>"
      ],
      "text/plain": [
       "Empty DataFrame\n",
       "Columns: [White, Asian, Black, Hispanic]\n",
       "Index: []"
      ]
     },
     "execution_count": 47,
     "metadata": {},
     "output_type": "execute_result"
    }
   ],
   "source": [
    "df_res_race = pd.DataFrame(columns=Configs.RACE_CLASSES)\n",
    "df_res_race"
   ]
  },
  {
   "cell_type": "code",
   "execution_count": 48,
   "id": "f6e7e6ab",
   "metadata": {
    "ExecuteTime": {
     "end_time": "2022-07-21T16:44:21.735440Z",
     "start_time": "2022-07-21T16:31:02.587322Z"
    }
   },
   "outputs": [
    {
     "name": "stdout",
     "output_type": "stream",
     "text": [
      "2022-07-21 19:31: Loading model - CheXpert\\race_prediction\\trained_models\\2022_07_17-14_07__densenet121_race__epoch-9__iter-10266__batch_size-16__trainLastLoss-0.2842__validAUC-0.9196.dict\n",
      "2022-07-21 19:31: Loading model - CheXpert\\race_prediction\\trained_models\\2022_07_18-10_11__densenet121_race_classifier_freezed__epoch-9__iter-10266__batch_size-16__trainLastLoss-0.732__validAUC-0.6978.dict\n",
      "2022-07-21 19:34: Loading model - CheXpert\\race_prediction\\trained_models\\2022_07_18-17_32__densenet121_race_denseblock4_freezed__epoch-9__iter-10266__batch_size-16__trainLastLoss-0.496__validAUC-0.8621.dict\n",
      "2022-07-21 19:37: Loading model - CheXpert\\race_prediction\\trained_models\\2022_07_18-21_46__densenet121_race_denseblock3_freezed__epoch-9__iter-10266__batch_size-16__trainLastLoss-0.3124__validAUC-0.8853.dict\n",
      "2022-07-21 19:39: Loading model - CheXpert\\race_prediction\\trained_models\\2022_07_19-02_27__densenet121_race_denseblock2_freezed__epoch-9__iter-10266__batch_size-16__trainLastLoss-0.2811__validAUC-0.9094.dict\n",
      "2022-07-21 19:41: Loading model - CheXpert\\race_prediction\\trained_models\\2022_07_19-15_29__densenet121_race_denseblock1_freezed__epoch-9__iter-10266__batch_size-16__trainLastLoss-0.2805__validAUC-0.9178.dict\n",
      "2022-07-21 19:44: Loading model - CheXpert\\race_prediction\\trained_models\\2022_07_20-05_37__densenet121_race_denseblock1_shallow__epoch-9__iter-10266__batch_size-16__trainLastLoss-0.7141__validAUC-0.7411.dict\n"
     ]
    },
    {
     "ename": "RuntimeError",
     "evalue": "Error(s) in loading state_dict for Sequential:\n\tMissing key(s) in state_dict: \"conv0.weight\", \"norm0.weight\", \"norm0.bias\", \"norm0.running_mean\", \"norm0.running_var\", \"denseblock1.denselayer1.norm1.weight\", \"denseblock1.denselayer1.norm1.bias\", \"denseblock1.denselayer1.norm1.running_mean\", \"denseblock1.denselayer1.norm1.running_var\", \"denseblock1.denselayer1.conv1.weight\", \"denseblock1.denselayer1.norm2.weight\", \"denseblock1.denselayer1.norm2.bias\", \"denseblock1.denselayer1.norm2.running_mean\", \"denseblock1.denselayer1.norm2.running_var\", \"denseblock1.denselayer1.conv2.weight\", \"denseblock1.denselayer2.norm1.weight\", \"denseblock1.denselayer2.norm1.bias\", \"denseblock1.denselayer2.norm1.running_mean\", \"denseblock1.denselayer2.norm1.running_var\", \"denseblock1.denselayer2.conv1.weight\", \"denseblock1.denselayer2.norm2.weight\", \"denseblock1.denselayer2.norm2.bias\", \"denseblock1.denselayer2.norm2.running_mean\", \"denseblock1.denselayer2.norm2.running_var\", \"denseblock1.denselayer2.conv2.weight\", \"denseblock1.denselayer3.norm1.weight\", \"denseblock1.denselayer3.norm1.bias\", \"denseblock1.denselayer3.norm1.running_mean\", \"denseblock1.denselayer3.norm1.running_var\", \"denseblock1.denselayer3.conv1.weight\", \"denseblock1.denselayer3.norm2.weight\", \"denseblock1.denselayer3.norm2.bias\", \"denseblock1.denselayer3.norm2.running_mean\", \"denseblock1.denselayer3.norm2.running_var\", \"denseblock1.denselayer3.conv2.weight\", \"denseblock1.denselayer4.norm1.weight\", \"denseblock1.denselayer4.norm1.bias\", \"denseblock1.denselayer4.norm1.running_mean\", \"denseblock1.denselayer4.norm1.running_var\", \"denseblock1.denselayer4.conv1.weight\", \"denseblock1.denselayer4.norm2.weight\", \"denseblock1.denselayer4.norm2.bias\", \"denseblock1.denselayer4.norm2.running_mean\", \"denseblock1.denselayer4.norm2.running_var\", \"denseblock1.denselayer4.conv2.weight\", \"denseblock1.denselayer5.norm1.weight\", \"denseblock1.denselayer5.norm1.bias\", \"denseblock1.denselayer5.norm1.running_mean\", \"denseblock1.denselayer5.norm1.running_var\", \"denseblock1.denselayer5.conv1.weight\", \"denseblock1.denselayer5.norm2.weight\", \"denseblock1.denselayer5.norm2.bias\", \"denseblock1.denselayer5.norm2.running_mean\", \"denseblock1.denselayer5.norm2.running_var\", \"denseblock1.denselayer5.conv2.weight\", \"denseblock1.denselayer6.norm1.weight\", \"denseblock1.denselayer6.norm1.bias\", \"denseblock1.denselayer6.norm1.running_mean\", \"denseblock1.denselayer6.norm1.running_var\", \"denseblock1.denselayer6.conv1.weight\", \"denseblock1.denselayer6.norm2.weight\", \"denseblock1.denselayer6.norm2.bias\", \"denseblock1.denselayer6.norm2.running_mean\", \"denseblock1.denselayer6.norm2.running_var\", \"denseblock1.denselayer6.conv2.weight\", \"classifier.0.weight\", \"classifier.0.bias\", \"classifier.0.running_mean\", \"classifier.0.running_var\", \"classifier.4.weight\", \"classifier.4.bias\", \"classifier.6.weight\", \"classifier.6.bias\". \n\tUnexpected key(s) in state_dict: \"0.conv0.weight\", \"0.norm0.weight\", \"0.norm0.bias\", \"0.norm0.running_mean\", \"0.norm0.running_var\", \"0.norm0.num_batches_tracked\", \"0.denseblock1.denselayer1.norm1.weight\", \"0.denseblock1.denselayer1.norm1.bias\", \"0.denseblock1.denselayer1.norm1.running_mean\", \"0.denseblock1.denselayer1.norm1.running_var\", \"0.denseblock1.denselayer1.norm1.num_batches_tracked\", \"0.denseblock1.denselayer1.conv1.weight\", \"0.denseblock1.denselayer1.norm2.weight\", \"0.denseblock1.denselayer1.norm2.bias\", \"0.denseblock1.denselayer1.norm2.running_mean\", \"0.denseblock1.denselayer1.norm2.running_var\", \"0.denseblock1.denselayer1.norm2.num_batches_tracked\", \"0.denseblock1.denselayer1.conv2.weight\", \"0.denseblock1.denselayer2.norm1.weight\", \"0.denseblock1.denselayer2.norm1.bias\", \"0.denseblock1.denselayer2.norm1.running_mean\", \"0.denseblock1.denselayer2.norm1.running_var\", \"0.denseblock1.denselayer2.norm1.num_batches_tracked\", \"0.denseblock1.denselayer2.conv1.weight\", \"0.denseblock1.denselayer2.norm2.weight\", \"0.denseblock1.denselayer2.norm2.bias\", \"0.denseblock1.denselayer2.norm2.running_mean\", \"0.denseblock1.denselayer2.norm2.running_var\", \"0.denseblock1.denselayer2.norm2.num_batches_tracked\", \"0.denseblock1.denselayer2.conv2.weight\", \"0.denseblock1.denselayer3.norm1.weight\", \"0.denseblock1.denselayer3.norm1.bias\", \"0.denseblock1.denselayer3.norm1.running_mean\", \"0.denseblock1.denselayer3.norm1.running_var\", \"0.denseblock1.denselayer3.norm1.num_batches_tracked\", \"0.denseblock1.denselayer3.conv1.weight\", \"0.denseblock1.denselayer3.norm2.weight\", \"0.denseblock1.denselayer3.norm2.bias\", \"0.denseblock1.denselayer3.norm2.running_mean\", \"0.denseblock1.denselayer3.norm2.running_var\", \"0.denseblock1.denselayer3.norm2.num_batches_tracked\", \"0.denseblock1.denselayer3.conv2.weight\", \"0.denseblock1.denselayer4.norm1.weight\", \"0.denseblock1.denselayer4.norm1.bias\", \"0.denseblock1.denselayer4.norm1.running_mean\", \"0.denseblock1.denselayer4.norm1.running_var\", \"0.denseblock1.denselayer4.norm1.num_batches_tracked\", \"0.denseblock1.denselayer4.conv1.weight\", \"0.denseblock1.denselayer4.norm2.weight\", \"0.denseblock1.denselayer4.norm2.bias\", \"0.denseblock1.denselayer4.norm2.running_mean\", \"0.denseblock1.denselayer4.norm2.running_var\", \"0.denseblock1.denselayer4.norm2.num_batches_tracked\", \"0.denseblock1.denselayer4.conv2.weight\", \"0.denseblock1.denselayer5.norm1.weight\", \"0.denseblock1.denselayer5.norm1.bias\", \"0.denseblock1.denselayer5.norm1.running_mean\", \"0.denseblock1.denselayer5.norm1.running_var\", \"0.denseblock1.denselayer5.norm1.num_batches_tracked\", \"0.denseblock1.denselayer5.conv1.weight\", \"0.denseblock1.denselayer5.norm2.weight\", \"0.denseblock1.denselayer5.norm2.bias\", \"0.denseblock1.denselayer5.norm2.running_mean\", \"0.denseblock1.denselayer5.norm2.running_var\", \"0.denseblock1.denselayer5.norm2.num_batches_tracked\", \"0.denseblock1.denselayer5.conv2.weight\", \"0.denseblock1.denselayer6.norm1.weight\", \"0.denseblock1.denselayer6.norm1.bias\", \"0.denseblock1.denselayer6.norm1.running_mean\", \"0.denseblock1.denselayer6.norm1.running_var\", \"0.denseblock1.denselayer6.norm1.num_batches_tracked\", \"0.denseblock1.denselayer6.conv1.weight\", \"0.denseblock1.denselayer6.norm2.weight\", \"0.denseblock1.denselayer6.norm2.bias\", \"0.denseblock1.denselayer6.norm2.running_mean\", \"0.denseblock1.denselayer6.norm2.running_var\", \"0.denseblock1.denselayer6.norm2.num_batches_tracked\", \"0.denseblock1.denselayer6.conv2.weight\", \"1.weight\", \"1.bias\", \"1.running_mean\", \"1.running_var\", \"1.num_batches_tracked\", \"5.weight\", \"5.bias\", \"7.weight\", \"7.bias\". ",
     "output_type": "error",
     "traceback": [
      "\u001b[1;31m---------------------------------------------------------------------------\u001b[0m",
      "\u001b[1;31mRuntimeError\u001b[0m                              Traceback (most recent call last)",
      "Input \u001b[1;32mIn [48]\u001b[0m, in \u001b[0;36m<cell line: 1>\u001b[1;34m()\u001b[0m\n\u001b[0;32m     20\u001b[0m     model\u001b[38;5;241m.\u001b[39mclassifier \u001b[38;5;241m=\u001b[39m nn\u001b[38;5;241m.\u001b[39mSequential(\n\u001b[0;32m     21\u001b[0m         nn\u001b[38;5;241m.\u001b[39mLinear(num_features, num_features, bias\u001b[38;5;241m=\u001b[39m\u001b[38;5;28;01mTrue\u001b[39;00m),\n\u001b[0;32m     22\u001b[0m         nn\u001b[38;5;241m.\u001b[39mReLU(),\n\u001b[0;32m     23\u001b[0m         nn\u001b[38;5;241m.\u001b[39mDropout(p\u001b[38;5;241m=\u001b[39m\u001b[38;5;241m0.1\u001b[39m),\n\u001b[0;32m     24\u001b[0m         nn\u001b[38;5;241m.\u001b[39mLinear(in_features\u001b[38;5;241m=\u001b[39mnum_features, out_features\u001b[38;5;241m=\u001b[39mConfigs\u001b[38;5;241m.\u001b[39mNUM_RACE_CLASSES, bias\u001b[38;5;241m=\u001b[39m\u001b[38;5;28;01mTrue\u001b[39;00m))\n\u001b[0;32m     25\u001b[0m model\u001b[38;5;241m.\u001b[39meval()\n\u001b[1;32m---> 26\u001b[0m model, results, _, _ \u001b[38;5;241m=\u001b[39m \u001b[43mshared_utils\u001b[49m\u001b[38;5;241;43m.\u001b[39;49m\u001b[43mload_statedict\u001b[49m\u001b[43m(\u001b[49m\u001b[43mmodel\u001b[49m\u001b[43m,\u001b[49m\u001b[43m \u001b[49m\u001b[43mmodel_path\u001b[49m\u001b[43m,\u001b[49m\u001b[43m \u001b[49m\u001b[43mConfigs\u001b[49m\u001b[43m)\u001b[49m\n\u001b[0;32m     27\u001b[0m labels, outputs \u001b[38;5;241m=\u001b[39m shared_utils\u001b[38;5;241m.\u001b[39mget_metric_tensors(model, race_valid_dataloader, Configs,\n\u001b[0;32m     28\u001b[0m                                                   apply_on_outputs\u001b[38;5;241m=\u001b[39m\u001b[38;5;28;01mlambda\u001b[39;00m x: torch\u001b[38;5;241m.\u001b[39msoftmax(x, dim\u001b[38;5;241m=\u001b[39m\u001b[38;5;241m1\u001b[39m),\n\u001b[0;32m     29\u001b[0m                                                   by_study\u001b[38;5;241m=\u001b[39m\u001b[38;5;28;01mFalse\u001b[39;00m, challenge_ann_only\u001b[38;5;241m=\u001b[39m\u001b[38;5;28;01mNone\u001b[39;00m)\n\u001b[0;32m     30\u001b[0m auc_scores \u001b[38;5;241m=\u001b[39m shared_utils\u001b[38;5;241m.\u001b[39mauc_score(labels, outputs, per_class\u001b[38;5;241m=\u001b[39m\u001b[38;5;28;01mTrue\u001b[39;00m)\n",
      "File \u001b[1;32mC:\\Projects\\Msc\\ML_Healthcare\\debiasing-racial-effect-in-medical-images\\CheXpert\\shared_utils.py:199\u001b[0m, in \u001b[0;36mload_statedict\u001b[1;34m(model, path, TrainingConfigs)\u001b[0m\n\u001b[0;32m    197\u001b[0m \u001b[38;5;28;01melse\u001b[39;00m:\n\u001b[0;32m    198\u001b[0m     statedata \u001b[38;5;241m=\u001b[39m torch\u001b[38;5;241m.\u001b[39mload(path, map_location\u001b[38;5;241m=\u001b[39mtorch\u001b[38;5;241m.\u001b[39mdevice(\u001b[38;5;124m'\u001b[39m\u001b[38;5;124mcuda\u001b[39m\u001b[38;5;124m'\u001b[39m))\n\u001b[1;32m--> 199\u001b[0m \u001b[43mmodel\u001b[49m\u001b[38;5;241;43m.\u001b[39;49m\u001b[43mload_state_dict\u001b[49m\u001b[43m(\u001b[49m\u001b[43mstatedata\u001b[49m\u001b[43m[\u001b[49m\u001b[38;5;124;43m'\u001b[39;49m\u001b[38;5;124;43mmodel\u001b[39;49m\u001b[38;5;124;43m'\u001b[39;49m\u001b[43m]\u001b[49m\u001b[43m)\u001b[49m\n\u001b[0;32m    200\u001b[0m statedata[\u001b[38;5;124m'\u001b[39m\u001b[38;5;124mmodel\u001b[39m\u001b[38;5;124m'\u001b[39m] \u001b[38;5;241m=\u001b[39m model\n\u001b[0;32m    201\u001b[0m \u001b[38;5;28;01mif\u001b[39;00m model\u001b[38;5;241m.\u001b[39mtraining:\n",
      "File \u001b[1;32mC:\\Anaconda\\envs\\MLH\\lib\\site-packages\\torch\\nn\\modules\\module.py:1604\u001b[0m, in \u001b[0;36mModule.load_state_dict\u001b[1;34m(self, state_dict, strict)\u001b[0m\n\u001b[0;32m   1599\u001b[0m         error_msgs\u001b[38;5;241m.\u001b[39minsert(\n\u001b[0;32m   1600\u001b[0m             \u001b[38;5;241m0\u001b[39m, \u001b[38;5;124m'\u001b[39m\u001b[38;5;124mMissing key(s) in state_dict: \u001b[39m\u001b[38;5;132;01m{}\u001b[39;00m\u001b[38;5;124m. \u001b[39m\u001b[38;5;124m'\u001b[39m\u001b[38;5;241m.\u001b[39mformat(\n\u001b[0;32m   1601\u001b[0m                 \u001b[38;5;124m'\u001b[39m\u001b[38;5;124m, \u001b[39m\u001b[38;5;124m'\u001b[39m\u001b[38;5;241m.\u001b[39mjoin(\u001b[38;5;124m'\u001b[39m\u001b[38;5;124m\"\u001b[39m\u001b[38;5;132;01m{}\u001b[39;00m\u001b[38;5;124m\"\u001b[39m\u001b[38;5;124m'\u001b[39m\u001b[38;5;241m.\u001b[39mformat(k) \u001b[38;5;28;01mfor\u001b[39;00m k \u001b[38;5;129;01min\u001b[39;00m missing_keys)))\n\u001b[0;32m   1603\u001b[0m \u001b[38;5;28;01mif\u001b[39;00m \u001b[38;5;28mlen\u001b[39m(error_msgs) \u001b[38;5;241m>\u001b[39m \u001b[38;5;241m0\u001b[39m:\n\u001b[1;32m-> 1604\u001b[0m     \u001b[38;5;28;01mraise\u001b[39;00m \u001b[38;5;167;01mRuntimeError\u001b[39;00m(\u001b[38;5;124m'\u001b[39m\u001b[38;5;124mError(s) in loading state_dict for \u001b[39m\u001b[38;5;132;01m{}\u001b[39;00m\u001b[38;5;124m:\u001b[39m\u001b[38;5;130;01m\\n\u001b[39;00m\u001b[38;5;130;01m\\t\u001b[39;00m\u001b[38;5;132;01m{}\u001b[39;00m\u001b[38;5;124m'\u001b[39m\u001b[38;5;241m.\u001b[39mformat(\n\u001b[0;32m   1605\u001b[0m                        \u001b[38;5;28mself\u001b[39m\u001b[38;5;241m.\u001b[39m\u001b[38;5;18m__class__\u001b[39m\u001b[38;5;241m.\u001b[39m\u001b[38;5;18m__name__\u001b[39m, \u001b[38;5;124m\"\u001b[39m\u001b[38;5;130;01m\\n\u001b[39;00m\u001b[38;5;130;01m\\t\u001b[39;00m\u001b[38;5;124m\"\u001b[39m\u001b[38;5;241m.\u001b[39mjoin(error_msgs)))\n\u001b[0;32m   1606\u001b[0m \u001b[38;5;28;01mreturn\u001b[39;00m _IncompatibleKeys(missing_keys, unexpected_keys)\n",
      "\u001b[1;31mRuntimeError\u001b[0m: Error(s) in loading state_dict for Sequential:\n\tMissing key(s) in state_dict: \"conv0.weight\", \"norm0.weight\", \"norm0.bias\", \"norm0.running_mean\", \"norm0.running_var\", \"denseblock1.denselayer1.norm1.weight\", \"denseblock1.denselayer1.norm1.bias\", \"denseblock1.denselayer1.norm1.running_mean\", \"denseblock1.denselayer1.norm1.running_var\", \"denseblock1.denselayer1.conv1.weight\", \"denseblock1.denselayer1.norm2.weight\", \"denseblock1.denselayer1.norm2.bias\", \"denseblock1.denselayer1.norm2.running_mean\", \"denseblock1.denselayer1.norm2.running_var\", \"denseblock1.denselayer1.conv2.weight\", \"denseblock1.denselayer2.norm1.weight\", \"denseblock1.denselayer2.norm1.bias\", \"denseblock1.denselayer2.norm1.running_mean\", \"denseblock1.denselayer2.norm1.running_var\", \"denseblock1.denselayer2.conv1.weight\", \"denseblock1.denselayer2.norm2.weight\", \"denseblock1.denselayer2.norm2.bias\", \"denseblock1.denselayer2.norm2.running_mean\", \"denseblock1.denselayer2.norm2.running_var\", \"denseblock1.denselayer2.conv2.weight\", \"denseblock1.denselayer3.norm1.weight\", \"denseblock1.denselayer3.norm1.bias\", \"denseblock1.denselayer3.norm1.running_mean\", \"denseblock1.denselayer3.norm1.running_var\", \"denseblock1.denselayer3.conv1.weight\", \"denseblock1.denselayer3.norm2.weight\", \"denseblock1.denselayer3.norm2.bias\", \"denseblock1.denselayer3.norm2.running_mean\", \"denseblock1.denselayer3.norm2.running_var\", \"denseblock1.denselayer3.conv2.weight\", \"denseblock1.denselayer4.norm1.weight\", \"denseblock1.denselayer4.norm1.bias\", \"denseblock1.denselayer4.norm1.running_mean\", \"denseblock1.denselayer4.norm1.running_var\", \"denseblock1.denselayer4.conv1.weight\", \"denseblock1.denselayer4.norm2.weight\", \"denseblock1.denselayer4.norm2.bias\", \"denseblock1.denselayer4.norm2.running_mean\", \"denseblock1.denselayer4.norm2.running_var\", \"denseblock1.denselayer4.conv2.weight\", \"denseblock1.denselayer5.norm1.weight\", \"denseblock1.denselayer5.norm1.bias\", \"denseblock1.denselayer5.norm1.running_mean\", \"denseblock1.denselayer5.norm1.running_var\", \"denseblock1.denselayer5.conv1.weight\", \"denseblock1.denselayer5.norm2.weight\", \"denseblock1.denselayer5.norm2.bias\", \"denseblock1.denselayer5.norm2.running_mean\", \"denseblock1.denselayer5.norm2.running_var\", \"denseblock1.denselayer5.conv2.weight\", \"denseblock1.denselayer6.norm1.weight\", \"denseblock1.denselayer6.norm1.bias\", \"denseblock1.denselayer6.norm1.running_mean\", \"denseblock1.denselayer6.norm1.running_var\", \"denseblock1.denselayer6.conv1.weight\", \"denseblock1.denselayer6.norm2.weight\", \"denseblock1.denselayer6.norm2.bias\", \"denseblock1.denselayer6.norm2.running_mean\", \"denseblock1.denselayer6.norm2.running_var\", \"denseblock1.denselayer6.conv2.weight\", \"classifier.0.weight\", \"classifier.0.bias\", \"classifier.0.running_mean\", \"classifier.0.running_var\", \"classifier.4.weight\", \"classifier.4.bias\", \"classifier.6.weight\", \"classifier.6.bias\". \n\tUnexpected key(s) in state_dict: \"0.conv0.weight\", \"0.norm0.weight\", \"0.norm0.bias\", \"0.norm0.running_mean\", \"0.norm0.running_var\", \"0.norm0.num_batches_tracked\", \"0.denseblock1.denselayer1.norm1.weight\", \"0.denseblock1.denselayer1.norm1.bias\", \"0.denseblock1.denselayer1.norm1.running_mean\", \"0.denseblock1.denselayer1.norm1.running_var\", \"0.denseblock1.denselayer1.norm1.num_batches_tracked\", \"0.denseblock1.denselayer1.conv1.weight\", \"0.denseblock1.denselayer1.norm2.weight\", \"0.denseblock1.denselayer1.norm2.bias\", \"0.denseblock1.denselayer1.norm2.running_mean\", \"0.denseblock1.denselayer1.norm2.running_var\", \"0.denseblock1.denselayer1.norm2.num_batches_tracked\", \"0.denseblock1.denselayer1.conv2.weight\", \"0.denseblock1.denselayer2.norm1.weight\", \"0.denseblock1.denselayer2.norm1.bias\", \"0.denseblock1.denselayer2.norm1.running_mean\", \"0.denseblock1.denselayer2.norm1.running_var\", \"0.denseblock1.denselayer2.norm1.num_batches_tracked\", \"0.denseblock1.denselayer2.conv1.weight\", \"0.denseblock1.denselayer2.norm2.weight\", \"0.denseblock1.denselayer2.norm2.bias\", \"0.denseblock1.denselayer2.norm2.running_mean\", \"0.denseblock1.denselayer2.norm2.running_var\", \"0.denseblock1.denselayer2.norm2.num_batches_tracked\", \"0.denseblock1.denselayer2.conv2.weight\", \"0.denseblock1.denselayer3.norm1.weight\", \"0.denseblock1.denselayer3.norm1.bias\", \"0.denseblock1.denselayer3.norm1.running_mean\", \"0.denseblock1.denselayer3.norm1.running_var\", \"0.denseblock1.denselayer3.norm1.num_batches_tracked\", \"0.denseblock1.denselayer3.conv1.weight\", \"0.denseblock1.denselayer3.norm2.weight\", \"0.denseblock1.denselayer3.norm2.bias\", \"0.denseblock1.denselayer3.norm2.running_mean\", \"0.denseblock1.denselayer3.norm2.running_var\", \"0.denseblock1.denselayer3.norm2.num_batches_tracked\", \"0.denseblock1.denselayer3.conv2.weight\", \"0.denseblock1.denselayer4.norm1.weight\", \"0.denseblock1.denselayer4.norm1.bias\", \"0.denseblock1.denselayer4.norm1.running_mean\", \"0.denseblock1.denselayer4.norm1.running_var\", \"0.denseblock1.denselayer4.norm1.num_batches_tracked\", \"0.denseblock1.denselayer4.conv1.weight\", \"0.denseblock1.denselayer4.norm2.weight\", \"0.denseblock1.denselayer4.norm2.bias\", \"0.denseblock1.denselayer4.norm2.running_mean\", \"0.denseblock1.denselayer4.norm2.running_var\", \"0.denseblock1.denselayer4.norm2.num_batches_tracked\", \"0.denseblock1.denselayer4.conv2.weight\", \"0.denseblock1.denselayer5.norm1.weight\", \"0.denseblock1.denselayer5.norm1.bias\", \"0.denseblock1.denselayer5.norm1.running_mean\", \"0.denseblock1.denselayer5.norm1.running_var\", \"0.denseblock1.denselayer5.norm1.num_batches_tracked\", \"0.denseblock1.denselayer5.conv1.weight\", \"0.denseblock1.denselayer5.norm2.weight\", \"0.denseblock1.denselayer5.norm2.bias\", \"0.denseblock1.denselayer5.norm2.running_mean\", \"0.denseblock1.denselayer5.norm2.running_var\", \"0.denseblock1.denselayer5.norm2.num_batches_tracked\", \"0.denseblock1.denselayer5.conv2.weight\", \"0.denseblock1.denselayer6.norm1.weight\", \"0.denseblock1.denselayer6.norm1.bias\", \"0.denseblock1.denselayer6.norm1.running_mean\", \"0.denseblock1.denselayer6.norm1.running_var\", \"0.denseblock1.denselayer6.norm1.num_batches_tracked\", \"0.denseblock1.denselayer6.conv1.weight\", \"0.denseblock1.denselayer6.norm2.weight\", \"0.denseblock1.denselayer6.norm2.bias\", \"0.denseblock1.denselayer6.norm2.running_mean\", \"0.denseblock1.denselayer6.norm2.running_var\", \"0.denseblock1.denselayer6.norm2.num_batches_tracked\", \"0.denseblock1.denselayer6.conv2.weight\", \"1.weight\", \"1.bias\", \"1.running_mean\", \"1.running_var\", \"1.num_batches_tracked\", \"5.weight\", \"5.bias\", \"7.weight\", \"7.bias\". "
     ]
    }
   ],
   "source": [
    "for model_version, model_path in zip(model_versions, race_trained_models):\n",
    "    model = densenet121()\n",
    "    \n",
    "    if \"shallow\" in model_version:\n",
    "        shallow_denseblock = int(model_version.split('_')[2][10:])\n",
    "        layer_offset = 3 + 2 * shallow_denseblock\n",
    "        num_features = model.features[layer_offset].norm.num_features\n",
    "        model = model.features[:layer_offset]\n",
    "        classifier_module = nn.Sequential(\n",
    "            nn.BatchNorm2d(num_features, eps=1e-05, momentum=0.1, affine=True, track_running_stats=True),\n",
    "            nn.ReLU(),\n",
    "            nn.AdaptiveAvgPool2d((1, 1)),   \n",
    "            nn.Flatten(start_dim=1),\n",
    "            nn.Linear(in_features=num_features, out_features=num_features, bias=True),\n",
    "            nn.Dropout(p=0.1),\n",
    "            nn.Linear(in_features=num_features, out_features=Configs.NUM_RACE_CLASSES, bias=True))\n",
    "        model.add_module('classifier', classifier_module)\n",
    "    else:\n",
    "        num_features = model.classifier.in_features\n",
    "        model.classifier = nn.Sequential(\n",
    "            nn.Linear(num_features, num_features, bias=True),\n",
    "            nn.ReLU(),\n",
    "            nn.Dropout(p=0.1),\n",
    "            nn.Linear(in_features=num_features, out_features=Configs.NUM_RACE_CLASSES, bias=True))\n",
    "    model.eval()\n",
    "    model, results, _, _ = shared_utils.load_statedict(model, model_path, Configs)\n",
    "    labels, outputs = shared_utils.get_metric_tensors(model, race_valid_dataloader, Configs,\n",
    "                                                      apply_on_outputs=lambda x: torch.softmax(x, dim=1),\n",
    "                                                      by_study=False, challenge_ann_only=None)\n",
    "    auc_scores = shared_utils.auc_score(labels, outputs, per_class=True)\n",
    "    df_res_race.loc[model_version] = auc_scores\n",
    "\n",
    "df_res_disease   "
   ]
  },
  {
   "cell_type": "code",
   "execution_count": null,
   "id": "c05199b1",
   "metadata": {},
   "outputs": [],
   "source": []
  },
  {
   "cell_type": "code",
   "execution_count": null,
   "id": "d4675ca6",
   "metadata": {},
   "outputs": [],
   "source": []
  }
 ],
 "metadata": {
  "kernelspec": {
   "display_name": "Python 3 (ipykernel)",
   "language": "python",
   "name": "python3"
  },
  "language_info": {
   "codemirror_mode": {
    "name": "ipython",
    "version": 3
   },
   "file_extension": ".py",
   "mimetype": "text/x-python",
   "name": "python",
   "nbconvert_exporter": "python",
   "pygments_lexer": "ipython3",
   "version": "3.9.12"
  },
  "toc": {
   "base_numbering": 1,
   "nav_menu": {},
   "number_sections": true,
   "sideBar": true,
   "skip_h1_title": false,
   "title_cell": "Table of Contents",
   "title_sidebar": "Contents",
   "toc_cell": false,
   "toc_position": {},
   "toc_section_display": true,
   "toc_window_display": false
  },
  "varInspector": {
   "cols": {
    "lenName": 16,
    "lenType": 16,
    "lenVar": 40
   },
   "kernels_config": {
    "python": {
     "delete_cmd_postfix": "",
     "delete_cmd_prefix": "del ",
     "library": "var_list.py",
     "varRefreshCmd": "print(var_dic_list())"
    },
    "r": {
     "delete_cmd_postfix": ") ",
     "delete_cmd_prefix": "rm(",
     "library": "var_list.r",
     "varRefreshCmd": "cat(var_dic_list()) "
    }
   },
   "types_to_exclude": [
    "module",
    "function",
    "builtin_function_or_method",
    "instance",
    "_Feature"
   ],
   "window_display": false
  }
 },
 "nbformat": 4,
 "nbformat_minor": 5
}
